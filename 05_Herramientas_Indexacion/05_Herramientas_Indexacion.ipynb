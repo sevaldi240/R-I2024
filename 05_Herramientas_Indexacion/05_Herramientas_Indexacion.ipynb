{
  "cells": [
    {
      "cell_type": "markdown",
      "metadata": {
        "id": "M4Vvs3umyF-T"
      },
      "source": [
        "# Preparacion del Dataset\n"
      ]
    },
    {
      "cell_type": "markdown",
      "metadata": {
        "id": "FMvkmRMGoGDi"
      },
      "source": [
        "Almacenar el csv en un dataframe"
      ]
    },
    {
      "cell_type": "code",
      "execution_count": 1,
      "metadata": {},
      "outputs": [],
      "source": [
        "import pandas as pd\n",
        "import re\n",
        "from collections import defaultdict\n",
        "import nltk\n",
        "from nltk.corpus import stopwords\n"
      ]
    },
    {
      "cell_type": "code",
      "execution_count": 2,
      "metadata": {
        "id": "-7aDLHtnvV7B"
      },
      "outputs": [],
      "source": [
        "archivo_csv = 'wiki_movie_plots_deduped.csv'\n",
        "df = pd.read_csv(archivo_csv)"
      ]
    },
    {
      "cell_type": "markdown",
      "metadata": {
        "id": "ijLaGPoTzEE9"
      },
      "source": [
        "Mantener solo las columnas relevantes"
      ]
    },
    {
      "cell_type": "code",
      "execution_count": 3,
      "metadata": {
        "colab": {
          "base_uri": "https://localhost:8080/",
          "height": 310
        },
        "id": "bsPoO0TmyVep",
        "outputId": "5f027a45-91a2-4d03-f69a-b86d4e1cd7bb"
      },
      "outputs": [
        {
          "data": {
            "text/html": [
              "<div>\n",
              "<style scoped>\n",
              "    .dataframe tbody tr th:only-of-type {\n",
              "        vertical-align: middle;\n",
              "    }\n",
              "\n",
              "    .dataframe tbody tr th {\n",
              "        vertical-align: top;\n",
              "    }\n",
              "\n",
              "    .dataframe thead th {\n",
              "        text-align: right;\n",
              "    }\n",
              "</style>\n",
              "<table border=\"1\" class=\"dataframe\">\n",
              "  <thead>\n",
              "    <tr style=\"text-align: right;\">\n",
              "      <th></th>\n",
              "      <th>Release Year</th>\n",
              "      <th>Title</th>\n",
              "      <th>Plot</th>\n",
              "    </tr>\n",
              "  </thead>\n",
              "  <tbody>\n",
              "    <tr>\n",
              "      <th>0</th>\n",
              "      <td>1901</td>\n",
              "      <td>Kansas Saloon Smashers</td>\n",
              "      <td>A bartender is working at a saloon, serving dr...</td>\n",
              "    </tr>\n",
              "    <tr>\n",
              "      <th>1</th>\n",
              "      <td>1901</td>\n",
              "      <td>Love by the Light of the Moon</td>\n",
              "      <td>The moon, painted with a smiling face hangs ov...</td>\n",
              "    </tr>\n",
              "    <tr>\n",
              "      <th>2</th>\n",
              "      <td>1901</td>\n",
              "      <td>The Martyred Presidents</td>\n",
              "      <td>The film, just over a minute long, is composed...</td>\n",
              "    </tr>\n",
              "    <tr>\n",
              "      <th>3</th>\n",
              "      <td>1901</td>\n",
              "      <td>Terrible Teddy, the Grizzly King</td>\n",
              "      <td>Lasting just 61 seconds and consisting of two ...</td>\n",
              "    </tr>\n",
              "    <tr>\n",
              "      <th>4</th>\n",
              "      <td>1902</td>\n",
              "      <td>Jack and the Beanstalk</td>\n",
              "      <td>The earliest known adaptation of the classic f...</td>\n",
              "    </tr>\n",
              "  </tbody>\n",
              "</table>\n",
              "</div>"
            ],
            "text/plain": [
              "   Release Year                             Title  \\\n",
              "0          1901            Kansas Saloon Smashers   \n",
              "1          1901     Love by the Light of the Moon   \n",
              "2          1901           The Martyred Presidents   \n",
              "3          1901  Terrible Teddy, the Grizzly King   \n",
              "4          1902            Jack and the Beanstalk   \n",
              "\n",
              "                                                Plot  \n",
              "0  A bartender is working at a saloon, serving dr...  \n",
              "1  The moon, painted with a smiling face hangs ov...  \n",
              "2  The film, just over a minute long, is composed...  \n",
              "3  Lasting just 61 seconds and consisting of two ...  \n",
              "4  The earliest known adaptation of the classic f...  "
            ]
          },
          "execution_count": 3,
          "metadata": {},
          "output_type": "execute_result"
        }
      ],
      "source": [
        "df_final = df[['Release Year','Title', 'Plot']]\n",
        "df_final.head()"
      ]
    },
    {
      "cell_type": "markdown",
      "metadata": {
        "id": "IkKsBYMy00My"
      },
      "source": [
        "Verificar si existen valores nulos"
      ]
    },
    {
      "cell_type": "code",
      "execution_count": 4,
      "metadata": {
        "colab": {
          "base_uri": "https://localhost:8080/",
          "height": 178
        },
        "id": "8sBx26ioyVlx",
        "outputId": "0e7ea3ea-8a7d-4521-b028-acc0b2ffe17f"
      },
      "outputs": [
        {
          "data": {
            "text/plain": [
              "Release Year    0\n",
              "Title           0\n",
              "Plot            0\n",
              "dtype: int64"
            ]
          },
          "execution_count": 4,
          "metadata": {},
          "output_type": "execute_result"
        }
      ],
      "source": [
        "df_final.isna().sum()"
      ]
    },
    {
      "cell_type": "markdown",
      "metadata": {
        "id": "XM8K9SlA189z"
      },
      "source": [
        "Convertir a minusculas y eliminar signos de puntuación"
      ]
    },
    {
      "cell_type": "code",
      "execution_count": 5,
      "metadata": {
        "colab": {
          "base_uri": "https://localhost:8080/"
        },
        "id": "X461K_4tyVpN",
        "outputId": "c69ad699-a77e-4b9c-cad5-c654a23078b6"
      },
      "outputs": [
        {
          "name": "stderr",
          "output_type": "stream",
          "text": [
            "C:\\Users\\klebe\\AppData\\Local\\Temp\\ipykernel_10844\\2429903571.py:1: SettingWithCopyWarning: \n",
            "A value is trying to be set on a copy of a slice from a DataFrame.\n",
            "Try using .loc[row_indexer,col_indexer] = value instead\n",
            "\n",
            "See the caveats in the documentation: https://pandas.pydata.org/pandas-docs/stable/user_guide/indexing.html#returning-a-view-versus-a-copy\n",
            "  df_final.loc[:, 'textoLimpio'] = df_final['Plot'].str.lower().str.replace('.', '', regex=False).str.replace(',', '', regex=False)\n"
          ]
        }
      ],
      "source": [
        "df_final.loc[:, 'textoLimpio'] = df_final['Plot'].str.lower().str.replace('.', '', regex=False).str.replace(',', '', regex=False)\n"
      ]
    },
    {
      "cell_type": "code",
      "execution_count": 6,
      "metadata": {
        "colab": {
          "base_uri": "https://localhost:8080/",
          "height": 345
        },
        "id": "LmzVAfx42tRB",
        "outputId": "52eda5a7-1b4a-4b76-eceb-840b78681ec6"
      },
      "outputs": [
        {
          "data": {
            "text/html": [
              "<div>\n",
              "<style scoped>\n",
              "    .dataframe tbody tr th:only-of-type {\n",
              "        vertical-align: middle;\n",
              "    }\n",
              "\n",
              "    .dataframe tbody tr th {\n",
              "        vertical-align: top;\n",
              "    }\n",
              "\n",
              "    .dataframe thead th {\n",
              "        text-align: right;\n",
              "    }\n",
              "</style>\n",
              "<table border=\"1\" class=\"dataframe\">\n",
              "  <thead>\n",
              "    <tr style=\"text-align: right;\">\n",
              "      <th></th>\n",
              "      <th>Release Year</th>\n",
              "      <th>Title</th>\n",
              "      <th>Plot</th>\n",
              "      <th>textoLimpio</th>\n",
              "    </tr>\n",
              "  </thead>\n",
              "  <tbody>\n",
              "    <tr>\n",
              "      <th>0</th>\n",
              "      <td>1901</td>\n",
              "      <td>Kansas Saloon Smashers</td>\n",
              "      <td>A bartender is working at a saloon, serving dr...</td>\n",
              "      <td>a bartender is working at a saloon serving dri...</td>\n",
              "    </tr>\n",
              "    <tr>\n",
              "      <th>1</th>\n",
              "      <td>1901</td>\n",
              "      <td>Love by the Light of the Moon</td>\n",
              "      <td>The moon, painted with a smiling face hangs ov...</td>\n",
              "      <td>the moon painted with a smiling face hangs ove...</td>\n",
              "    </tr>\n",
              "    <tr>\n",
              "      <th>2</th>\n",
              "      <td>1901</td>\n",
              "      <td>The Martyred Presidents</td>\n",
              "      <td>The film, just over a minute long, is composed...</td>\n",
              "      <td>the film just over a minute long is composed o...</td>\n",
              "    </tr>\n",
              "    <tr>\n",
              "      <th>3</th>\n",
              "      <td>1901</td>\n",
              "      <td>Terrible Teddy, the Grizzly King</td>\n",
              "      <td>Lasting just 61 seconds and consisting of two ...</td>\n",
              "      <td>lasting just 61 seconds and consisting of two ...</td>\n",
              "    </tr>\n",
              "    <tr>\n",
              "      <th>4</th>\n",
              "      <td>1902</td>\n",
              "      <td>Jack and the Beanstalk</td>\n",
              "      <td>The earliest known adaptation of the classic f...</td>\n",
              "      <td>the earliest known adaptation of the classic f...</td>\n",
              "    </tr>\n",
              "  </tbody>\n",
              "</table>\n",
              "</div>"
            ],
            "text/plain": [
              "   Release Year                             Title  \\\n",
              "0          1901            Kansas Saloon Smashers   \n",
              "1          1901     Love by the Light of the Moon   \n",
              "2          1901           The Martyred Presidents   \n",
              "3          1901  Terrible Teddy, the Grizzly King   \n",
              "4          1902            Jack and the Beanstalk   \n",
              "\n",
              "                                                Plot  \\\n",
              "0  A bartender is working at a saloon, serving dr...   \n",
              "1  The moon, painted with a smiling face hangs ov...   \n",
              "2  The film, just over a minute long, is composed...   \n",
              "3  Lasting just 61 seconds and consisting of two ...   \n",
              "4  The earliest known adaptation of the classic f...   \n",
              "\n",
              "                                         textoLimpio  \n",
              "0  a bartender is working at a saloon serving dri...  \n",
              "1  the moon painted with a smiling face hangs ove...  \n",
              "2  the film just over a minute long is composed o...  \n",
              "3  lasting just 61 seconds and consisting of two ...  \n",
              "4  the earliest known adaptation of the classic f...  "
            ]
          },
          "execution_count": 6,
          "metadata": {},
          "output_type": "execute_result"
        }
      ],
      "source": [
        "df_final.head()"
      ]
    },
    {
      "cell_type": "markdown",
      "metadata": {
        "id": "VMkJCqn16xU1"
      },
      "source": [
        "## Tokenizacion"
      ]
    },
    {
      "cell_type": "code",
      "execution_count": 7,
      "metadata": {
        "colab": {
          "base_uri": "https://localhost:8080/"
        },
        "id": "ENFHMWJe6QuF",
        "outputId": "de7e018b-5ae0-42b3-821f-b39c2f75347e"
      },
      "outputs": [
        {
          "name": "stderr",
          "output_type": "stream",
          "text": [
            "[nltk_data] Downloading package punkt_tab to\n",
            "[nltk_data]     C:\\Users\\klebe\\AppData\\Roaming\\nltk_data...\n",
            "[nltk_data]   Unzipping tokenizers\\punkt_tab.zip.\n",
            "C:\\Users\\klebe\\AppData\\Local\\Temp\\ipykernel_10844\\2161189076.py:5: SettingWithCopyWarning: \n",
            "A value is trying to be set on a copy of a slice from a DataFrame.\n",
            "Try using .loc[row_indexer,col_indexer] = value instead\n",
            "\n",
            "See the caveats in the documentation: https://pandas.pydata.org/pandas-docs/stable/user_guide/indexing.html#returning-a-view-versus-a-copy\n",
            "  df_final.loc[:, 'tokens'] = df_final['textoLimpio'].apply(word_tokenize)\n"
          ]
        }
      ],
      "source": [
        "import nltk\n",
        "nltk.download('punkt_tab')\n",
        "from nltk.tokenize import word_tokenize\n",
        "\n",
        "df_final.loc[:, 'tokens'] = df_final['textoLimpio'].apply(word_tokenize)"
      ]
    },
    {
      "cell_type": "code",
      "execution_count": 8,
      "metadata": {
        "colab": {
          "base_uri": "https://localhost:8080/",
          "height": 156
        },
        "id": "kezzKTeFubP4",
        "outputId": "3d0c28ee-63e3-4174-996a-75aa5fa09b60"
      },
      "outputs": [
        {
          "data": {
            "text/plain": [
              "<bound method Downloader.download of <nltk.downloader.Downloader object at 0x000001F26D1742F0>>"
            ]
          },
          "execution_count": 8,
          "metadata": {},
          "output_type": "execute_result"
        }
      ],
      "source": [
        "import nltk\n",
        "nltk.download"
      ]
    },
    {
      "cell_type": "code",
      "execution_count": 9,
      "metadata": {
        "colab": {
          "base_uri": "https://localhost:8080/",
          "height": 467
        },
        "id": "LRlas9P87GHN",
        "outputId": "0a6f4000-d96a-442a-9ca8-7ecf6b7f07a8"
      },
      "outputs": [
        {
          "data": {
            "text/html": [
              "<div>\n",
              "<style scoped>\n",
              "    .dataframe tbody tr th:only-of-type {\n",
              "        vertical-align: middle;\n",
              "    }\n",
              "\n",
              "    .dataframe tbody tr th {\n",
              "        vertical-align: top;\n",
              "    }\n",
              "\n",
              "    .dataframe thead th {\n",
              "        text-align: right;\n",
              "    }\n",
              "</style>\n",
              "<table border=\"1\" class=\"dataframe\">\n",
              "  <thead>\n",
              "    <tr style=\"text-align: right;\">\n",
              "      <th></th>\n",
              "      <th>Release Year</th>\n",
              "      <th>Title</th>\n",
              "      <th>Plot</th>\n",
              "      <th>textoLimpio</th>\n",
              "      <th>tokens</th>\n",
              "    </tr>\n",
              "  </thead>\n",
              "  <tbody>\n",
              "    <tr>\n",
              "      <th>0</th>\n",
              "      <td>1901</td>\n",
              "      <td>Kansas Saloon Smashers</td>\n",
              "      <td>A bartender is working at a saloon, serving dr...</td>\n",
              "      <td>a bartender is working at a saloon serving dri...</td>\n",
              "      <td>[a, bartender, is, working, at, a, saloon, ser...</td>\n",
              "    </tr>\n",
              "    <tr>\n",
              "      <th>1</th>\n",
              "      <td>1901</td>\n",
              "      <td>Love by the Light of the Moon</td>\n",
              "      <td>The moon, painted with a smiling face hangs ov...</td>\n",
              "      <td>the moon painted with a smiling face hangs ove...</td>\n",
              "      <td>[the, moon, painted, with, a, smiling, face, h...</td>\n",
              "    </tr>\n",
              "    <tr>\n",
              "      <th>2</th>\n",
              "      <td>1901</td>\n",
              "      <td>The Martyred Presidents</td>\n",
              "      <td>The film, just over a minute long, is composed...</td>\n",
              "      <td>the film just over a minute long is composed o...</td>\n",
              "      <td>[the, film, just, over, a, minute, long, is, c...</td>\n",
              "    </tr>\n",
              "    <tr>\n",
              "      <th>3</th>\n",
              "      <td>1901</td>\n",
              "      <td>Terrible Teddy, the Grizzly King</td>\n",
              "      <td>Lasting just 61 seconds and consisting of two ...</td>\n",
              "      <td>lasting just 61 seconds and consisting of two ...</td>\n",
              "      <td>[lasting, just, 61, seconds, and, consisting, ...</td>\n",
              "    </tr>\n",
              "    <tr>\n",
              "      <th>4</th>\n",
              "      <td>1902</td>\n",
              "      <td>Jack and the Beanstalk</td>\n",
              "      <td>The earliest known adaptation of the classic f...</td>\n",
              "      <td>the earliest known adaptation of the classic f...</td>\n",
              "      <td>[the, earliest, known, adaptation, of, the, cl...</td>\n",
              "    </tr>\n",
              "  </tbody>\n",
              "</table>\n",
              "</div>"
            ],
            "text/plain": [
              "   Release Year                             Title  \\\n",
              "0          1901            Kansas Saloon Smashers   \n",
              "1          1901     Love by the Light of the Moon   \n",
              "2          1901           The Martyred Presidents   \n",
              "3          1901  Terrible Teddy, the Grizzly King   \n",
              "4          1902            Jack and the Beanstalk   \n",
              "\n",
              "                                                Plot  \\\n",
              "0  A bartender is working at a saloon, serving dr...   \n",
              "1  The moon, painted with a smiling face hangs ov...   \n",
              "2  The film, just over a minute long, is composed...   \n",
              "3  Lasting just 61 seconds and consisting of two ...   \n",
              "4  The earliest known adaptation of the classic f...   \n",
              "\n",
              "                                         textoLimpio  \\\n",
              "0  a bartender is working at a saloon serving dri...   \n",
              "1  the moon painted with a smiling face hangs ove...   \n",
              "2  the film just over a minute long is composed o...   \n",
              "3  lasting just 61 seconds and consisting of two ...   \n",
              "4  the earliest known adaptation of the classic f...   \n",
              "\n",
              "                                              tokens  \n",
              "0  [a, bartender, is, working, at, a, saloon, ser...  \n",
              "1  [the, moon, painted, with, a, smiling, face, h...  \n",
              "2  [the, film, just, over, a, minute, long, is, c...  \n",
              "3  [lasting, just, 61, seconds, and, consisting, ...  \n",
              "4  [the, earliest, known, adaptation, of, the, cl...  "
            ]
          },
          "execution_count": 9,
          "metadata": {},
          "output_type": "execute_result"
        }
      ],
      "source": [
        "df_final.head()"
      ]
    },
    {
      "cell_type": "markdown",
      "metadata": {
        "id": "CQ-9fcB__7r5"
      },
      "source": [
        "# Eliminar Stopwords"
      ]
    },
    {
      "cell_type": "code",
      "execution_count": 10,
      "metadata": {
        "colab": {
          "base_uri": "https://localhost:8080/"
        },
        "id": "Dcpsueam_6m8",
        "outputId": "30ae3ac1-5593-4b7f-c97d-7ab223153797"
      },
      "outputs": [
        {
          "name": "stderr",
          "output_type": "stream",
          "text": [
            "[nltk_data] Downloading package stopwords to\n",
            "[nltk_data]     C:\\Users\\klebe\\AppData\\Roaming\\nltk_data...\n",
            "[nltk_data]   Package stopwords is already up-to-date!\n"
          ]
        }
      ],
      "source": [
        "nltk.download('stopwords')\n",
        "from nltk.corpus import stopwords\n",
        "stop_words = set(stopwords.words('english'))\n",
        "df_final.loc[:, 'tokens'] = df_final['tokens'].apply(lambda tokens: [token for token in tokens if token not in stop_words])"
      ]
    },
    {
      "cell_type": "code",
      "execution_count": 11,
      "metadata": {
        "colab": {
          "base_uri": "https://localhost:8080/",
          "height": 449
        },
        "id": "7vKSTdFZAcuP",
        "outputId": "a3e4eeb4-f0f8-443f-d206-273d34e56201"
      },
      "outputs": [
        {
          "data": {
            "text/html": [
              "<div>\n",
              "<style scoped>\n",
              "    .dataframe tbody tr th:only-of-type {\n",
              "        vertical-align: middle;\n",
              "    }\n",
              "\n",
              "    .dataframe tbody tr th {\n",
              "        vertical-align: top;\n",
              "    }\n",
              "\n",
              "    .dataframe thead th {\n",
              "        text-align: right;\n",
              "    }\n",
              "</style>\n",
              "<table border=\"1\" class=\"dataframe\">\n",
              "  <thead>\n",
              "    <tr style=\"text-align: right;\">\n",
              "      <th></th>\n",
              "      <th>Release Year</th>\n",
              "      <th>Title</th>\n",
              "      <th>Plot</th>\n",
              "      <th>textoLimpio</th>\n",
              "      <th>tokens</th>\n",
              "    </tr>\n",
              "  </thead>\n",
              "  <tbody>\n",
              "    <tr>\n",
              "      <th>0</th>\n",
              "      <td>1901</td>\n",
              "      <td>Kansas Saloon Smashers</td>\n",
              "      <td>A bartender is working at a saloon, serving dr...</td>\n",
              "      <td>a bartender is working at a saloon serving dri...</td>\n",
              "      <td>[bartender, working, saloon, serving, drinks, ...</td>\n",
              "    </tr>\n",
              "    <tr>\n",
              "      <th>1</th>\n",
              "      <td>1901</td>\n",
              "      <td>Love by the Light of the Moon</td>\n",
              "      <td>The moon, painted with a smiling face hangs ov...</td>\n",
              "      <td>the moon painted with a smiling face hangs ove...</td>\n",
              "      <td>[moon, painted, smiling, face, hangs, park, ni...</td>\n",
              "    </tr>\n",
              "    <tr>\n",
              "      <th>2</th>\n",
              "      <td>1901</td>\n",
              "      <td>The Martyred Presidents</td>\n",
              "      <td>The film, just over a minute long, is composed...</td>\n",
              "      <td>the film just over a minute long is composed o...</td>\n",
              "      <td>[film, minute, long, composed, two, shots, fir...</td>\n",
              "    </tr>\n",
              "    <tr>\n",
              "      <th>3</th>\n",
              "      <td>1901</td>\n",
              "      <td>Terrible Teddy, the Grizzly King</td>\n",
              "      <td>Lasting just 61 seconds and consisting of two ...</td>\n",
              "      <td>lasting just 61 seconds and consisting of two ...</td>\n",
              "      <td>[lasting, 61, seconds, consisting, two, shots,...</td>\n",
              "    </tr>\n",
              "    <tr>\n",
              "      <th>4</th>\n",
              "      <td>1902</td>\n",
              "      <td>Jack and the Beanstalk</td>\n",
              "      <td>The earliest known adaptation of the classic f...</td>\n",
              "      <td>the earliest known adaptation of the classic f...</td>\n",
              "      <td>[earliest, known, adaptation, classic, fairyta...</td>\n",
              "    </tr>\n",
              "  </tbody>\n",
              "</table>\n",
              "</div>"
            ],
            "text/plain": [
              "   Release Year                             Title  \\\n",
              "0          1901            Kansas Saloon Smashers   \n",
              "1          1901     Love by the Light of the Moon   \n",
              "2          1901           The Martyred Presidents   \n",
              "3          1901  Terrible Teddy, the Grizzly King   \n",
              "4          1902            Jack and the Beanstalk   \n",
              "\n",
              "                                                Plot  \\\n",
              "0  A bartender is working at a saloon, serving dr...   \n",
              "1  The moon, painted with a smiling face hangs ov...   \n",
              "2  The film, just over a minute long, is composed...   \n",
              "3  Lasting just 61 seconds and consisting of two ...   \n",
              "4  The earliest known adaptation of the classic f...   \n",
              "\n",
              "                                         textoLimpio  \\\n",
              "0  a bartender is working at a saloon serving dri...   \n",
              "1  the moon painted with a smiling face hangs ove...   \n",
              "2  the film just over a minute long is composed o...   \n",
              "3  lasting just 61 seconds and consisting of two ...   \n",
              "4  the earliest known adaptation of the classic f...   \n",
              "\n",
              "                                              tokens  \n",
              "0  [bartender, working, saloon, serving, drinks, ...  \n",
              "1  [moon, painted, smiling, face, hangs, park, ni...  \n",
              "2  [film, minute, long, composed, two, shots, fir...  \n",
              "3  [lasting, 61, seconds, consisting, two, shots,...  \n",
              "4  [earliest, known, adaptation, classic, fairyta...  "
            ]
          },
          "execution_count": 11,
          "metadata": {},
          "output_type": "execute_result"
        }
      ],
      "source": [
        "df_final.head()"
      ]
    },
    {
      "cell_type": "markdown",
      "metadata": {
        "id": "T2VVixzB7hC-"
      },
      "source": [
        "# Indice Invertido"
      ]
    },
    {
      "cell_type": "code",
      "execution_count": 12,
      "metadata": {
        "id": "IMvKw0Gw7K2_"
      },
      "outputs": [],
      "source": [
        "def indiceInvertido(df, columna_tokens):\n",
        "    indice = {}\n",
        "    for index, row in df.iterrows():\n",
        "        tokens = row[columna_tokens]\n",
        "        for token in tokens:\n",
        "            if token not in indice:\n",
        "                indice[token] = []\n",
        "            indice[token].append(index)\n",
        "    return indice\n"
      ]
    },
    {
      "cell_type": "code",
      "execution_count": 13,
      "metadata": {
        "id": "ylTpY4q6_LxP"
      },
      "outputs": [],
      "source": [
        "indice = indiceInvertido(df_final, 'tokens')"
      ]
    },
    {
      "cell_type": "code",
      "execution_count": 14,
      "metadata": {
        "id": "J3-ZYuieuGOl"
      },
      "outputs": [],
      "source": [
        "def buscarTitulos(indice_invertido, df, columna_title, columna_plot, palabra):\n",
        "    documentos = indice_invertido.get(palabra, [])\n",
        "    titulos_encontrados = []\n",
        "    for documento in documentos:\n",
        "        titulo = df.loc[documento, columna_title]\n",
        "        plot = df.loc[documento, columna_plot]\n",
        "        titulos_encontrados.append(titulo)\n",
        "    return titulos_encontrados\n"
      ]
    },
    {
      "cell_type": "code",
      "execution_count": 15,
      "metadata": {
        "id": "Kf0PKkmM5URw"
      },
      "outputs": [],
      "source": [
        "def busquedaIndiceInvertido(indice, df, texto_busqueda):\n",
        "    # Tokenizamos el texto de búsqueda\n",
        "    tokens_busqueda = texto_busqueda.split()\n",
        "    resultados = set()  # Usamos un set para evitar duplicados\n",
        "\n",
        "    # Para cada token en el texto de búsqueda, encontramos los documentos que lo contienen\n",
        "    for token in tokens_busqueda:\n",
        "        if token in indice:\n",
        "            # Añadimos los títulos y tramas correspondientes a los índices encontrados\n",
        "            for index in indice[token]:\n",
        "                titulo = df.iloc[index][\"Title\"]\n",
        "                plot = df.iloc[index][\"Plot\"]\n",
        "                resultados.add((titulo, plot))  # Usamos una tupla para asegurarnos de que no se repitan\n",
        "\n",
        "    # Convertimos el set de resultados en una lista de diccionarios y devolvemos los primeros 5\n",
        "    return [{\"Title\": titulo, \"Plot\": plot} for titulo, plot in list(resultados)[:5]]\n",
        "\n"
      ]
    },
    {
      "cell_type": "code",
      "execution_count": 16,
      "metadata": {},
      "outputs": [
        {
          "name": "stdout",
          "output_type": "stream",
          "text": [
            "Título: Care Bears Movie II: A New Generation\n",
            "Trama: Aboard their boat, a yellow bear and a purple horse look after the baby animals known as the Care Bear Cubs and Care Bear Cousin Cubs.[nb 2] On the way, a red sea serpent threatens them—one of the many forms of Dark Heart, an evil spirit. They escape by following a rainbow up to the sky, while the boat transforms into the Cloud Clipper.[nb 3] There, the Great Wishing Star gives the group their \"tummy symbols\", pictures that indicate each creature's role or specialty. True Heart Bear and Noble Heart Horse, as the characters are named, become founders of the Kingdom of Caring, a land which comprises Care-a-Lot and the Forest of Feelings.\n",
            "For the Bears' first Caring Mission, True Heart and stowaway Swift Heart Rabbit (one of the Cousins) travel to Earth and visit a summer camp. There, they meet three of its participants: a girl named Christy, and her friends, the twins John and Dawn. A boastful boy nicknamed the \"Camp Champ\" always defeats them in competitions, and assigns them to trash duty. Christy is unsatisfied at this; she and her friends run away, only to get lost in the woods. True Heart soon finds John and Dawn, and brings them to the Kingdom of Caring. After they arrive, the children hear a bell toll from the Caring Meter, which tells the Bears how much caring is taking place on Earth. Noble Heart and True Heart tell them to babysit the Cubs, before they leave to search for Dark Heart and Christy.\n",
            "Meanwhile, in the woods, Christy meets Dark Heart (as a human boy) for the first time, and asks him to make her the new Camp Champ. He grants her that wish, telling her she must pay him back with one favor, and heads away while she rejoins her friends. Aware of Dark Heart's potential, True Heart and Noble Heart move the Bear Cubs to Care-a-Lot, and the Cousin Cubs to the Forest of Feelings. Both sets quickly grow up to become the Care Bear Family.\n",
            "Later, while the Bears prepare a party for the Kingdom's founders, Dark Heart enters Care-a-Lot in disguise so that he can capture the whole Family. A cluster of Star Buddies, assistants to the Bears and Great Wishing Star, drives him off; he then morphs into a raging red cloud. The Bears shoot light at him from their bellies, forming their \"Care Bear Stare\"; the Cousins also help by using their \"Care Cousin Call\". Afterward, True Heart and Noble Heart decide to search for him, and leave the Bears to handle missions all by themselves.\n",
            "During their patrol, Wish Bear spots Christy stranded in a canoe within a lake; the other Bears and Cousins set out to rescue her. Dark Heart fires lightning bolts before the team, and captures many of them with his magic bag— the favor he wanted Christy to do all along. The few Family members at hand determine that she has teamed up with him. This prompts Tenderheart Bear to hold a conference at the Hall of Hearts; Friend Bear, Secret Bear and Christy's friends later join them.\n",
            "That night, Dark Heart's influence causes the other children to wreck the camp. The Bears and Cousins search for the Family members, before Dark Heart imprisons them—first in cages, then inside big rubies hanging from a chandelier. Meanwhile, John and Dawn tell Christy of their conviction to rescue the Family from the villain. Feeling guilty, she finally pays him back by admitting what she has done. Despite this, her bargain with Dark Heart is over.\n",
            "True Heart, Noble Heart, John and Dawn enter Dark Heart's lair amid his impending deed; Christy asks him to free the others. While True Heart and Noble Heart enact their Stare, lightning from his cloud strikes Christy, who screams in fear and gets struck and wounded. With little energy left in her, she crashes down the chandelier with a marble.The Family members, finally free from the rubies, help True Heart and Noble Heart out.\n",
            "At the sight of a dead Christy, Dark Heart becomes remorseful for his actions. He asks the Care Bears to bring her back to life, but is disappointed that their kindness is not even enough. So he, the Family, John and Dawn chant \"We care!\" enough times to bring her back to life. Soon after, the group quickly leaves the cave as it transforms into an outhouse.\n",
            "Dark Heart becomes a real boy, and everyone is overjoyed. After a swim in the lake, the campers say goodbye to the Bears and Cousins; the former Dark Heart promises to be a better person at camp. The film ends with a message from its narrator, the Great Wishing Star, and flashbacks of the Care Bear Family's childhood.\n",
            "\n",
            "Título: The Darkest Hour\n",
            "Trama: Americans Ben and Sean (Max Minghella and Emile Hirsch) travel to Moscow to sell their social networking/party locating software. As they approach the airport, their plane short circuits due to an electrical storm but regains power. After arriving, they find their Swedish business partner, Skyler (Joel Kinnaman), has betrayed them and already made a deal with the Russians, using a knockoff application. They go to a nightclub and meet Natalie (Olivia Thirlby), an American, and her Australian friend Anne (Rachael Taylor). The lights go out in the club and everyone heads outside. There, they witness what appears to be an aurora. Balls of light fall from the sky and then fade away. When a policeman investigates he is disintegrated, killing him instantly. The invisible entities begin hunting and killing people, sending them into a panic.\n",
            "Ben, Sean, Natalie, Anne, and now Skyler hide in the club's storeroom for seven days. With most of their food gone, the group plans to go to the American Embassy. They find the city full of scorched cars and cinders, but empty of people, except for a wary old woman who warns them of \"the ghosts\". Ben and Sean search for supplies in a police car near Red Square while the others hide in the nearby GUM department store shopping mall. While they are searching the car, a barking dog discovers and confronts an alien, but is killed. Ben and Sean successfully hide under the car as the alien moves closer, causing the car's lights and siren to turn on. The alien moves on and the men run to the mall. Sean realizes that light bulbs and other technologies give the aliens away. The group takes shelter in one of the mall stores. Sean and Natalie go to look for clothes and almost run into an alien who can't see them through a glass wall. Sean theorises that the aliens can only see their electrical charge, but not through glass or other insulators.\n",
            "The group finds the American Embassy gutted and lifeless. All except Skyler go to the roof to get an aerial view. They find a logbook telling them that the invasion is worldwide. They also find a radio broadcasting a message in Russian, and hear gunfire. Ben and Sean go outside to help Skyler, but he is killed. The others see a light in a nearby apartment tower and go to investigate, bringing the radio they found. They find a young woman named Vika and a man named Sergei, an electrical engineer. Sergei has made his apartment into a giant Faraday cage that hides everyone from the aliens. He has also developed a microwave gun that weakens an alien's force field, so that it can actually be seen and killed. Vika and Sergei translate the message, which says that a nuclear submarine K-152 Nerpa is waiting in the Moscow River to take survivors to safety.\n",
            "As Sergei shows the men the microwave device, Vika, Natalie, and Anne go to other apartments to gather supplies for the submarine journey. An alien senses them outside the Faraday cage and gives chase; Anne hesitates following Vika and goes another way, causing Natalie to follow her back inside. When they get to the apartment, Natalie is unable to close the door and the alien gets inside. Sergei shoots the alien with his gun and finds that it is only stunned. The alien kills Sergei while the others get out by the fire escape. Anne hesitates again and is killed while trying to escape. Natalie sets the apartment on fire as they climb down and meet up with Vika.\n",
            "They meet up with a Russian police team with improvised armor led by Boris who manage to wound an alien with conventional weapons. Sean collects a piece of the alien's body. The small police band were also able to build another Faraday cage at the Russian State Library. Boris and his men eventually agree to help the remaining four to get to the submarine. The policemen believe that the aliens are strip mining for conductive metals since giant light columns can be seen drilling all over Moscow. As they move through the subway, an alien discovers them and they escape on the tracks. Vika hides behind a pillar, unable to join the others without being seen. Ben helps her climb down to the tracks, but is killed by the alien.\n",
            "The survivors make it to a powerless patrol boat on the river and drift downstream to the waiting submarine. The boat nears the submarine but runs aground. As they attempt to push free, a new light beam destroys a large apartment building right next to the river, causing the boat to capsize. Sean and the policemen swims towards the submarine but upon reaching it discover Natalie is missing. They see a flare fired from Natalie's flare gun in a railway and bus yard near the river. Sean is determined to get her, possibly missing his chance to escape. The policemen agree to help him rescue her. The Russian submarine crew, after expressing doubt about the rescue, assist by building another microwave gun with stronger batteries.\n",
            "After the team manages to destroy an alien, Sean finds Natalie on a bus while the policemen and Vika destroy three more aliens using the microwave guns and water. As Sean is about to get off the bus with Natalie, an alien climbs on board, locks the door, and sends the bus speeding around the bus yard. It grabs onto Natalie's leg, but Sean blasts the alien's shield with the microwave gun. He then discovers the alien's weakness when he throws a piece of the wounded alien he had collected earlier, and it destroys the unshielded alien. The two stop the bus and narrowly avoid a collision.\n",
            "After returning to the submarine, the police team decides to stay and fight for the city, and Boris tells them that now the war has begun. Sean, Natalie, and Vika plan to spread what they learned about the aliens - the microwave guns and their vulnerability to pieces of other dead aliens - to the rest of the world. Sean and Natalie, the only survivors of the original group along with Vika, nearly share a kiss on the submarine. In a pre-credit scene, as the submarine cruises through the Caspian Sea, they learn that survivors in Paris managed to destroy an alien mining tower.\n",
            "\n",
            "Título: Melba\n",
            "Trama: Based on the life of Dame Nellie Melba, the film traces the career of Melba (Patrice Munsel) from the time she left Australia, traveling to Paris to receive vocal training, meets a new suitor, and debuts her talent in Brussels. As her success grows, her former suitor from Australia arrives in Monte Carlo, convinces her to marry him, but then finds himself placed in the position of being \"Mr. Melba\". When he leaves her to return to Australia, Melba remains in Europe to continue singing.\n",
            "\n",
            "Título: Shibaji\n",
            "Trama: The story of this film revolves around the main character Shivaji (Prosenjit) who is a goon. He was hired by the villain Bishal Sarkar to kill the judge Prasanta Mullick (Ranjit Mallick) as he refuses to receive the bribe and announces death sentence for his youngest brother, Vicky Sarkar. Shivaji's wife Durga (Swastika Mukherjee) on the other hand being insulted and humiliated again and again by people tries to commit suicide. Shivaji ultimately saves her life and leaves all criminal activities. Prasanta Mullick and his wife (Mousumi Saha) help him to start a business of a fast-food centre. But one day Bishal Sarkar's brother along with goons attack the restaurant and kills a person. Inspector Satyaprakash (Tapas Paul) arrests innocent Shivaji and he was imprisoned. Prasanta Mullick resigns from the post of a judge, and tries to prove Shivaji innocent. In this mean time the three brothers of Bishal Sarkar attacks Shivaji's house, kills his daughter Tumpa and rapes his wife. Durga commits suicide. To seek revenge Shivaji escapes from the police custody and starts killing Bishal Sarkar's brothers one by one. He also kidnaps Insp. Satyaprakash's daughter Jaya (Tathoi). Jaya was a lonely child as her father and mother (Satabdi Roy) none has time for her. She was brought up by her Appa (Chumki Choudhury). Shivaji starts loving her as his daughter, and Jaya also forgets her loneliness. But police separated them and produces Shivaji in court. Suddenly Bishal Sarkar kidnaps Jaya and Shivaji saves her. But while doing so he gets injured though kill all villains. Doctors declare him dead but Tathoi or Jaya magically saves his life by singing in front of God and after 20 years with the marriage of Jaya the movie ends.\n",
            "\n",
            "Título: Leela\n",
            "Trama: The film is a comedy based tragic drama set in central Kerala, the film follows the protagonist Kuttiyappan (Played By Biju Menon) who is on a delirious mission. He is assisted by his trusted aide (played by Vijayaraghavan), Kuttiyappan travels in search of a women who can fulfill his desires. He suffers from ED so he is in search of an elephant, a prime tusker for being a part of his sexual fantasy. The journey explores characters Kuttiyappan meets and events in these intersections. Kuttiyappan finds his requirements. He feels pity for a woman he chooses and decides to marry her. But unfortunately the elephant he bought for the time kills that woman. The story cuts through open spaces of abuse and ego's as a knife through butter in a divergent manner.\n",
            "\n"
          ]
        }
      ],
      "source": [
        "resultados = busquedaIndiceInvertido(indice,df_final,\"time travel\")\n",
        "for resultado in resultados:\n",
        "    print(f\"Título: {resultado['Title']}\")\n",
        "    print(f\"Trama: {resultado['Plot']}\\n\")"
      ]
    },
    {
      "cell_type": "markdown",
      "metadata": {
        "id": "WaRObZjTBMnv"
      },
      "source": [
        "# Woosh"
      ]
    },
    {
      "cell_type": "code",
      "execution_count": 17,
      "metadata": {
        "colab": {
          "base_uri": "https://localhost:8080/"
        },
        "id": "QyLPoObe-yr_",
        "outputId": "42006a1e-279e-48bd-c840-59835056e155"
      },
      "outputs": [
        {
          "name": "stdout",
          "output_type": "stream",
          "text": [
            "Requirement already satisfied: whoosh in c:\\users\\klebe\\appdata\\local\\programs\\python\\python312\\lib\\site-packages (2.7.4)\n",
            "Note: you may need to restart the kernel to use updated packages.\n"
          ]
        },
        {
          "name": "stderr",
          "output_type": "stream",
          "text": [
            "\n",
            "[notice] A new release of pip is available: 24.2 -> 24.3.1\n",
            "[notice] To update, run: python.exe -m pip install --upgrade pip\n"
          ]
        }
      ],
      "source": [
        "pip install whoosh"
      ]
    },
    {
      "cell_type": "code",
      "execution_count": 18,
      "metadata": {
        "id": "JKr0gmzqBGrn"
      },
      "outputs": [],
      "source": [
        "from whoosh import index\n",
        "from whoosh.fields import Schema, TEXT, ID\n",
        "from whoosh.qparser import QueryParser\n",
        "import os"
      ]
    },
    {
      "cell_type": "code",
      "execution_count": 19,
      "metadata": {
        "id": "DezfpD20Ddqh"
      },
      "outputs": [],
      "source": [
        "schema = Schema(\n",
        "    Title=TEXT(stored=True),  # Almacenar el título\n",
        "    Plot=TEXT(stored=True)    # Almacenar la trama\n",
        ")"
      ]
    },
    {
      "cell_type": "code",
      "execution_count": 20,
      "metadata": {
        "id": "hk09t4br_cZn"
      },
      "outputs": [],
      "source": [
        "# Paso 2: Crear el índice\n",
        "index_dir = \"whoosh_index\"\n",
        "if not os.path.exists(index_dir):\n",
        "    os.mkdir(index_dir)\n",
        "index_whoosh = index.create_in(index_dir, schema)\n"
      ]
    },
    {
      "cell_type": "code",
      "execution_count": 21,
      "metadata": {
        "id": "ZqOVlzKk_fEG"
      },
      "outputs": [],
      "source": [
        "writer = index_whoosh.writer()\n",
        "for _, row in df_final.iterrows():\n",
        "    writer.add_document(\n",
        "        Title=row[\"Title\"],\n",
        "        Plot=row[\"Plot\"]\n",
        "    )\n",
        "writer.commit()\n"
      ]
    },
    {
      "cell_type": "code",
      "execution_count": 22,
      "metadata": {
        "id": "QwCFULpt_ikV"
      },
      "outputs": [],
      "source": [
        "\n",
        "# Paso 4: Realizar búsquedas\n",
        "def buscar_peliculas_whoosh(texto_busqueda):\n",
        "    with index_whoosh.searcher() as searcher:\n",
        "        query = QueryParser(\"Plot\", index_whoosh.schema).parse(texto_busqueda)\n",
        "        resultados = searcher.search(query, limit=5)  # Limitar a los 10 resultados más relevantes\n",
        "        return [dict(result) for result in resultados]\n"
      ]
    },
    {
      "cell_type": "code",
      "execution_count": 23,
      "metadata": {
        "colab": {
          "base_uri": "https://localhost:8080/"
        },
        "id": "cytCdh4hGgZh",
        "outputId": "f44cb194-27d2-4d14-ffa7-f12a0670b631"
      },
      "outputs": [
        {
          "name": "stdout",
          "output_type": "stream",
          "text": [
            "Título: Time Chasers\n",
            "Trama: Physics teacher and amateur pilot Nick Miller (Matthew Bruch) has finally completed his quest of enabling time travel, via a Commodore 64 and his small airplane. After being inspired by a television commercial for GenCorp, he uses a ruse to bring out both a GenCorp executive and a reporter from a local paper. To Nick's surprise, the reporter is Lisa Hansen (Bonnie Pritchard), an old high school flame. One trip to 2041 later and Gencorp's executive, Matthew Paul (Peter Harrington), quickly arranges Nick a meeting with CEO J.K. Robertson (George Woodard). Impressed by the potential of time travel, Robertson offers Nick a licensing agreement on the technology.\n",
            "The following week, Nick and Lisa meet at the supermarket and go on a date to the 1950s. However, another trip to 2041 reveals that GenCorp abused Nick's time travel technology, creating a dystopian future. In an attempt to tell J.K. about how GenCorp inadvertently ruined the future. J.K. dismisses the eventuality, and states that there's enough time to worry about how to fix it before it happens. J.K. sees Nick as a threat to GenCorp, and due to the association with the U.S. Government, considers Nick's actions as treason. Nick and Lisa escape GenCorp and spend the remainder of the film trying to reverse the damage to the future. When J.K. finds out about this, he and Matt try to shoot down Nick's plane, killing Lisa in the process while Nick jumps out before the plane crashes. This ultimately culminates in a fight in 1777 during the American Revolution, the deaths of the present Nick and Robertson, and the destruction of the time machine before the original demo, thus ensuring that the majority of the film's events never happen in the first place. The film ends with the now current Nick (now aware of the danger of his time machine) sabotaging his demonstration, and doing a pitch of how an elderly skydiver would be a better ad campaign for J.K.'s company. Furious about being misled, J.K. fires Matt. Nick deletes the eight 5¼\" floppy disks that make time travel possible. At the end of the film, Nick talks to Lisa in the supermarket as he did in the previous timeline.\n",
            "\n",
            "Título: Love Story 2050\n",
            "Trama: Karan Malhotra (Harman Baweja) is a spirited and happy-go-lucky boy who does not follow the rules. Sana (Priyanka Chopra) is the opposite of Karan: a sweet and shy girl who lives life by the rules. Even though they are completely opposite, they fall in love, leading to a magical love story.[9]\n",
            "A scientist, Dr. Yatinder Khanna (Boman Irani), has dedicated 15 years of his life to building a time machine. Sana expresses a wish to time-travel to Mumbai in the year 2050, but she is killed in an accident before her marriage to Karan. Karan wishes to travel back in time and find Sana. Dr. Yatinder, Karan, and Sana's siblings, Rahul and Thea, travel forward in time and reach Mumbai in 2050. They are fascinated by the futuristic Mumbai, with its flying cars, holograms, robots, 200-story buildings and more.\n",
            "Twists and turns lead to the introduction of Ziesha (Priyanka Chopra), the reincarnation of Sana. Ziesha is a popular singer in 2050 who does not remember her past life, but gets flashbacks of it after meeting Karan. Unlike Sana, Ziesha is an arrogant, headstrong and rebellious girl who does not believe in love. She leads a lonely life after the death of her parents, which has embittered her.\n",
            "Karan and the others find themselves under the threat of the demi-god, Dr. Hoshi. After Karan tells Ziesha he loves her, he is taken away from her by the guards. Ziesha does not believe him when he tells her about his time travel. However, after reading Sana's diary, Ziesha ultimately remembers her past life. Karan returns to her and she declares her love for him and tells him she is Sana. Dr. Hoshi tries to capture Karan because he wants the time machine. After a wild attempt to catch Karan and Ziesha, Hoshi crashes into a nuclear substance truck and dies. Karan goes back to 2008 in the time machine with Ziesha and the rest of his family. Everyone is overjoyed to see their beloved Sana again and Karan proposes to her.[9][10]\n",
            "\n",
            "Título: Timeranger vs. GoGoV\n",
            "Trama: In the 30th century, time travel becomes illegal after a time paradox crisis. The Time Protection Department (TPD) is established to watch for and stop time crimes. Four new enlistee cadets of the TPD are tricked by Don Dolnero and his gang into letting them time-travel to the year 2000 to commit various crimes and, to protect history, the four cadets pursue them. They encounter a severe problem: the Timeranger program requires five members for the first operation. They force a present-day martial artist, Tatsuya Asami, to join them, and they become the Timerangers. Tatsuya rents a building for them to live in, and they start a small odd-jobs business called Tomorrow Research to financially support themselves.\n",
            "Over time, the four cadets begin to realize that their presence would inevitably change the future in the form of the City Guardians, a security force under the employment of the Asami Corporation to protect the city from the Londers. The City Guardians form a tenuous relationship with the Timerangers, especially when Tatsuya's college acquaintance Naoto becomes Time Fire and later also becomes the City Guardian's captain.\n",
            "\n",
            "Título: Abby Sen\n",
            "Trama: Kolkata 2013. Abby Sen is a 30-year-old television producer. He is academically brilliant, has a strong background in science and watching science fiction films is his greatest passion. But his programmes on television are never popular and fail to make a mark on the TRP ratings. And that is perhaps the only reason why Abby has lost no less than seven jobs. Every time he is fired, his wife Somy gets hysterical and throws down everything that she could lay her hands on. So Abby has not disclosed his last dismissal to her.\n",
            "By sheer coincidence, Abby meets a self-styled scientist who claims to have discovered a time-travel capsule. The scientist volunteers to take Abby back in time when getting a job was not that difficult. But he has certain conditions, which Abby must fulfill. Finding all options bleak, Abby decides to agree to his conditions and travel 33 years back in time, that is, in 1980.\n",
            "Thereafter, a series of unforeseen incidents and intricacies of relationships make Abby’s life in 1980 as eventful as ever. But flung between the two worlds of 1980 and 2013 both in his personal and professional life, Abby represents the predicament of a man struggling to survive in this competitive world.\n",
            "\n",
            "Título: Dimensions\n",
            "Trama: The film follows Stephen, a brilliant young scientist who lives in Cambridge, England, in what appears to be the 1920s. His world is turned upside down upon meeting a charismatic and inspirational professor at a garden party, who demonstrates to Stephen and his friends what life would be like if they were one-, or two-dimensional beings. He then proceeds to explain that by manipulating other dimensions, time travel may actually be possible.\n",
            "Soon after the professor's visit, Stephan,his cousin, Conrad, and his neighbor, Victoria, were fooling around by a well. Conrad throws Victoria's skipping rope down the well. The nanny catches the boys rolling around fighting and drags them in the house by the ears leaving Victoria alone to play outside by herself. After some time, she decides to climb down the well to get her skipping rope. She never climbs out of the well and her body is never found.\n",
            "As Stephen’s life unfolds, events lead him to dedicate himself to turning the Professor’s theories of time travel into reality. Jealousy, love, obsession, temptation and greed surround him, influencing his fragile mind and the direction of his work.\n",
            "\n"
          ]
        }
      ],
      "source": [
        "# Ejemplo de búsqueda\n",
        "resultados = buscar_peliculas_whoosh(\"time travel\")\n",
        "for resultado in resultados:\n",
        "    print(f\"Título: {resultado['Title']}\")\n",
        "    print(f\"Trama: {resultado['Plot']}\\n\")"
      ]
    },
    {
      "cell_type": "markdown",
      "metadata": {
        "id": "i1Si6bbVKFwO"
      },
      "source": [
        "# Elasticsearch"
      ]
    },
    {
      "cell_type": "code",
      "execution_count": 24,
      "metadata": {
        "colab": {
          "base_uri": "https://localhost:8080/"
        },
        "id": "JPYoBU_MKEj_",
        "outputId": "c2bd2af7-9c9e-43dd-f309-67ee186c2ac9"
      },
      "outputs": [
        {
          "name": "stdout",
          "output_type": "stream",
          "text": [
            "Collecting elasticsearch\n",
            "  Downloading elasticsearch-8.17.0-py3-none-any.whl.metadata (8.8 kB)\n",
            "Collecting elastic-transport<9,>=8.15.1 (from elasticsearch)\n",
            "  Downloading elastic_transport-8.17.0-py3-none-any.whl.metadata (3.6 kB)\n",
            "Collecting urllib3<3,>=1.26.2 (from elastic-transport<9,>=8.15.1->elasticsearch)\n",
            "  Downloading urllib3-2.3.0-py3-none-any.whl.metadata (6.5 kB)\n",
            "Collecting certifi (from elastic-transport<9,>=8.15.1->elasticsearch)\n",
            "  Downloading certifi-2024.12.14-py3-none-any.whl.metadata (2.3 kB)\n",
            "Downloading elasticsearch-8.17.0-py3-none-any.whl (571 kB)\n",
            "   ---------------------------------------- 0.0/571.2 kB ? eta -:--:--\n",
            "   ---------------------------------------- 0.0/571.2 kB ? eta -:--:--\n",
            "   ---------------------------------------- 571.2/571.2 kB 2.2 MB/s eta 0:00:00\n",
            "Downloading elastic_transport-8.17.0-py3-none-any.whl (64 kB)\n",
            "Downloading urllib3-2.3.0-py3-none-any.whl (128 kB)\n",
            "Downloading certifi-2024.12.14-py3-none-any.whl (164 kB)\n",
            "Installing collected packages: urllib3, certifi, elastic-transport, elasticsearch\n",
            "Successfully installed certifi-2024.12.14 elastic-transport-8.17.0 elasticsearch-8.17.0 urllib3-2.3.0\n"
          ]
        },
        {
          "name": "stderr",
          "output_type": "stream",
          "text": [
            "\n",
            "[notice] A new release of pip is available: 24.2 -> 24.3.1\n",
            "[notice] To update, run: python.exe -m pip install --upgrade pip\n"
          ]
        }
      ],
      "source": [
        "!pip install elasticsearch"
      ]
    },
    {
      "cell_type": "markdown",
      "metadata": {},
      "source": [
        "### Conexion a Docker\n",
        "\n",
        "docker network create elastic\n",
        "\n",
        "docker pull docker.elastic.co/elasticsearch/elasticsearch:8.17.0\n",
        "\n",
        "docker run -d --name elasticsearch -p 9200:9200 -e \"discovery.type=single-node\" -e \"xpack.security.enabled=false\" docker.elastic.co/elasticsearch/elasticsearch:8.17.0\n",
        "\n",
        "curl http://localhost:9200"
      ]
    },
    {
      "cell_type": "code",
      "execution_count": 27,
      "metadata": {
        "colab": {
          "base_uri": "https://localhost:8080/"
        },
        "id": "bo7Zdm7VwnUt",
        "outputId": "71bc977c-bace-46ea-c26c-df659a2b3b97"
      },
      "outputs": [
        {
          "name": "stdout",
          "output_type": "stream",
          "text": [
            "Conexión exitosa a Elasticsearch\n"
          ]
        }
      ],
      "source": [
        "from elasticsearch import Elasticsearch\n",
        "\n",
        "# Conexión al cliente Elasticsearch\n",
        "es = Elasticsearch(\"http://localhost:9200\")\n",
        "\n",
        "# Verificar si está conectado\n",
        "if es.ping():\n",
        "    print(\"Conexión exitosa a Elasticsearch\")\n",
        "else:\n",
        "    print(\"Error al conectar con Elasticsearch\")\n"
      ]
    },
    {
      "cell_type": "code",
      "execution_count": 28,
      "metadata": {
        "id": "ZADSnK4AwnZG"
      },
      "outputs": [
        {
          "name": "stdout",
          "output_type": "stream",
          "text": [
            "Índice 'movies' creado.\n"
          ]
        }
      ],
      "source": [
        "# Definimos el esquema del índice\n",
        "index_name = \"movies\"\n",
        "if not es.indices.exists(index=index_name):\n",
        "    es.indices.create(\n",
        "        index=index_name,\n",
        "        body={\n",
        "            \"mappings\": {\n",
        "                \"properties\": {\n",
        "                    \"title\": {\"type\": \"text\"},\n",
        "                    \"plot\": {\"type\": \"text\"}\n",
        "                }\n",
        "            }\n",
        "        }\n",
        "    )\n",
        "    print(f\"Índice '{index_name}' creado.\")\n",
        "else:\n",
        "    print(f\"Índice '{index_name}' ya existe.\")\n"
      ]
    },
    {
      "cell_type": "code",
      "execution_count": 29,
      "metadata": {
        "id": "ak5C-iW6wnbo"
      },
      "outputs": [
        {
          "name": "stdout",
          "output_type": "stream",
          "text": [
            "Películas indexadas con éxito.\n"
          ]
        }
      ],
      "source": [
        "# Indexar los datos\n",
        "for _, row in df_final.iterrows():\n",
        "    doc = {\n",
        "        \"title\": row[\"Title\"],\n",
        "        \"plot\": row[\"Plot\"]\n",
        "    }\n",
        "    es.index(index=index_name, id=row[\"Title\"], document=doc)\n",
        "\n",
        "print(\"Películas indexadas con éxito.\")\n"
      ]
    },
    {
      "cell_type": "code",
      "execution_count": 30,
      "metadata": {
        "id": "4Q6hVATywneC"
      },
      "outputs": [],
      "source": [
        "# Función para realizar búsquedas\n",
        "def buscar_peliculas_elasticsearch(query):\n",
        "    body = {\n",
        "        \"size\": 5,\n",
        "        \"query\": {\n",
        "            \"match\": {\n",
        "                \"plot\": query\n",
        "            }\n",
        "        }\n",
        "    }\n",
        "    resultados = es.search(index=index_name, body=body)\n",
        "    return [\n",
        "        {\n",
        "            \"title\": hit[\"_source\"][\"title\"],\n",
        "            \n",
        "            \"plot\": hit[\"_source\"][\"plot\"]\n",
        "        }\n",
        "        for hit in resultados[\"hits\"][\"hits\"]\n",
        "    ]"
      ]
    },
    {
      "cell_type": "code",
      "execution_count": 31,
      "metadata": {
        "id": "imemQPKbwnhm"
      },
      "outputs": [
        {
          "name": "stdout",
          "output_type": "stream",
          "text": [
            "Título: Time Chasers\n",
            "Trama: Physics teacher and amateur pilot Nick Miller (Matthew Bruch) has finally completed his quest of enabling time travel, via a Commodore 64 and his small airplane. After being inspired by a television commercial for GenCorp, he uses a ruse to bring out both a GenCorp executive and a reporter from a local paper. To Nick's surprise, the reporter is Lisa Hansen (Bonnie Pritchard), an old high school flame. One trip to 2041 later and Gencorp's executive, Matthew Paul (Peter Harrington), quickly arranges Nick a meeting with CEO J.K. Robertson (George Woodard). Impressed by the potential of time travel, Robertson offers Nick a licensing agreement on the technology.\n",
            "The following week, Nick and Lisa meet at the supermarket and go on a date to the 1950s. However, another trip to 2041 reveals that GenCorp abused Nick's time travel technology, creating a dystopian future. In an attempt to tell J.K. about how GenCorp inadvertently ruined the future. J.K. dismisses the eventuality, and states that there's enough time to worry about how to fix it before it happens. J.K. sees Nick as a threat to GenCorp, and due to the association with the U.S. Government, considers Nick's actions as treason. Nick and Lisa escape GenCorp and spend the remainder of the film trying to reverse the damage to the future. When J.K. finds out about this, he and Matt try to shoot down Nick's plane, killing Lisa in the process while Nick jumps out before the plane crashes. This ultimately culminates in a fight in 1777 during the American Revolution, the deaths of the present Nick and Robertson, and the destruction of the time machine before the original demo, thus ensuring that the majority of the film's events never happen in the first place. The film ends with the now current Nick (now aware of the danger of his time machine) sabotaging his demonstration, and doing a pitch of how an elderly skydiver would be a better ad campaign for J.K.'s company. Furious about being misled, J.K. fires Matt. Nick deletes the eight 5¼\" floppy disks that make time travel possible. At the end of the film, Nick talks to Lisa in the supermarket as he did in the previous timeline.\n",
            "\n",
            "Título: Love Story 2050\n",
            "Trama: Karan Malhotra (Harman Baweja) is a spirited and happy-go-lucky boy who does not follow the rules. Sana (Priyanka Chopra) is the opposite of Karan: a sweet and shy girl who lives life by the rules. Even though they are completely opposite, they fall in love, leading to a magical love story.[9]\n",
            "A scientist, Dr. Yatinder Khanna (Boman Irani), has dedicated 15 years of his life to building a time machine. Sana expresses a wish to time-travel to Mumbai in the year 2050, but she is killed in an accident before her marriage to Karan. Karan wishes to travel back in time and find Sana. Dr. Yatinder, Karan, and Sana's siblings, Rahul and Thea, travel forward in time and reach Mumbai in 2050. They are fascinated by the futuristic Mumbai, with its flying cars, holograms, robots, 200-story buildings and more.\n",
            "Twists and turns lead to the introduction of Ziesha (Priyanka Chopra), the reincarnation of Sana. Ziesha is a popular singer in 2050 who does not remember her past life, but gets flashbacks of it after meeting Karan. Unlike Sana, Ziesha is an arrogant, headstrong and rebellious girl who does not believe in love. She leads a lonely life after the death of her parents, which has embittered her.\n",
            "Karan and the others find themselves under the threat of the demi-god, Dr. Hoshi. After Karan tells Ziesha he loves her, he is taken away from her by the guards. Ziesha does not believe him when he tells her about his time travel. However, after reading Sana's diary, Ziesha ultimately remembers her past life. Karan returns to her and she declares her love for him and tells him she is Sana. Dr. Hoshi tries to capture Karan because he wants the time machine. After a wild attempt to catch Karan and Ziesha, Hoshi crashes into a nuclear substance truck and dies. Karan goes back to 2008 in the time machine with Ziesha and the rest of his family. Everyone is overjoyed to see their beloved Sana again and Karan proposes to her.[9][10]\n",
            "\n",
            "Título: Timeranger vs. GoGoV\n",
            "Trama: In the 30th century, time travel becomes illegal after a time paradox crisis. The Time Protection Department (TPD) is established to watch for and stop time crimes. Four new enlistee cadets of the TPD are tricked by Don Dolnero and his gang into letting them time-travel to the year 2000 to commit various crimes and, to protect history, the four cadets pursue them. They encounter a severe problem: the Timeranger program requires five members for the first operation. They force a present-day martial artist, Tatsuya Asami, to join them, and they become the Timerangers. Tatsuya rents a building for them to live in, and they start a small odd-jobs business called Tomorrow Research to financially support themselves.\n",
            "Over time, the four cadets begin to realize that their presence would inevitably change the future in the form of the City Guardians, a security force under the employment of the Asami Corporation to protect the city from the Londers. The City Guardians form a tenuous relationship with the Timerangers, especially when Tatsuya's college acquaintance Naoto becomes Time Fire and later also becomes the City Guardian's captain.\n",
            "\n",
            "Título: Abby Sen\n",
            "Trama: Kolkata 2013. Abby Sen is a 30-year-old television producer. He is academically brilliant, has a strong background in science and watching science fiction films is his greatest passion. But his programmes on television are never popular and fail to make a mark on the TRP ratings. And that is perhaps the only reason why Abby has lost no less than seven jobs. Every time he is fired, his wife Somy gets hysterical and throws down everything that she could lay her hands on. So Abby has not disclosed his last dismissal to her.\n",
            "By sheer coincidence, Abby meets a self-styled scientist who claims to have discovered a time-travel capsule. The scientist volunteers to take Abby back in time when getting a job was not that difficult. But he has certain conditions, which Abby must fulfill. Finding all options bleak, Abby decides to agree to his conditions and travel 33 years back in time, that is, in 1980.\n",
            "Thereafter, a series of unforeseen incidents and intricacies of relationships make Abby’s life in 1980 as eventful as ever. But flung between the two worlds of 1980 and 2013 both in his personal and professional life, Abby represents the predicament of a man struggling to survive in this competitive world.\n",
            "\n",
            "Título: Dimensions\n",
            "Trama: The film follows Stephen, a brilliant young scientist who lives in Cambridge, England, in what appears to be the 1920s. His world is turned upside down upon meeting a charismatic and inspirational professor at a garden party, who demonstrates to Stephen and his friends what life would be like if they were one-, or two-dimensional beings. He then proceeds to explain that by manipulating other dimensions, time travel may actually be possible.\n",
            "Soon after the professor's visit, Stephan,his cousin, Conrad, and his neighbor, Victoria, were fooling around by a well. Conrad throws Victoria's skipping rope down the well. The nanny catches the boys rolling around fighting and drags them in the house by the ears leaving Victoria alone to play outside by herself. After some time, she decides to climb down the well to get her skipping rope. She never climbs out of the well and her body is never found.\n",
            "As Stephen’s life unfolds, events lead him to dedicate himself to turning the Professor’s theories of time travel into reality. Jealousy, love, obsession, temptation and greed surround him, influencing his fragile mind and the direction of his work.\n",
            "\n"
          ]
        }
      ],
      "source": [
        "# Ejemplo de búsqueda\n",
        "resultados = buscar_peliculas_elasticsearch(\"time travel\")\n",
        "for resultado in resultados:\n",
        "    print(f\"Título: {resultado['title']}\\nTrama: {resultado['plot']}\\n\")"
      ]
    },
    {
      "cell_type": "code",
      "execution_count": null,
      "metadata": {},
      "outputs": [],
      "source": []
    }
  ],
  "metadata": {
    "colab": {
      "provenance": []
    },
    "kernelspec": {
      "display_name": "Python 3",
      "name": "python3"
    },
    "language_info": {
      "codemirror_mode": {
        "name": "ipython",
        "version": 3
      },
      "file_extension": ".py",
      "mimetype": "text/x-python",
      "name": "python",
      "nbconvert_exporter": "python",
      "pygments_lexer": "ipython3",
      "version": "3.12.6"
    }
  },
  "nbformat": 4,
  "nbformat_minor": 0
}
