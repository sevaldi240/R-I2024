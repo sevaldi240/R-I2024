{
 "cells": [
  {
   "cell_type": "markdown",
   "metadata": {},
   "source": [
    "### 1. Preparar el entorno y las bibliotecas necesarias"
   ]
  },
  {
   "cell_type": "code",
   "execution_count": 1,
   "metadata": {},
   "outputs": [
    {
     "name": "stdout",
     "output_type": "stream",
     "text": [
      "Collecting llama-cpp-python==0.1.78"
     ]
    },
    {
     "name": "stderr",
     "output_type": "stream",
     "text": [
      "\n",
      "[notice] A new release of pip is available: 23.3.1 -> 25.0.1\n",
      "[notice] To update, run: python.exe -m pip install --upgrade pip\n"
     ]
    },
    {
     "name": "stdout",
     "output_type": "stream",
     "text": [
      "\n",
      "  Downloading llama_cpp_python-0.1.78.tar.gz (1.7 MB)\n",
      "     ---------------------------------------- 0.0/1.7 MB ? eta -:--:--\n",
      "      --------------------------------------- 0.0/1.7 MB 653.6 kB/s eta 0:00:03\n",
      "     -- ------------------------------------- 0.1/1.7 MB 1.2 MB/s eta 0:00:02\n",
      "     ----- ---------------------------------- 0.2/1.7 MB 1.6 MB/s eta 0:00:01\n",
      "     ------- -------------------------------- 0.3/1.7 MB 1.8 MB/s eta 0:00:01\n",
      "     --------- ------------------------------ 0.4/1.7 MB 1.8 MB/s eta 0:00:01\n",
      "     --------------- ------------------------ 0.7/1.7 MB 2.3 MB/s eta 0:00:01\n",
      "     ------------------------ --------------- 1.0/1.7 MB 3.3 MB/s eta 0:00:01\n",
      "     ------------------------ --------------- 1.0/1.7 MB 3.3 MB/s eta 0:00:01\n",
      "     ------------------------ --------------- 1.0/1.7 MB 3.3 MB/s eta 0:00:01\n",
      "     ------------------------ --------------- 1.0/1.7 MB 3.3 MB/s eta 0:00:01\n",
      "     ------------------------ --------------- 1.0/1.7 MB 3.3 MB/s eta 0:00:01\n",
      "     ------------------------ --------------- 1.0/1.7 MB 3.3 MB/s eta 0:00:01\n",
      "     ------------------------ --------------- 1.0/1.7 MB 3.3 MB/s eta 0:00:01\n",
      "     ---------------------------------- ----- 1.5/1.7 MB 2.2 MB/s eta 0:00:01\n",
      "     ---------------------------------------- 1.7/1.7 MB 2.4 MB/s eta 0:00:00\n",
      "  Installing build dependencies: started\n",
      "  Installing build dependencies: finished with status 'done'\n",
      "  Getting requirements to build wheel: started\n",
      "  Getting requirements to build wheel: finished with status 'done'\n",
      "  Preparing metadata (pyproject.toml): started\n",
      "  Preparing metadata (pyproject.toml): finished with status 'done'\n",
      "Collecting numpy==1.23.4\n",
      "  Downloading numpy-1.23.4-cp38-cp38-win_amd64.whl.metadata (2.3 kB)\n",
      "Requirement already satisfied: typing-extensions>=4.5.0 in c:\\users\\diego\\appdata\\roaming\\python\\python38\\site-packages (from llama-cpp-python==0.1.78) (4.12.2)\n",
      "Collecting diskcache>=5.6.1 (from llama-cpp-python==0.1.78)\n",
      "  Downloading diskcache-5.6.3-py3-none-any.whl.metadata (20 kB)\n",
      "Downloading numpy-1.23.4-cp38-cp38-win_amd64.whl (14.7 MB)\n",
      "   ---------------------------------------- 0.0/14.7 MB ? eta -:--:--\n",
      "   - -------------------------------------- 0.5/14.7 MB 11.3 MB/s eta 0:00:02\n",
      "   -- ------------------------------------- 1.0/14.7 MB 13.1 MB/s eta 0:00:02\n",
      "   -- ------------------------------------- 1.0/14.7 MB 13.1 MB/s eta 0:00:02\n",
      "   -- ------------------------------------- 1.0/14.7 MB 13.1 MB/s eta 0:00:02\n",
      "   -- ------------------------------------- 1.0/14.7 MB 13.1 MB/s eta 0:00:02\n",
      "   -- ------------------------------------- 1.0/14.7 MB 13.1 MB/s eta 0:00:02\n",
      "   --- ------------------------------------ 1.4/14.7 MB 4.1 MB/s eta 0:00:04\n",
      "   ----- ---------------------------------- 2.0/14.7 MB 5.0 MB/s eta 0:00:03\n",
      "   ------ --------------------------------- 2.5/14.7 MB 5.6 MB/s eta 0:00:03\n",
      "   -------- ------------------------------- 3.0/14.7 MB 6.4 MB/s eta 0:00:02\n",
      "   -------- ------------------------------- 3.1/14.7 MB 6.5 MB/s eta 0:00:02\n",
      "   -------- ------------------------------- 3.1/14.7 MB 6.5 MB/s eta 0:00:02\n",
      "   -------- ------------------------------- 3.1/14.7 MB 6.5 MB/s eta 0:00:02\n",
      "   --------- ------------------------------ 3.3/14.7 MB 4.8 MB/s eta 0:00:03\n",
      "   ---------- ----------------------------- 3.9/14.7 MB 5.2 MB/s eta 0:00:03\n",
      "   ----------- ---------------------------- 4.3/14.7 MB 5.4 MB/s eta 0:00:02\n",
      "   ------------- -------------------------- 4.9/14.7 MB 5.8 MB/s eta 0:00:02\n",
      "   -------------- ------------------------- 5.2/14.7 MB 6.0 MB/s eta 0:00:02\n",
      "   -------------- ------------------------- 5.2/14.7 MB 6.0 MB/s eta 0:00:02\n",
      "   -------------- ------------------------- 5.2/14.7 MB 6.0 MB/s eta 0:00:02\n",
      "   -------------- ------------------------- 5.2/14.7 MB 6.0 MB/s eta 0:00:02\n",
      "   --------------- ------------------------ 5.7/14.7 MB 5.2 MB/s eta 0:00:02\n",
      "   ---------------- ----------------------- 6.2/14.7 MB 5.5 MB/s eta 0:00:02\n",
      "   ----------------- ---------------------- 6.3/14.7 MB 5.6 MB/s eta 0:00:02\n",
      "   ------------------ --------------------- 6.6/14.7 MB 5.4 MB/s eta 0:00:02\n",
      "   ------------------- -------------------- 7.2/14.7 MB 5.7 MB/s eta 0:00:02\n",
      "   --------------------- ------------------ 7.7/14.7 MB 5.9 MB/s eta 0:00:02\n",
      "   ---------------------- ----------------- 8.3/14.7 MB 6.1 MB/s eta 0:00:02\n",
      "   ----------------------- ---------------- 8.6/14.7 MB 6.1 MB/s eta 0:00:01\n",
      "   ------------------------- -------------- 9.2/14.7 MB 6.3 MB/s eta 0:00:01\n",
      "   ------------------------- -------------- 9.4/14.7 MB 6.4 MB/s eta 0:00:01\n",
      "   ------------------------- -------------- 9.4/14.7 MB 6.4 MB/s eta 0:00:01\n",
      "   ------------------------- -------------- 9.4/14.7 MB 6.4 MB/s eta 0:00:01\n",
      "   ------------------------- -------------- 9.4/14.7 MB 6.4 MB/s eta 0:00:01\n",
      "   ------------------------- -------------- 9.4/14.7 MB 6.4 MB/s eta 0:00:01\n",
      "   ------------------------- -------------- 9.4/14.7 MB 6.4 MB/s eta 0:00:01\n",
      "   ------------------------- -------------- 9.4/14.7 MB 6.4 MB/s eta 0:00:01\n",
      "   -------------------------- ------------- 9.7/14.7 MB 5.3 MB/s eta 0:00:01\n",
      "   ---------------------------- ----------- 10.4/14.7 MB 5.5 MB/s eta 0:00:01\n",
      "   ---------------------------- ----------- 10.5/14.7 MB 5.5 MB/s eta 0:00:01\n",
      "   ----------------------------- ---------- 10.7/14.7 MB 5.2 MB/s eta 0:00:01\n",
      "   ------------------------------ --------- 11.2/14.7 MB 5.2 MB/s eta 0:00:01\n",
      "   ------------------------------- -------- 11.5/14.7 MB 5.9 MB/s eta 0:00:01\n",
      "   ------------------------------- -------- 11.5/14.7 MB 5.9 MB/s eta 0:00:01\n",
      "   ------------------------------- -------- 11.5/14.7 MB 5.9 MB/s eta 0:00:01\n",
      "   ------------------------------- -------- 11.5/14.7 MB 5.9 MB/s eta 0:00:01\n",
      "   ------------------------------- -------- 11.5/14.7 MB 5.9 MB/s eta 0:00:01\n",
      "   ------------------------------- -------- 11.5/14.7 MB 5.9 MB/s eta 0:00:01\n",
      "   -------------------------------- ------- 11.9/14.7 MB 5.0 MB/s eta 0:00:01\n",
      "   ---------------------------------- ----- 12.6/14.7 MB 5.0 MB/s eta 0:00:01\n",
      "   ---------------------------------- ----- 12.6/14.7 MB 5.0 MB/s eta 0:00:01\n",
      "   ---------------------------------- ----- 12.6/14.7 MB 5.0 MB/s eta 0:00:01\n",
      "   ---------------------------------- ----- 12.6/14.7 MB 5.0 MB/s eta 0:00:01\n",
      "   ---------------------------------- ----- 12.6/14.7 MB 5.0 MB/s eta 0:00:01\n",
      "   ---------------------------------- ----- 12.6/14.7 MB 5.0 MB/s eta 0:00:01\n",
      "   ----------------------------------- ---- 12.9/14.7 MB 4.4 MB/s eta 0:00:01\n",
      "   ------------------------------------ --- 13.4/14.7 MB 4.9 MB/s eta 0:00:01\n",
      "   ------------------------------------- -- 13.6/14.7 MB 4.9 MB/s eta 0:00:01\n",
      "   ------------------------------------- -- 13.6/14.7 MB 4.9 MB/s eta 0:00:01\n",
      "   -------------------------------------- - 14.0/14.7 MB 4.6 MB/s eta 0:00:01\n",
      "   ---------------------------------------  14.6/14.7 MB 4.7 MB/s eta 0:00:01\n",
      "   ---------------------------------------  14.7/14.7 MB 4.7 MB/s eta 0:00:01\n",
      "   ---------------------------------------  14.7/14.7 MB 4.7 MB/s eta 0:00:01\n",
      "   ---------------------------------------- 14.7/14.7 MB 4.5 MB/s eta 0:00:00\n",
      "Downloading diskcache-5.6.3-py3-none-any.whl (45 kB)\n",
      "   ---------------------------------------- 0.0/45.5 kB ? eta -:--:--\n",
      "   ---------------------------------------- 45.5/45.5 kB ? eta 0:00:00\n",
      "Building wheels for collected packages: llama-cpp-python\n",
      "  Building wheel for llama-cpp-python (pyproject.toml): started\n",
      "  Building wheel for llama-cpp-python (pyproject.toml): finished with status 'done'\n",
      "  Created wheel for llama-cpp-python: filename=llama_cpp_python-0.1.78-cp38-cp38-win_amd64.whl size=1156205 sha256=9d44ca1c4e99cf9068036838c03b5bbe7b48c7e317329d6047deb5d2860e2c30\n",
      "  Stored in directory: c:\\users\\diego\\appdata\\local\\pip\\cache\\wheels\\2d\\16\\cc\\f13c0e41bdd1066ee9dd6345c5f9eb3af5a2f79be88d0ded27\n",
      "Successfully built llama-cpp-python\n",
      "Installing collected packages: numpy, diskcache, llama-cpp-python\n",
      "  Attempting uninstall: numpy\n",
      "    Found existing installation: numpy 1.24.4\n",
      "    Uninstalling numpy-1.24.4:\n",
      "      Successfully uninstalled numpy-1.24.4\n",
      "Successfully installed diskcache-5.6.3 llama-cpp-python-0.1.78 numpy-1.23.4\n",
      "Requirement already satisfied: huggingface_hub in c:\\users\\diego\\appdata\\local\\programs\\python\\python38\\lib\\site-packages (0.28.1)\n",
      "Requirement already satisfied: filelock in c:\\users\\diego\\appdata\\local\\programs\\python\\python38\\lib\\site-packages (from huggingface_hub) (3.16.1)\n",
      "Requirement already satisfied: fsspec>=2023.5.0 in c:\\users\\diego\\appdata\\local\\programs\\python\\python38\\lib\\site-packages (from huggingface_hub) (2024.12.0)\n",
      "Requirement already satisfied: packaging>=20.9 in c:\\users\\diego\\appdata\\roaming\\python\\python38\\site-packages (from huggingface_hub) (24.1)\n",
      "Requirement already satisfied: pyyaml>=5.1 in c:\\users\\diego\\appdata\\local\\programs\\python\\python38\\lib\\site-packages (from huggingface_hub) (6.0.2)\n",
      "Requirement already satisfied: requests in c:\\users\\diego\\appdata\\local\\programs\\python\\python38\\lib\\site-packages (from huggingface_hub) (2.32.3)\n",
      "Requirement already satisfied: tqdm>=4.42.1 in c:\\users\\diego\\appdata\\local\\programs\\python\\python38\\lib\\site-packages (from huggingface_hub) (4.67.0)\n",
      "Requirement already satisfied: typing-extensions>=3.7.4.3 in c:\\users\\diego\\appdata\\roaming\\python\\python38\\site-packages (from huggingface_hub) (4.12.2)\n",
      "Requirement already satisfied: colorama in c:\\users\\diego\\appdata\\roaming\\python\\python38\\site-packages (from tqdm>=4.42.1->huggingface_hub) (0.4.6)\n",
      "Requirement already satisfied: charset-normalizer<4,>=2 in c:\\users\\diego\\appdata\\local\\programs\\python\\python38\\lib\\site-packages (from requests->huggingface_hub) (3.4.1)\n",
      "Requirement already satisfied: idna<4,>=2.5 in c:\\users\\diego\\appdata\\local\\programs\\python\\python38\\lib\\site-packages (from requests->huggingface_hub) (3.10)\n",
      "Requirement already satisfied: urllib3<3,>=1.21.1 in c:\\users\\diego\\appdata\\local\\programs\\python\\python38\\lib\\site-packages (from requests->huggingface_hub) (2.2.3)\n",
      "Requirement already satisfied: certifi>=2017.4.17 in c:\\users\\diego\\appdata\\local\\programs\\python\\python38\\lib\\site-packages (from requests->huggingface_hub) (2024.12.14)\n"
     ]
    },
    {
     "name": "stderr",
     "output_type": "stream",
     "text": [
      "\n",
      "[notice] A new release of pip is available: 23.3.1 -> 25.0.1\n",
      "[notice] To update, run: python.exe -m pip install --upgrade pip\n"
     ]
    },
    {
     "name": "stdout",
     "output_type": "stream",
     "text": [
      "Collecting sklearn\n",
      "  Downloading sklearn-0.0.post12.tar.gz (2.6 kB)\n",
      "  Installing build dependencies: started\n",
      "  Installing build dependencies: finished with status 'done'\n",
      "  Getting requirements to build wheel: started\n",
      "  Getting requirements to build wheel: finished with status 'error'\n"
     ]
    },
    {
     "name": "stderr",
     "output_type": "stream",
     "text": [
      "  error: subprocess-exited-with-error\n",
      "  \n",
      "  × Getting requirements to build wheel did not run successfully.\n",
      "  │ exit code: 1\n",
      "  ╰─> [15 lines of output]\n",
      "      The 'sklearn' PyPI package is deprecated, use 'scikit-learn'\n",
      "      rather than 'sklearn' for pip commands.\n",
      "      \n",
      "      Here is how to fix this error in the main use cases:\n",
      "      - use 'pip install scikit-learn' rather than 'pip install sklearn'\n",
      "      - replace 'sklearn' by 'scikit-learn' in your pip requirements files\n",
      "        (requirements.txt, setup.py, setup.cfg, Pipfile, etc ...)\n",
      "      - if the 'sklearn' package is used by one of your dependencies,\n",
      "        it would be great if you take some time to track which package uses\n",
      "        'sklearn' instead of 'scikit-learn' and report it to their issue tracker\n",
      "      - as a last resort, set the environment variable\n",
      "        SKLEARN_ALLOW_DEPRECATED_SKLEARN_PACKAGE_INSTALL=True to avoid this error\n",
      "      \n",
      "      More information is available at\n",
      "      https://github.com/scikit-learn/sklearn-pypi-package\n",
      "      [end of output]\n",
      "  \n",
      "  note: This error originates from a subprocess, and is likely not a problem with pip.\n",
      "error: subprocess-exited-with-error\n",
      "\n",
      "× Getting requirements to build wheel did not run successfully.\n",
      "│ exit code: 1\n",
      "╰─> See above for output.\n",
      "\n",
      "note: This error originates from a subprocess, and is likely not a problem with pip.\n",
      "\n",
      "[notice] A new release of pip is available: 23.3.1 -> 25.0.1\n",
      "[notice] To update, run: python.exe -m pip install --upgrade pip\n"
     ]
    }
   ],
   "source": [
    "# Instalación de las librerías necesarias\n",
    "!pip install llama-cpp-python==0.1.78 numpy==1.23.4\n",
    "!pip install huggingface_hub\n",
    "!pip install sklearn"
   ]
  },
  {
   "cell_type": "markdown",
   "metadata": {},
   "source": [
    "### 2. Importar librerías"
   ]
  },
  {
   "cell_type": "code",
   "execution_count": 2,
   "metadata": {},
   "outputs": [
    {
     "name": "stderr",
     "output_type": "stream",
     "text": [
      "c:\\Users\\diego\\AppData\\Local\\Programs\\Python\\Python38\\lib\\site-packages\\tqdm\\auto.py:21: TqdmWarning: IProgress not found. Please update jupyter and ipywidgets. See https://ipywidgets.readthedocs.io/en/stable/user_install.html\n",
      "  from .autonotebook import tqdm as notebook_tqdm\n"
     ]
    }
   ],
   "source": [
    "import pandas as pd\n",
    "from sklearn.feature_extraction.text import TfidfVectorizer\n",
    "from sklearn.metrics.pairwise import cosine_similarity\n",
    "from huggingface_hub import hf_hub_download\n",
    "from llama_cpp import Llama\n"
   ]
  },
  {
   "cell_type": "markdown",
   "metadata": {},
   "source": [
    "### 3. Cargar el modelo Llama desde Hugging Face"
   ]
  },
  {
   "cell_type": "code",
   "execution_count": 5,
   "metadata": {},
   "outputs": [],
   "source": [
    "# Definir la ruta del modelo\n",
    "model_name_or_path = \"TheBloke/Llama-2-13B-chat-GGML\"\n",
    "model_basename = \"llama-2-13b-chat.ggmlv3.q5_1.bin\""
   ]
  },
  {
   "cell_type": "code",
   "execution_count": 6,
   "metadata": {},
   "outputs": [
    {
     "name": "stderr",
     "output_type": "stream",
     "text": [
      "c:\\Users\\diego\\AppData\\Local\\Programs\\Python\\Python38\\lib\\site-packages\\huggingface_hub\\file_download.py:140: UserWarning: `huggingface_hub` cache-system uses symlinks by default to efficiently store duplicated files but your machine does not support them in C:\\Users\\diego\\.cache\\huggingface\\hub\\models--TheBloke--Llama-2-13B-chat-GGML. Caching files will still work but in a degraded version that might require more space on your disk. This warning can be disabled by setting the `HF_HUB_DISABLE_SYMLINKS_WARNING` environment variable. For more details, see https://huggingface.co/docs/huggingface_hub/how-to-cache#limitations.\n",
      "To support symlinks on Windows, you either need to activate Developer Mode or to run Python as an administrator. In order to activate developer mode, see this article: https://docs.microsoft.com/en-us/windows/apps/get-started/enable-your-device-for-development\n",
      "  warnings.warn(message)\n"
     ]
    }
   ],
   "source": [
    "# Descargar el modelo\n",
    "model_path = hf_hub_download(repo_id=model_name_or_path, filename=model_basename)"
   ]
  },
  {
   "cell_type": "code",
   "execution_count": 7,
   "metadata": {},
   "outputs": [
    {
     "name": "stderr",
     "output_type": "stream",
     "text": [
      "AVX = 1 | AVX2 = 1 | AVX512 = 0 | AVX512_VBMI = 0 | AVX512_VNNI = 0 | FMA = 1 | NEON = 0 | ARM_FMA = 0 | F16C = 1 | FP16_VA = 0 | WASM_SIMD = 0 | BLAS = 0 | SSE3 = 1 | VSX = 0 | \n"
     ]
    }
   ],
   "source": [
    "# Cargar el modelo en la GPU\n",
    "lcpp_llm = Llama(\n",
    "    model_path=model_path,\n",
    "    n_threads=2,  # Usamos 2 núcleos de CPU\n",
    "    n_batch=512,  # Tamaño del lote (ajustar según la VRAM)\n",
    "    n_gpu_layers=32  # Capas en la GPU (ajustar según VRAM)\n",
    ")"
   ]
  },
  {
   "cell_type": "markdown",
   "metadata": {},
   "source": [
    "### 4. Crear un DataFrame con los documentos"
   ]
  },
  {
   "cell_type": "code",
   "execution_count": 8,
   "metadata": {},
   "outputs": [],
   "source": [
    "# Datos de ejemplo relacionados con Ecuador\n",
    "data = [\n",
    "    {\"file_name\": \"politica_1.txt\", \"content\": \"Ecuador ha tenido una historia política marcada por cambios de gobierno y movimientos sociales. El presidente actual ha centrado su agenda en mejorar la seguridad y la economía del país.\"},\n",
    "    {\"file_name\": \"geografia_1.txt\", \"content\": \"Ecuador es conocido por su biodiversidad, con el Amazonas, los Andes y las Islas Galápagos. Su clima varía de tropical a templado dependiendo de la región.\"},\n",
    "    {\"file_name\": \"cultura_1.txt\", \"content\": \"La cultura ecuatoriana está influenciada por sus raíces indígenas y coloniales. La música y la danza son parte fundamental de las celebraciones tradicionales, como el Inti Raymi.\"},\n",
    "    {\"file_name\": \"economia_1.txt\", \"content\": \"La economía de Ecuador depende en gran medida de las exportaciones de petróleo, pero también ha tenido un creciente desarrollo en el sector agrícola, especialmente el banano y el cacao.\"},\n",
    "    {\"file_name\": \"politica_2.txt\", \"content\": \"En los últimos años, el gobierno ecuatoriano ha trabajado para aumentar la inversión extranjera, mientras también aborda las tensiones sociales causadas por las reformas económicas.\"},\n",
    "    {\"file_name\": \"geografia_2.txt\", \"content\": \"Ecuador posee la mitad del mundo, atravesando la línea ecuatorial. Además, sus montañas, volcanes activos y selvas tropicales hacen del país un destino turístico popular.\"},\n",
    "    {\"file_name\": \"cultura_2.txt\", \"content\": \"Ecuador tiene una rica tradición artesanal, con comunidades que producen textiles, cerámica y joyería en varios pueblos a lo largo del país.\"},\n",
    "    {\"file_name\": \"economia_2.txt\", \"content\": \"A pesar de la dependencia del petróleo, Ecuador ha diversificado su economía mediante el desarrollo de su industria del turismo, especialmente en las Islas Galápagos.\"}\n",
    "]\n",
    "\n",
    "# Crear un DataFrame\n",
    "df_ecuador = pd.DataFrame(data)\n"
   ]
  },
  {
   "cell_type": "code",
   "execution_count": 9,
   "metadata": {},
   "outputs": [
    {
     "data": {
      "text/html": [
       "<div>\n",
       "<style scoped>\n",
       "    .dataframe tbody tr th:only-of-type {\n",
       "        vertical-align: middle;\n",
       "    }\n",
       "\n",
       "    .dataframe tbody tr th {\n",
       "        vertical-align: top;\n",
       "    }\n",
       "\n",
       "    .dataframe thead th {\n",
       "        text-align: right;\n",
       "    }\n",
       "</style>\n",
       "<table border=\"1\" class=\"dataframe\">\n",
       "  <thead>\n",
       "    <tr style=\"text-align: right;\">\n",
       "      <th></th>\n",
       "      <th>file_name</th>\n",
       "      <th>content</th>\n",
       "    </tr>\n",
       "  </thead>\n",
       "  <tbody>\n",
       "    <tr>\n",
       "      <th>0</th>\n",
       "      <td>politica_1.txt</td>\n",
       "      <td>Ecuador ha tenido una historia política marcad...</td>\n",
       "    </tr>\n",
       "    <tr>\n",
       "      <th>1</th>\n",
       "      <td>geografia_1.txt</td>\n",
       "      <td>Ecuador es conocido por su biodiversidad, con ...</td>\n",
       "    </tr>\n",
       "    <tr>\n",
       "      <th>2</th>\n",
       "      <td>cultura_1.txt</td>\n",
       "      <td>La cultura ecuatoriana está influenciada por s...</td>\n",
       "    </tr>\n",
       "    <tr>\n",
       "      <th>3</th>\n",
       "      <td>economia_1.txt</td>\n",
       "      <td>La economía de Ecuador depende en gran medida ...</td>\n",
       "    </tr>\n",
       "    <tr>\n",
       "      <th>4</th>\n",
       "      <td>politica_2.txt</td>\n",
       "      <td>En los últimos años, el gobierno ecuatoriano h...</td>\n",
       "    </tr>\n",
       "    <tr>\n",
       "      <th>5</th>\n",
       "      <td>geografia_2.txt</td>\n",
       "      <td>Ecuador posee la mitad del mundo, atravesando ...</td>\n",
       "    </tr>\n",
       "    <tr>\n",
       "      <th>6</th>\n",
       "      <td>cultura_2.txt</td>\n",
       "      <td>Ecuador tiene una rica tradición artesanal, co...</td>\n",
       "    </tr>\n",
       "    <tr>\n",
       "      <th>7</th>\n",
       "      <td>economia_2.txt</td>\n",
       "      <td>A pesar de la dependencia del petróleo, Ecuado...</td>\n",
       "    </tr>\n",
       "  </tbody>\n",
       "</table>\n",
       "</div>"
      ],
      "text/plain": [
       "         file_name                                            content\n",
       "0   politica_1.txt  Ecuador ha tenido una historia política marcad...\n",
       "1  geografia_1.txt  Ecuador es conocido por su biodiversidad, con ...\n",
       "2    cultura_1.txt  La cultura ecuatoriana está influenciada por s...\n",
       "3   economia_1.txt  La economía de Ecuador depende en gran medida ...\n",
       "4   politica_2.txt  En los últimos años, el gobierno ecuatoriano h...\n",
       "5  geografia_2.txt  Ecuador posee la mitad del mundo, atravesando ...\n",
       "6    cultura_2.txt  Ecuador tiene una rica tradición artesanal, co...\n",
       "7   economia_2.txt  A pesar de la dependencia del petróleo, Ecuado..."
      ]
     },
     "execution_count": 9,
     "metadata": {},
     "output_type": "execute_result"
    }
   ],
   "source": [
    "df_ecuador"
   ]
  },
  {
   "cell_type": "markdown",
   "metadata": {},
   "source": [
    "### 5. Implementar el sistema de Recuperación de Información (RI)\n",
    "\n",
    "Usamos TF-IDF para calcular la similitud entre la query y los documentos, y recuperar los más relevantes."
   ]
  },
  {
   "cell_type": "code",
   "execution_count": 10,
   "metadata": {},
   "outputs": [
    {
     "name": "stdout",
     "output_type": "stream",
     "text": [
      "Documentos relevantes:\n",
      "geografia_1.txt: Ecuador es conocido por su biodiversidad, con el Amazonas, los Andes y las Islas Galápagos. Su clima varía de tropical a templado dependiendo de la región.\n",
      "\n",
      "politica_1.txt: Ecuador ha tenido una historia política marcada por cambios de gobierno y movimientos sociales. El presidente actual ha centrado su agenda en mejorar la seguridad y la economía del país.\n",
      "\n",
      "geografia_2.txt: Ecuador posee la mitad del mundo, atravesando la línea ecuatorial. Además, sus montañas, volcanes activos y selvas tropicales hacen del país un destino turístico popular.\n",
      "\n"
     ]
    }
   ],
   "source": [
    "# Crear el vectorizador TF-IDF\n",
    "vectorizer = TfidfVectorizer(stop_words='english')\n",
    "\n",
    "# Vectorizar los documentos y la consulta (query)\n",
    "doc_vectors = vectorizer.fit_transform(df_ecuador['content'])\n",
    "query = \"¿Cómo es la economia de Ecuador?\"\n",
    "query_vector = vectorizer.transform([query])\n",
    "\n",
    "# Calcular la similitud entre la consulta y los documentos\n",
    "cosine_similarities = cosine_similarity(query_vector, doc_vectors)\n",
    "\n",
    "# Obtener los índices de los documentos más relevantes\n",
    "top_n = 3  # Número de documentos a recuperar\n",
    "relevant_doc_indices = cosine_similarities.argsort()[0][-top_n:][::-1]\n",
    "\n",
    "# Mostrar los documentos relevantes\n",
    "relevant_docs = df_ecuador.iloc[relevant_doc_indices]\n",
    "print(\"Documentos relevantes:\")\n",
    "for index, row in relevant_docs.iterrows():\n",
    "    print(f\"{row['file_name']}: {row['content']}\\n\")\n"
   ]
  },
  {
   "cell_type": "markdown",
   "metadata": {},
   "source": [
    "### 6. Generación Aumentada por Recuperación (RAG)"
   ]
  },
  {
   "cell_type": "code",
   "execution_count": 11,
   "metadata": {},
   "outputs": [
    {
     "name": "stdout",
     "output_type": "stream",
     "text": [
      "SYSTEM: Eres una asistente personal que busca ayudar lo mejor posible.\n",
      "\n",
      "USER: ¿Cómo es la economia de Ecuador?\n",
      "\n",
      "CONTEXT: Ecuador es conocido por su biodiversidad, con el Amazonas, los Andes y las Islas Galápagos. Su clima varía de tropical a templado dependiendo de la región.\n",
      "Ecuador ha tenido una historia política marcada por cambios de gobierno y movimientos sociales. El presidente actual ha centrado su agenda en mejorar la seguridad y la economía del país.\n",
      "Ecuador posee la mitad del mundo, atravesando la línea ecuatorial. Además, sus montañas, volcanes activos y selvas tropicales hacen del país un destino turístico popular.\n",
      "\n",
      "ASSISTANT:\n",
      "¡Hola! ¡Claro que sí! La economía de Ecuador es diversa y en constante crecimiento. A continuación, te brindo algunos puntos clave sobre la situación actual:\n",
      "\n",
      "1. Agricultura: El sector agrícola es una de las principales contribuidoras a la economía ecuatoriana. Los productos más destacados son el cacao, el coffee, el banano y los frutas tropicales. La producción de alimentos se ha visto afectada por factores climáticos y políticos recientemente.\n",
      "2. Minería: Ecuador es rico en recursos mineros como oro, plata, copper, zinc y petróleo. La industria minera aporta una gran cantidad de divisas al país y ha experimentado un crecimiento constante en las últimas décadas.\n",
      "3. Turismo: El turismo es uno de los sectores más importantes de la economía ecuatoriana, atrayendo a millones de visitantes cada año gracias a sus paisajes naturales únicos y ricas culturas. Los destinos turísticos populares incluyen\n"
     ]
    }
   ],
   "source": [
    "# Obtener el contexto de los documentos relevantes\n",
    "context = \"\\n\".join(relevant_docs['content'])\n",
    "\n",
    "# Definir el prompt que incluirá la consulta y el contexto\n",
    "prompt_template = f'''SYSTEM: Eres una asistente personal que busca ayudar lo mejor posible.\n",
    "\n",
    "USER: {query}\n",
    "\n",
    "CONTEXT: {context}\n",
    "\n",
    "ASSISTANT:\n",
    "'''\n",
    "\n",
    "# Generar la respuesta con Llama\n",
    "response = lcpp_llm(prompt=prompt_template, max_tokens=256, temperature=0.3, top_p=0.95, repeat_penalty=1.2, top_k=150, echo=True)\n",
    "\n",
    "# Imprimir la respuesta generada\n",
    "print(response[\"choices\"][0][\"text\"])\n"
   ]
  },
  {
   "cell_type": "markdown",
   "metadata": {},
   "source": [
    "### Otro ejemplo"
   ]
  },
  {
   "cell_type": "code",
   "execution_count": 14,
   "metadata": {},
   "outputs": [
    {
     "name": "stdout",
     "output_type": "stream",
     "text": [
      "Documentos relevantes:\n",
      "economia_1.txt: La economía de Ecuador depende en gran medida de las exportaciones de petróleo, pero también ha tenido un creciente desarrollo en el sector agrícola, especialmente el banano y el cacao.\n",
      "\n",
      "economia_2.txt: A pesar de la dependencia del petróleo, Ecuador ha diversificado su economía mediante el desarrollo de su industria del turismo, especialmente en las Islas Galápagos.\n",
      "\n",
      "cultura_2.txt: Ecuador tiene una rica tradición artesanal, con comunidades que producen textiles, cerámica y joyería en varios pueblos a lo largo del país.\n",
      "\n"
     ]
    }
   ],
   "source": [
    "# Crear el vectorizador TF-IDF\n",
    "vectorizer = TfidfVectorizer(stop_words='english')\n",
    "\n",
    "# Vectorizar los documentos y la consulta (query)\n",
    "doc_vectors = vectorizer.fit_transform(df_ecuador['content'])\n",
    "query = \"¿Hay cacao en Ecuador?\"\n",
    "query_vector = vectorizer.transform([query])\n",
    "\n",
    "# Calcular la similitud entre la consulta y los documentos\n",
    "cosine_similarities = cosine_similarity(query_vector, doc_vectors)\n",
    "\n",
    "# Obtener los índices de los documentos más relevantes\n",
    "top_n = 3  # Número de documentos a recuperar\n",
    "relevant_doc_indices = cosine_similarities.argsort()[0][-top_n:][::-1]\n",
    "\n",
    "# Mostrar los documentos relevantes\n",
    "relevant_docs = df_ecuador.iloc[relevant_doc_indices]\n",
    "print(\"Documentos relevantes:\")\n",
    "for index, row in relevant_docs.iterrows():\n",
    "    print(f\"{row['file_name']}: {row['content']}\\n\")\n"
   ]
  },
  {
   "cell_type": "code",
   "execution_count": 15,
   "metadata": {},
   "outputs": [
    {
     "name": "stderr",
     "output_type": "stream",
     "text": [
      "Llama.generate: prefix-match hit\n"
     ]
    },
    {
     "name": "stdout",
     "output_type": "stream",
     "text": [
      "SYSTEM: Eres una asistente personal que busca ayudar lo mejor posible.\n",
      "\n",
      "USER: ¿Hay cacao en Ecuador?\n",
      "\n",
      "CONTEXT: La economía de Ecuador depende en gran medida de las exportaciones de petróleo, pero también ha tenido un creciente desarrollo en el sector agrícola, especialmente el banano y el cacao.\n",
      "A pesar de la dependencia del petróleo, Ecuador ha diversificado su economía mediante el desarrollo de su industria del turismo, especialmente en las Islas Galápagos.\n",
      "Ecuador tiene una rica tradición artesanal, con comunidades que producen textiles, cerámica y joyería en varios pueblos a lo largo del país.\n",
      "\n",
      "ASSISTANT:\n",
      "¡Claro! Ecuador es famoso por su producción de cacao y es uno de los mayores productores de América Latina. La región más conocida para la producción de cacao en Ecuador es el valle del Guayas, específicamente en las provincias de Guayaquil y Cañar.\n",
      "La industria del cacao en Ecuador se ha desarrollado gracias a su clima y suelo ideales para el cultivo, así como por la tecnología y los programas de mejora que han sido implementados en las plantaciones.\n",
      "Además, Ecuador también es conocido por sus variedades únicas de cacao, como el Arriba y el Nacional, que se utilizan en la producción de chocolate de alta calidad.\n",
      "¿Hay alguna otra pregunta sobre Ecuador o el cacao?\n"
     ]
    }
   ],
   "source": [
    "# Obtener el contexto de los documentos relevantes\n",
    "context = \"\\n\".join(relevant_docs['content'])\n",
    "\n",
    "# Definir el prompt que incluirá la consulta y el contexto\n",
    "prompt_template = f'''SYSTEM: Eres una asistente personal que busca ayudar lo mejor posible.\n",
    "\n",
    "USER: {query}\n",
    "\n",
    "CONTEXT: {context}\n",
    "\n",
    "ASSISTANT:\n",
    "'''\n",
    "\n",
    "# Generar la respuesta con Llama\n",
    "response = lcpp_llm(prompt=prompt_template, max_tokens=256, temperature=0.3, top_p=0.95, repeat_penalty=1.2, top_k=150, echo=True)\n",
    "\n",
    "# Imprimir la respuesta generada\n",
    "print(response[\"choices\"][0][\"text\"])"
   ]
  }
 ],
 "metadata": {
  "kernelspec": {
   "display_name": "Python 3",
   "language": "python",
   "name": "python3"
  },
  "language_info": {
   "codemirror_mode": {
    "name": "ipython",
    "version": 3
   },
   "file_extension": ".py",
   "mimetype": "text/x-python",
   "name": "python",
   "nbconvert_exporter": "python",
   "pygments_lexer": "ipython3",
   "version": "3.8.10"
  }
 },
 "nbformat": 4,
 "nbformat_minor": 2
}
