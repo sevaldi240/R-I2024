{
  "cells": [
    {
      "cell_type": "markdown",
      "source": [
        "#**Escuela Politecnica Nacional**\n",
        "##**Recuperación de la Información**\n",
        "Nombre: Kleber Janeta\n",
        "\n",
        "\n"
      ],
      "metadata": {
        "id": "dgkBs66SGppw"
      },
      "id": "dgkBs66SGppw"
    },
    {
      "metadata": {
        "id": "7266022d411c887f"
      },
      "cell_type": "markdown",
      "source": [
        "# Ejercicio 01: Recuperación de Información Basado en el Modelo de Matriz Término-Documento\n",
        "\n",
        "En este ejercicio, trabajaremos con un corpus de documentos en formato JSON para implementar un sistema de Recuperación de Información basado en el modelo de espacio vectorial. Seguirás los siguientes pasos:"
      ],
      "id": "7266022d411c887f"
    },
    {
      "metadata": {
        "id": "b20440e0de103cf3"
      },
      "cell_type": "markdown",
      "source": [
        "## Paso 1: Determinar un vocabulario\n",
        "El primer paso es cargar el corpus en formato JSON, extraer los textos de los documentos y crear el vocabulario."
      ],
      "id": "b20440e0de103cf3"
    },
    {
      "cell_type": "code",
      "id": "initial_id",
      "metadata": {
        "collapsed": true,
        "ExecuteTime": {
          "end_time": "2024-10-22T12:22:34.639750Z",
          "start_time": "2024-10-22T12:22:34.631518Z"
        },
        "id": "initial_id"
      },
      "source": [
        "import json\n",
        "\n",
        "datos = []\n",
        "with open(file='../content/01tdmatrix_corpus.json', mode='r', encoding='utf-8') as file:\n",
        "    datos = json.load(file)"
      ],
      "outputs": [],
      "execution_count": 50
    },
    {
      "metadata": {
        "ExecuteTime": {
          "end_time": "2024-10-22T12:28:42.503285Z",
          "start_time": "2024-10-22T12:28:42.487436Z"
        },
        "colab": {
          "base_uri": "https://localhost:8080/"
        },
        "id": "1cad34a871eac562",
        "outputId": "aea2afe6-9e68-4a44-ad4d-af647a7c9dd4"
      },
      "cell_type": "code",
      "source": [
        "print(datos[0]['text'].lower())"
      ],
      "id": "1cad34a871eac562",
      "outputs": [
        {
          "output_type": "stream",
          "name": "stdout",
          "text": [
            "la inteligencia artificial continúa avanzando rápidamente, transformando sectores como la salud y las finanzas. las empresas están adoptando algoritmos de aprendizaje automático para mejorar la eficiencia. sin embargo, el desafío principal sigue siendo garantizar que las decisiones basadas en datos sean justas y no perpetúen sesgos. la ética es fundamental en este contexto.\n"
          ]
        }
      ],
      "execution_count": 51
    },
    {
      "metadata": {
        "ExecuteTime": {
          "end_time": "2024-10-22T12:29:11.334724Z",
          "start_time": "2024-10-22T12:29:11.319181Z"
        },
        "colab": {
          "base_uri": "https://localhost:8080/"
        },
        "id": "186d5925bdd633b0",
        "outputId": "c107125b-05dd-4f09-e4b8-6a92d3461ad7"
      },
      "cell_type": "code",
      "source": [
        "print(datos[0]['text'].lower().split())"
      ],
      "id": "186d5925bdd633b0",
      "outputs": [
        {
          "output_type": "stream",
          "name": "stdout",
          "text": [
            "['la', 'inteligencia', 'artificial', 'continúa', 'avanzando', 'rápidamente,', 'transformando', 'sectores', 'como', 'la', 'salud', 'y', 'las', 'finanzas.', 'las', 'empresas', 'están', 'adoptando', 'algoritmos', 'de', 'aprendizaje', 'automático', 'para', 'mejorar', 'la', 'eficiencia.', 'sin', 'embargo,', 'el', 'desafío', 'principal', 'sigue', 'siendo', 'garantizar', 'que', 'las', 'decisiones', 'basadas', 'en', 'datos', 'sean', 'justas', 'y', 'no', 'perpetúen', 'sesgos.', 'la', 'ética', 'es', 'fundamental', 'en', 'este', 'contexto.']\n"
          ]
        }
      ],
      "execution_count": 52
    },
    {
      "metadata": {
        "ExecuteTime": {
          "end_time": "2024-10-22T12:29:44.074040Z",
          "start_time": "2024-10-22T12:29:44.059539Z"
        },
        "colab": {
          "base_uri": "https://localhost:8080/"
        },
        "id": "63b4fbc92a3a663d",
        "outputId": "a8a5c76e-a420-499a-c999-524108bda71b"
      },
      "cell_type": "code",
      "source": [
        "vocab = set(datos[0]['text'].lower().split())\n",
        "print(vocab)\n",
        "print(len(vocab))"
      ],
      "id": "63b4fbc92a3a663d",
      "outputs": [
        {
          "output_type": "stream",
          "name": "stdout",
          "text": [
            "{'es', 'perpetúen', 'principal', 'adoptando', 'como', 'algoritmos', 'mejorar', 'en', 'contexto.', 'continúa', 'el', 'la', 'y', 'las', 'eficiencia.', 'justas', 'datos', 'ética', 'sigue', 'sean', 'para', 'transformando', 'automático', 'sin', 'rápidamente,', 'salud', 'este', 'desafío', 'están', 'fundamental', 'sesgos.', 'empresas', 'aprendizaje', 'que', 'avanzando', 'finanzas.', 'de', 'embargo,', 'no', 'sectores', 'garantizar', 'siendo', 'decisiones', 'artificial', 'inteligencia', 'basadas'}\n",
            "46\n"
          ]
        }
      ],
      "execution_count": 53
    },
    {
      "metadata": {
        "ExecuteTime": {
          "end_time": "2024-10-22T12:36:39.293698Z",
          "start_time": "2024-10-22T12:36:39.280871Z"
        },
        "colab": {
          "base_uri": "https://localhost:8080/"
        },
        "id": "5eded2ae4aeba3e2",
        "outputId": "8307878a-aba9-4e6c-df74-1fceb4bdc090"
      },
      "cell_type": "code",
      "source": [
        "vocab = []\n",
        "for i in range(0,len(datos)):\n",
        "    vocab.extend(datos[i]['text'].lower().replace(',','').replace('.','').split())\n",
        "vocab = set(vocab)\n",
        "print(len(vocab))\n",
        "print(vocab)"
      ],
      "id": "5eded2ae4aeba3e2",
      "outputs": [
        {
          "output_type": "stream",
          "name": "stdout",
          "text": [
            "230\n",
            "{'personalizadas', 'crecimiento', 'principal', 'educativa', 'democratizando', 'dispositivos', 'adoptando', 'algoritmos', 'en', 'transacciones', 'uno', 'optimizando', 'y', 'ética', 'permitido', 'medicina', 'los', 'escenas', 'mejorando', 'para', 'transformando', 'un', 'reto', 'ciencia', 'sin', 'avanzadas', 'embargo', 'su', 'espectadores', 'también', 'tecnológicos', 'se', 'compramos', 'llevado', 'donde', 'programas', 'personal', 'mayores', 'cine', 'impulsa', 'e-sports', 'nuevo', 'streaming', 'cuándo', 'empresas', 'reflexionar', 'sino', 'películas', 'avanzando', 'solo', 'vida', 'saludables', 'habilidades', 'cursos', 'a', 'planetas', 'calidad', 'aquellos', 'desafían', 'interacción', 'consumidores', 'artificial', 'cambiando', 'tratan', 'experiencias', 'género', 'muchas', 'médicos', 'tecnologías', 'años', 'humanidad', 'competencias', 'real', 'con', 'trabajos', 'personalizados', 'eficaces', 'mejorar', 'ofrecer', 'una', 'continúa', 'ahora', 'la', 'acceso', 'las', 'aunque', 'línea', 'aumento', 'pagos', 'sigue', 'aplicaciones', 'sus', 'videojuegos', 'inmersivos', 'acceder', 'cinematográficas', 'buscan', 'invita', 'mundo', 'virtuales', 'rápidamente', 'además', 'están', 'fundamental', 'aprendizaje', 'que', 'cuidados', 'facilitando', 'de', 'eficiencia', 'alcanzado', 'ha', 'contenido', 'géneros', 'no', 'usuario', 'libros', 'siendo', 'creciente', 'público', 'prioridad', 'plataformas', 'finanzas', 'series', 'personas', 'basadas', 'jugadores', 'especialmente', 'hasta', 'atraen', 'crear', 'visuales', 'adopción', 'literarios', 'efectos', 'pueden', 'interactuar', 'consume', 'ubicación', 'justas', 'rápidos', 'transformado', 'cambiado', 'está', 'profesionales', 'utilizan', 'prometedor', 'temas', 'millones', 'diagnostican', 'salud', 'este', 'nivel', 'portátiles', 'forma', 'telemedicina', 'ficción', 'monitorean', 'mejores', 'distancia', 'integral', 'cómo', 'recomendaciones', 'producciones', 'sectores', 'completo', 'populares', 'decisiones', 'contexto', 'implicaciones', 'accesibles', 'inteligencia', 'más', 'entretiene', 'es', 'individual', 'perpetúen', 'desarrollo', 'futuro', 'convertido', 'sesgos', 'como', 'vez', 'realidad', 'mundos', 'mercado', 'enfermedades', 'el', 'tecnología', 'incorporando', 'nuevas', 'evolucionado', 'datos', 'realistas', 'importar', 'educación', 'enfoque', 'estudiantes', 'automático', 'aumentada', 'electrónico', 'presencial', 'sobre', 'explorando', 'todo', 'cada', 'desafío', 'avances', 'flexibilidad', 'desde', 'comercio', 'beneficios', 'hábitos', 'viaje', 'herramientas', 'digitales', 'falta', 'demanda', 'tiempo', 'siguen', 'compras', 'bienestar', 'diarias', 'permitiendo', 'garantizar', 'tratamientos', 'experiencia', 'otros', 'promueven', 'sean'}\n"
          ]
        }
      ],
      "execution_count": 54
    },
    {
      "metadata": {
        "id": "549d0d8b6f7ed0a2"
      },
      "cell_type": "markdown",
      "source": [
        "## Paso 2: Calcular una matriz término-documento\n",
        "Una vez que tenemos el vocabulario, el siguiente paso es construir una **matriz término-documento**, que nos permitirá representar cada documento como un vector en el espacio de términos."
      ],
      "id": "549d0d8b6f7ed0a2"
    },
    {
      "metadata": {
        "ExecuteTime": {
          "end_time": "2024-10-22T13:00:04.977448Z",
          "start_time": "2024-10-22T13:00:04.961452Z"
        },
        "id": "4b35c2996c774ec2"
      },
      "cell_type": "code",
      "source": [
        "def tdtransform(text):\n",
        "    doc = []\n",
        "    for word in vocab:\n",
        "        if word in text.lower().replace(',','').replace('.','').split():\n",
        "           doc.append(1)\n",
        "        else:\n",
        "            doc.append(0)\n",
        "    return doc"
      ],
      "id": "4b35c2996c774ec2",
      "outputs": [],
      "execution_count": 55
    },
    {
      "metadata": {
        "ExecuteTime": {
          "end_time": "2024-10-22T13:00:30.419629Z",
          "start_time": "2024-10-22T13:00:30.382836Z"
        },
        "colab": {
          "base_uri": "https://localhost:8080/"
        },
        "id": "1b052a6cd19731a5",
        "outputId": "5aefb221-f076-467b-85c6-df39ee9ac71f"
      },
      "cell_type": "code",
      "source": [
        "tdmatrix = []\n",
        "for i in range(0,len(datos)):\n",
        "    doc = tdtransform(text=datos[i]['text'])\n",
        "    tdmatrix.append(doc)\n",
        "print(tdmatrix)\n"
      ],
      "id": "1b052a6cd19731a5",
      "outputs": [
        {
          "output_type": "stream",
          "name": "stdout",
          "text": [
            "[[0, 0, 1, 0, 0, 0, 1, 1, 1, 0, 0, 0, 1, 1, 0, 0, 0, 0, 0, 1, 1, 0, 0, 0, 1, 0, 1, 0, 0, 0, 0, 0, 0, 0, 0, 0, 0, 0, 0, 0, 0, 0, 0, 0, 1, 0, 0, 0, 1, 0, 0, 0, 0, 0, 0, 0, 0, 0, 0, 0, 0, 1, 0, 0, 0, 0, 0, 0, 0, 0, 0, 0, 0, 0, 0, 0, 0, 1, 0, 0, 1, 0, 1, 0, 1, 0, 0, 0, 0, 1, 0, 0, 0, 0, 0, 0, 0, 0, 0, 0, 1, 0, 1, 1, 1, 1, 0, 0, 1, 1, 0, 0, 0, 0, 1, 0, 0, 1, 0, 0, 0, 0, 1, 0, 0, 1, 0, 0, 0, 0, 0, 0, 0, 0, 0, 0, 0, 0, 0, 1, 0, 0, 0, 0, 0, 0, 0, 0, 0, 0, 1, 1, 0, 0, 0, 0, 0, 0, 0, 0, 0, 0, 0, 0, 1, 0, 0, 1, 1, 0, 0, 1, 0, 0, 1, 0, 1, 0, 0, 0, 1, 1, 0, 0, 0, 0, 0, 1, 0, 0, 0, 0, 1, 0, 0, 0, 0, 0, 1, 0, 0, 0, 0, 0, 0, 0, 1, 0, 0, 0, 0, 0, 0, 0, 0, 0, 0, 0, 0, 0, 0, 0, 0, 0, 1, 0, 0, 0, 0, 1], [0, 1, 0, 0, 0, 0, 0, 0, 1, 0, 0, 0, 1, 0, 0, 0, 1, 0, 0, 0, 0, 1, 0, 0, 0, 0, 0, 0, 1, 1, 0, 0, 0, 0, 1, 0, 0, 0, 0, 1, 1, 1, 0, 0, 0, 0, 0, 0, 0, 0, 0, 0, 0, 0, 1, 0, 0, 0, 0, 0, 0, 1, 0, 0, 0, 0, 0, 0, 1, 0, 0, 1, 0, 1, 0, 0, 0, 0, 0, 0, 0, 1, 1, 0, 1, 0, 0, 0, 0, 0, 0, 0, 1, 1, 0, 0, 0, 0, 1, 1, 0, 0, 0, 0, 0, 0, 0, 0, 1, 0, 1, 1, 0, 0, 0, 0, 0, 0, 0, 0, 0, 0, 0, 0, 0, 0, 1, 0, 0, 1, 0, 0, 0, 0, 0, 1, 1, 0, 0, 0, 0, 0, 0, 0, 1, 0, 0, 0, 1, 0, 0, 1, 1, 0, 0, 0, 0, 0, 0, 0, 0, 0, 0, 0, 0, 0, 0, 0, 0, 0, 0, 1, 1, 0, 0, 0, 0, 1, 0, 0, 0, 1, 0, 1, 1, 1, 0, 1, 0, 0, 0, 0, 0, 0, 0, 0, 0, 0, 0, 1, 0, 0, 0, 0, 1, 0, 0, 0, 0, 0, 0, 0, 0, 0, 0, 0, 0, 0, 0, 0, 0, 0, 0, 0, 0, 0, 0, 0, 0, 0], [1, 0, 0, 0, 0, 0, 0, 0, 1, 1, 0, 1, 0, 0, 0, 0, 1, 0, 0, 1, 0, 0, 0, 0, 0, 0, 0, 0, 0, 0, 0, 0, 1, 0, 0, 0, 0, 0, 0, 0, 0, 0, 0, 0, 1, 0, 0, 0, 0, 0, 0, 0, 0, 0, 0, 0, 0, 0, 0, 0, 1, 0, 0, 0, 1, 0, 0, 0, 0, 0, 0, 0, 0, 1, 0, 0, 0, 0, 1, 0, 0, 0, 1, 0, 1, 0, 1, 0, 1, 0, 0, 1, 0, 0, 0, 0, 0, 0, 0, 0, 0, 0, 1, 0, 0, 1, 0, 1, 1, 0, 0, 1, 0, 0, 0, 1, 0, 0, 1, 0, 0, 1, 0, 0, 0, 0, 0, 0, 1, 0, 0, 0, 0, 0, 0, 0, 0, 0, 0, 0, 1, 0, 1, 0, 0, 0, 0, 0, 0, 0, 0, 0, 0, 0, 1, 0, 0, 0, 1, 0, 0, 0, 1, 0, 0, 0, 0, 0, 0, 0, 0, 0, 0, 0, 0, 0, 0, 0, 0, 0, 0, 0, 0, 0, 0, 0, 0, 1, 1, 0, 0, 0, 0, 0, 0, 0, 0, 0, 0, 0, 1, 0, 0, 0, 0, 0, 0, 1, 0, 1, 1, 0, 0, 0, 0, 1, 0, 1, 0, 1, 1, 0, 1, 0, 0, 0, 0, 0, 0, 0], [0, 0, 0, 1, 0, 0, 0, 0, 0, 0, 1, 0, 0, 0, 1, 0, 1, 0, 1, 1, 0, 1, 1, 0, 1, 0, 0, 1, 0, 0, 0, 0, 0, 0, 0, 1, 0, 1, 0, 0, 0, 0, 0, 0, 0, 0, 0, 0, 0, 0, 0, 0, 0, 0, 1, 0, 1, 1, 0, 1, 0, 0, 0, 0, 0, 0, 0, 0, 0, 0, 0, 0, 0, 1, 1, 0, 0, 0, 0, 0, 0, 0, 1, 0, 1, 1, 0, 0, 0, 0, 0, 0, 0, 0, 1, 0, 0, 0, 0, 0, 0, 0, 0, 0, 0, 0, 0, 0, 1, 0, 0, 1, 0, 0, 0, 0, 0, 0, 0, 0, 0, 0, 0, 0, 0, 0, 0, 1, 0, 0, 0, 0, 0, 0, 0, 0, 0, 0, 1, 0, 0, 0, 0, 0, 0, 0, 0, 0, 1, 0, 0, 0, 0, 0, 0, 0, 0, 0, 0, 1, 0, 0, 0, 0, 0, 1, 0, 0, 0, 0, 0, 0, 0, 0, 1, 0, 0, 0, 0, 0, 0, 0, 0, 0, 0, 0, 0, 0, 0, 0, 0, 0, 0, 0, 1, 1, 0, 1, 0, 0, 0, 1, 0, 0, 0, 0, 0, 0, 1, 0, 0, 1, 0, 0, 1, 1, 1, 0, 1, 1, 0, 0, 0, 0, 0, 0, 1, 0, 0, 0], [0, 0, 0, 0, 1, 0, 0, 0, 0, 0, 0, 0, 1, 0, 0, 0, 1, 1, 0, 1, 0, 0, 0, 0, 0, 1, 0, 0, 0, 0, 0, 0, 0, 0, 0, 0, 0, 0, 1, 0, 0, 0, 1, 1, 0, 0, 0, 1, 0, 0, 0, 0, 0, 0, 1, 0, 0, 0, 1, 0, 0, 0, 0, 0, 0, 0, 0, 0, 1, 1, 0, 0, 0, 1, 0, 0, 0, 0, 0, 0, 0, 0, 1, 1, 1, 0, 0, 0, 0, 0, 0, 0, 0, 0, 0, 1, 0, 0, 0, 0, 0, 1, 0, 0, 0, 1, 0, 0, 1, 0, 0, 1, 1, 0, 0, 0, 0, 0, 0, 1, 0, 1, 0, 1, 0, 0, 0, 0, 0, 0, 1, 1, 0, 0, 1, 0, 0, 1, 0, 0, 0, 1, 0, 0, 0, 1, 0, 0, 0, 0, 0, 0, 0, 0, 0, 0, 0, 0, 0, 0, 0, 1, 0, 1, 0, 0, 0, 0, 0, 0, 0, 0, 1, 0, 0, 0, 0, 0, 0, 0, 0, 0, 1, 1, 0, 0, 0, 1, 0, 1, 0, 1, 0, 1, 0, 0, 0, 0, 0, 0, 0, 0, 0, 0, 0, 1, 0, 0, 0, 0, 0, 0, 0, 0, 0, 0, 0, 0, 0, 0, 0, 0, 0, 0, 0, 0, 0, 0, 0, 0], [0, 0, 0, 0, 0, 0, 0, 0, 1, 0, 1, 0, 1, 0, 0, 0, 1, 0, 0, 0, 0, 0, 0, 1, 0, 0, 0, 0, 0, 1, 1, 0, 0, 0, 0, 0, 0, 0, 0, 0, 0, 0, 0, 0, 0, 1, 1, 0, 0, 1, 1, 0, 0, 0, 1, 1, 0, 0, 0, 0, 0, 1, 0, 0, 0, 1, 0, 0, 0, 0, 1, 0, 0, 0, 0, 0, 0, 0, 0, 0, 0, 0, 1, 0, 1, 0, 0, 0, 0, 0, 0, 0, 0, 0, 0, 0, 0, 1, 0, 0, 0, 0, 0, 0, 0, 1, 0, 0, 1, 0, 0, 0, 0, 1, 1, 0, 0, 0, 0, 0, 0, 0, 0, 0, 0, 0, 0, 0, 0, 0, 0, 0, 0, 1, 0, 0, 0, 0, 0, 0, 0, 0, 0, 0, 0, 0, 0, 1, 0, 0, 0, 1, 0, 0, 0, 0, 1, 0, 0, 0, 0, 0, 0, 0, 0, 0, 1, 0, 0, 1, 0, 1, 1, 1, 1, 0, 0, 0, 1, 0, 0, 1, 0, 0, 0, 0, 0, 1, 0, 0, 0, 0, 0, 0, 0, 0, 0, 0, 0, 0, 0, 0, 1, 1, 0, 0, 0, 1, 0, 0, 0, 0, 0, 1, 0, 0, 0, 0, 1, 0, 0, 0, 0, 0, 0, 0, 0, 1, 0, 0], [0, 1, 0, 0, 0, 0, 0, 0, 1, 0, 0, 0, 1, 0, 0, 0, 0, 0, 0, 1, 0, 1, 0, 0, 0, 0, 0, 1, 0, 0, 0, 1, 0, 1, 0, 0, 1, 0, 0, 0, 0, 0, 0, 0, 0, 0, 0, 0, 0, 0, 1, 1, 1, 1, 1, 0, 1, 0, 0, 0, 0, 0, 0, 0, 0, 0, 1, 0, 0, 0, 0, 0, 0, 0, 0, 0, 0, 1, 0, 1, 0, 0, 1, 0, 0, 0, 0, 1, 0, 0, 1, 0, 0, 0, 0, 0, 1, 0, 0, 0, 0, 0, 0, 0, 1, 1, 0, 0, 1, 0, 0, 1, 0, 0, 0, 0, 1, 0, 0, 0, 1, 0, 0, 0, 1, 0, 0, 0, 1, 0, 0, 0, 1, 0, 0, 0, 0, 0, 0, 0, 0, 0, 0, 0, 0, 0, 0, 0, 0, 0, 0, 0, 0, 0, 0, 0, 0, 0, 0, 0, 1, 0, 0, 0, 0, 0, 0, 0, 0, 0, 0, 0, 0, 0, 0, 1, 0, 1, 0, 1, 0, 0, 0, 0, 0, 0, 0, 1, 0, 0, 1, 0, 0, 0, 0, 0, 1, 0, 0, 0, 0, 0, 0, 0, 0, 0, 0, 0, 0, 1, 0, 0, 1, 0, 0, 0, 0, 1, 0, 0, 0, 1, 0, 0, 0, 0, 0, 0, 1, 0], [0, 0, 0, 0, 0, 1, 0, 0, 1, 0, 0, 0, 1, 0, 0, 1, 1, 0, 0, 0, 0, 0, 0, 0, 0, 0, 0, 0, 0, 0, 0, 1, 0, 0, 0, 0, 0, 0, 0, 0, 0, 0, 0, 0, 0, 0, 0, 0, 0, 0, 0, 0, 0, 0, 1, 0, 0, 0, 0, 0, 0, 0, 1, 1, 0, 0, 0, 1, 0, 0, 0, 0, 1, 1, 0, 1, 1, 0, 1, 0, 0, 0, 1, 0, 1, 0, 0, 0, 0, 0, 0, 0, 0, 0, 0, 0, 0, 0, 0, 0, 0, 0, 1, 0, 0, 1, 1, 0, 1, 0, 0, 0, 0, 0, 0, 0, 0, 0, 0, 0, 0, 0, 0, 0, 0, 0, 0, 0, 1, 0, 0, 0, 0, 0, 0, 0, 0, 0, 0, 0, 0, 0, 0, 1, 0, 0, 1, 0, 0, 1, 1, 0, 0, 1, 1, 1, 0, 1, 0, 0, 0, 0, 0, 0, 0, 0, 0, 0, 0, 0, 1, 0, 1, 0, 1, 0, 0, 0, 1, 0, 0, 0, 0, 0, 0, 0, 1, 1, 1, 0, 0, 0, 0, 0, 0, 0, 0, 0, 0, 0, 0, 0, 0, 0, 0, 0, 0, 1, 0, 1, 0, 0, 0, 0, 0, 0, 0, 0, 1, 0, 0, 0, 0, 1, 0, 1, 0, 0, 0, 0]]\n"
          ]
        }
      ],
      "execution_count": 56
    },
    {
      "metadata": {
        "id": "a0abcd20f7bb7c44"
      },
      "cell_type": "markdown",
      "source": [
        "## Paso 3: Obtener una representación de una _query_ en el espacio término-documento\n",
        "Ahora vamos a representar una _query_ como un vector en el mismo espacio de términos que hicimos para el corpus."
      ],
      "id": "a0abcd20f7bb7c44"
    },
    {
      "metadata": {
        "ExecuteTime": {
          "end_time": "2024-10-22T13:01:09.239680Z",
          "start_time": "2024-10-22T13:01:09.223561Z"
        },
        "colab": {
          "base_uri": "https://localhost:8080/"
        },
        "id": "f4abdc2c22664498",
        "outputId": "324b502a-65a1-4c2c-9f23-1f02bdecf08c"
      },
      "cell_type": "code",
      "source": [
        "query = \"inteligencia artificial en medicina\"\n",
        "query_vector = tdtransform(query)\n",
        "print(query_vector)"
      ],
      "id": "f4abdc2c22664498",
      "outputs": [
        {
          "output_type": "stream",
          "name": "stdout",
          "text": [
            "[0, 0, 0, 0, 0, 0, 0, 0, 1, 0, 0, 0, 0, 0, 0, 1, 0, 0, 0, 0, 0, 0, 0, 0, 0, 0, 0, 0, 0, 0, 0, 0, 0, 0, 0, 0, 0, 0, 0, 0, 0, 0, 0, 0, 0, 0, 0, 0, 0, 0, 0, 0, 0, 0, 0, 0, 0, 0, 0, 0, 0, 1, 0, 0, 0, 0, 0, 0, 0, 0, 0, 0, 0, 0, 0, 0, 0, 0, 0, 0, 0, 0, 0, 0, 0, 0, 0, 0, 0, 0, 0, 0, 0, 0, 0, 0, 0, 0, 0, 0, 0, 0, 0, 0, 0, 0, 0, 0, 0, 0, 0, 0, 0, 0, 0, 0, 0, 0, 0, 0, 0, 0, 0, 0, 0, 0, 0, 0, 0, 0, 0, 0, 0, 0, 0, 0, 0, 0, 0, 0, 0, 0, 0, 0, 0, 0, 0, 0, 0, 0, 0, 0, 0, 0, 0, 0, 0, 0, 0, 0, 0, 0, 0, 0, 0, 0, 0, 0, 0, 0, 0, 1, 0, 0, 0, 0, 0, 0, 0, 0, 0, 0, 0, 0, 0, 0, 0, 0, 0, 0, 0, 0, 0, 0, 0, 0, 0, 0, 0, 0, 0, 0, 0, 0, 0, 0, 0, 0, 0, 0, 0, 0, 0, 0, 0, 0, 0, 0, 0, 0, 0, 0, 0, 0, 0, 0, 0, 0, 0, 0]\n"
          ]
        }
      ],
      "execution_count": 57
    },
    {
      "metadata": {
        "id": "49b612552e0a24cb"
      },
      "cell_type": "markdown",
      "source": [
        "## Paso 4: Calcular la distancia entre la _query_ y todos los documentos del corpus\n",
        "Al obtener la distancia Jaccard entre la _query_ y cada documento del corpus, calculamos la relevancia que tiene cada documento para la _query_"
      ],
      "id": "49b612552e0a24cb"
    },
    {
      "cell_type": "code",
      "source": [
        "def jacard(lista, vector):\n",
        "\n",
        "    interseccion = 0\n",
        "    union = 0\n",
        "\n",
        "    # Recorrer query y tdmatrix paralelamente\n",
        "    for elem_lista, elem_vector in zip(lista, vector):\n",
        "        # Intersección (1 en ambos vectores)\n",
        "        if elem_lista == 1 and elem_vector == 1:\n",
        "            interseccion += 1\n",
        "            union += 1\n",
        "        # Unión (1 en al menos uno de los vectores)\n",
        "        elif elem_lista == 1 or elem_vector == 1:\n",
        "            union += 1\n",
        "\n",
        "    # Evitar división por cero\n",
        "    if union == 0:\n",
        "        return 0\n",
        "    else:\n",
        "        return interseccion / union"
      ],
      "metadata": {
        "id": "b1GHVkGkjByj"
      },
      "id": "b1GHVkGkjByj",
      "execution_count": 58,
      "outputs": []
    },
    {
      "cell_type": "code",
      "source": [
        "# Función para calcular la similitud de Jaccard entre cada documento y la query\n",
        "def similitud(tdmatrix, query_vector):\n",
        "    distancias = []\n",
        "    for i, documento in enumerate(tdmatrix):\n",
        "        distancia = jacard(documento, query_vector)\n",
        "        distancias.append((i+1, distancia))  # Guardar el índice del documento y la distancia jacard\n",
        "    return distancias\n",
        "distancias = similitud(tdmatrix, query_vector)\n",
        "for doc_id, distancia in distancias:\n",
        "    print(f\"Similitud de Jaccard con el documento {doc_id}: {distancia:.4f}\")"
      ],
      "metadata": {
        "colab": {
          "base_uri": "https://localhost:8080/"
        },
        "id": "d1vwUBU5kwEZ",
        "outputId": "488c2100-b2a1-4b1d-ab88-8b8a2da97921"
      },
      "id": "d1vwUBU5kwEZ",
      "execution_count": 59,
      "outputs": [
        {
          "output_type": "stream",
          "name": "stdout",
          "text": [
            "Similitud de Jaccard con el documento 1: 0.0638\n",
            "Similitud de Jaccard con el documento 2: 0.0667\n",
            "Similitud de Jaccard con el documento 3: 0.0222\n",
            "Similitud de Jaccard con el documento 4: 0.0000\n",
            "Similitud de Jaccard con el documento 5: 0.0000\n",
            "Similitud de Jaccard con el documento 6: 0.0698\n",
            "Similitud de Jaccard con el documento 7: 0.0217\n",
            "Similitud de Jaccard con el documento 8: 0.0455\n"
          ]
        }
      ]
    },
    {
      "metadata": {
        "id": "3173b4cbd523e996"
      },
      "cell_type": "markdown",
      "source": [
        "## Paso 5: Entregar los resultados de la búsqueda al usuario\n",
        "\n",
        "\n",
        "\n",
        "A partir de la _query_, debemos indicar al usuario cuáles documentos son los más relevantes. Se debe presentar la información en orden de relevancia."
      ],
      "id": "3173b4cbd523e996"
    },
    {
      "cell_type": "code",
      "source": [
        "# Ordenar las distancias en orden descendente de similitud de Jaccard\n",
        "distancias_ordenadas = sorted(distancias, key=lambda x: x[1], reverse=True)\n",
        "\n",
        "# Imprimir resultados ordenados\n",
        "print(\"Similitudes de Jaccard en orden de relevancia:\")\n",
        "for doc_id, distancia in distancias_ordenadas:\n",
        "    print(f\"Similitud de Jaccard con el documento {doc_id}: {distancia:.4f}\")"
      ],
      "metadata": {
        "colab": {
          "base_uri": "https://localhost:8080/"
        },
        "id": "N0Y1aWponLdH",
        "outputId": "f7a2bf82-d572-4dd8-8e48-08b36f735977"
      },
      "id": "N0Y1aWponLdH",
      "execution_count": 60,
      "outputs": [
        {
          "output_type": "stream",
          "name": "stdout",
          "text": [
            "Similitudes de Jaccard en orden de relevancia:\n",
            "Similitud de Jaccard con el documento 6: 0.0698\n",
            "Similitud de Jaccard con el documento 2: 0.0667\n",
            "Similitud de Jaccard con el documento 1: 0.0638\n",
            "Similitud de Jaccard con el documento 8: 0.0455\n",
            "Similitud de Jaccard con el documento 3: 0.0222\n",
            "Similitud de Jaccard con el documento 7: 0.0217\n",
            "Similitud de Jaccard con el documento 4: 0.0000\n",
            "Similitud de Jaccard con el documento 5: 0.0000\n"
          ]
        }
      ]
    },
    {
      "cell_type": "markdown",
      "source": [
        "## Paso 6: Cargar todas las querys\n",
        " En este paso vamos a cargar todas las querys en un archivo txt y vamos a calcular el jacard con cada una de las consultas para cada documento del corpus. Finalmente vamos a imprimir el orden de relevancia para cada consulta, usando todos los pasos anteriores"
      ],
      "metadata": {
        "id": "WxIWu4qRoYFD"
      },
      "id": "WxIWu4qRoYFD"
    },
    {
      "cell_type": "code",
      "source": [
        "def cargar_queries(ruta):\n",
        "    with open(ruta, 'r', encoding='utf-8') as file:\n",
        "        queries = [line.strip() for line in file if line.strip()]  # Eliminar líneas vacías\n",
        "    return queries\n",
        "\n",
        "# Cargar las queries desde la ruta especificada\n",
        "queries = cargar_queries('../content/queris.txt')\n",
        "print(\"Queries cargadas:\", queries)\n",
        "\n",
        "# Función para calcular y ordenar las distancias para cada query\n",
        "def calcular_similitudes_para_todas(queries, tdmatrix):\n",
        "    resultados = {}\n",
        "    for query in queries:\n",
        "        print(f\"\\nProcesando query: '{query}'\")\n",
        "        query_vector = tdtransform(query)\n",
        "\n",
        "        # Calcular similitudes de Jaccard entre la query y los documentos\n",
        "        distancias = similitud(tdmatrix, query_vector)\n",
        "\n",
        "        # Ordenar las distancias por relevancia (descendente)\n",
        "        distancias_ordenadas = sorted(distancias, key=lambda x: x[1], reverse=True)\n",
        "\n",
        "        # Guardar resultados en un diccionario\n",
        "        resultados[query] = distancias_ordenadas\n",
        "\n",
        "        # Imprimir los resultados para la query actual\n",
        "        print(f\"Resultados para la query: '{query}'\")\n",
        "        for doc_id, distancia in distancias_ordenadas:\n",
        "            print(f\"Similitud de Jaccard con el documento {doc_id}: {distancia:.4f}\")\n",
        "\n",
        "    return resultados\n",
        "\n",
        "# Ejecución de todos los calculos\n",
        "resultados_queries = calcular_similitudes_para_todas(queries, tdmatrix)\n"
      ],
      "metadata": {
        "colab": {
          "base_uri": "https://localhost:8080/"
        },
        "collapsed": true,
        "id": "zmek4fN6nghZ",
        "outputId": "04733010-ba26-434f-c733-f970cbe2f278"
      },
      "id": "zmek4fN6nghZ",
      "execution_count": 62,
      "outputs": [
        {
          "output_type": "stream",
          "name": "stdout",
          "text": [
            "Queries cargadas: ['inteligencia artificial en medicina', 'beneficios de la educación a distancia', 'realidad aumentada en videojuegos', 'desarrollo personal y hábitos saludables', 'futuro del comercio electrónico', 'tecnologías en cine moderno', 'competencias de e-sports', 'diagnóstico con dispositivos portátiles', 'literatura de ciencia ficción', 'plataformas de streaming']\n",
            "\n",
            "Procesando query: 'inteligencia artificial en medicina'\n",
            "Resultados para la query: 'inteligencia artificial en medicina'\n",
            "Similitud de Jaccard con el documento 6: 0.0698\n",
            "Similitud de Jaccard con el documento 2: 0.0667\n",
            "Similitud de Jaccard con el documento 1: 0.0638\n",
            "Similitud de Jaccard con el documento 8: 0.0455\n",
            "Similitud de Jaccard con el documento 3: 0.0222\n",
            "Similitud de Jaccard con el documento 7: 0.0217\n",
            "Similitud de Jaccard con el documento 4: 0.0000\n",
            "Similitud de Jaccard con el documento 5: 0.0000\n",
            "\n",
            "Procesando query: 'beneficios de la educación a distancia'\n",
            "Resultados para la query: 'beneficios de la educación a distancia'\n",
            "Similitud de Jaccard con el documento 4: 0.1429\n",
            "Similitud de Jaccard con el documento 6: 0.0667\n",
            "Similitud de Jaccard con el documento 8: 0.0667\n",
            "Similitud de Jaccard con el documento 5: 0.0652\n",
            "Similitud de Jaccard con el documento 7: 0.0652\n",
            "Similitud de Jaccard con el documento 2: 0.0638\n",
            "Similitud de Jaccard con el documento 3: 0.0435\n",
            "Similitud de Jaccard con el documento 1: 0.0400\n",
            "\n",
            "Procesando query: 'realidad aumentada en videojuegos'\n",
            "Resultados para la query: 'realidad aumentada en videojuegos'\n",
            "Similitud de Jaccard con el documento 2: 0.0909\n",
            "Similitud de Jaccard con el documento 3: 0.0222\n",
            "Similitud de Jaccard con el documento 6: 0.0222\n",
            "Similitud de Jaccard con el documento 8: 0.0222\n",
            "Similitud de Jaccard con el documento 5: 0.0217\n",
            "Similitud de Jaccard con el documento 7: 0.0217\n",
            "Similitud de Jaccard con el documento 1: 0.0204\n",
            "Similitud de Jaccard con el documento 4: 0.0000\n",
            "\n",
            "Procesando query: 'desarrollo personal y hábitos saludables'\n",
            "Resultados para la query: 'desarrollo personal y hábitos saludables'\n",
            "Similitud de Jaccard con el documento 7: 0.1163\n",
            "Similitud de Jaccard con el documento 2: 0.0426\n",
            "Similitud de Jaccard con el documento 6: 0.0217\n",
            "Similitud de Jaccard con el documento 8: 0.0217\n",
            "Similitud de Jaccard con el documento 5: 0.0213\n",
            "Similitud de Jaccard con el documento 1: 0.0200\n",
            "Similitud de Jaccard con el documento 3: 0.0000\n",
            "Similitud de Jaccard con el documento 4: 0.0000\n",
            "\n",
            "Procesando query: 'futuro del comercio electrónico'\n",
            "Resultados para la query: 'futuro del comercio electrónico'\n",
            "Similitud de Jaccard con el documento 3: 0.0465\n",
            "Similitud de Jaccard con el documento 6: 0.0227\n",
            "Similitud de Jaccard con el documento 8: 0.0227\n",
            "Similitud de Jaccard con el documento 1: 0.0000\n",
            "Similitud de Jaccard con el documento 2: 0.0000\n",
            "Similitud de Jaccard con el documento 4: 0.0000\n",
            "Similitud de Jaccard con el documento 5: 0.0000\n",
            "Similitud de Jaccard con el documento 7: 0.0000\n",
            "\n",
            "Procesando query: 'tecnologías en cine moderno'\n",
            "Resultados para la query: 'tecnologías en cine moderno'\n",
            "Similitud de Jaccard con el documento 5: 0.0455\n",
            "Similitud de Jaccard con el documento 2: 0.0444\n",
            "Similitud de Jaccard con el documento 3: 0.0227\n",
            "Similitud de Jaccard con el documento 6: 0.0227\n",
            "Similitud de Jaccard con el documento 8: 0.0227\n",
            "Similitud de Jaccard con el documento 7: 0.0222\n",
            "Similitud de Jaccard con el documento 1: 0.0208\n",
            "Similitud de Jaccard con el documento 4: 0.0000\n",
            "\n",
            "Procesando query: 'competencias de e-sports'\n",
            "Resultados para la query: 'competencias de e-sports'\n",
            "Similitud de Jaccard con el documento 2: 0.0682\n",
            "Similitud de Jaccard con el documento 3: 0.0227\n",
            "Similitud de Jaccard con el documento 4: 0.0227\n",
            "Similitud de Jaccard con el documento 6: 0.0227\n",
            "Similitud de Jaccard con el documento 8: 0.0227\n",
            "Similitud de Jaccard con el documento 5: 0.0222\n",
            "Similitud de Jaccard con el documento 7: 0.0222\n",
            "Similitud de Jaccard con el documento 1: 0.0208\n",
            "\n",
            "Procesando query: 'diagnóstico con dispositivos portátiles'\n",
            "Resultados para la query: 'diagnóstico con dispositivos portátiles'\n",
            "Similitud de Jaccard con el documento 8: 0.0714\n",
            "Similitud de Jaccard con el documento 3: 0.0227\n",
            "Similitud de Jaccard con el documento 4: 0.0227\n",
            "Similitud de Jaccard con el documento 5: 0.0222\n",
            "Similitud de Jaccard con el documento 2: 0.0217\n",
            "Similitud de Jaccard con el documento 1: 0.0000\n",
            "Similitud de Jaccard con el documento 6: 0.0000\n",
            "Similitud de Jaccard con el documento 7: 0.0000\n",
            "\n",
            "Procesando query: 'literatura de ciencia ficción'\n",
            "Resultados para la query: 'literatura de ciencia ficción'\n",
            "Similitud de Jaccard con el documento 6: 0.0714\n",
            "Similitud de Jaccard con el documento 3: 0.0227\n",
            "Similitud de Jaccard con el documento 4: 0.0227\n",
            "Similitud de Jaccard con el documento 8: 0.0227\n",
            "Similitud de Jaccard con el documento 5: 0.0222\n",
            "Similitud de Jaccard con el documento 7: 0.0222\n",
            "Similitud de Jaccard con el documento 2: 0.0217\n",
            "Similitud de Jaccard con el documento 1: 0.0208\n",
            "\n",
            "Procesando query: 'plataformas de streaming'\n",
            "Resultados para la query: 'plataformas de streaming'\n",
            "Similitud de Jaccard con el documento 5: 0.0698\n",
            "Similitud de Jaccard con el documento 3: 0.0465\n",
            "Similitud de Jaccard con el documento 4: 0.0227\n",
            "Similitud de Jaccard con el documento 6: 0.0227\n",
            "Similitud de Jaccard con el documento 8: 0.0227\n",
            "Similitud de Jaccard con el documento 7: 0.0222\n",
            "Similitud de Jaccard con el documento 2: 0.0217\n",
            "Similitud de Jaccard con el documento 1: 0.0208\n"
          ]
        }
      ]
    }
  ],
  "metadata": {
    "kernelspec": {
      "display_name": "Python 3",
      "language": "python",
      "name": "python3"
    },
    "language_info": {
      "codemirror_mode": {
        "name": "ipython",
        "version": 2
      },
      "file_extension": ".py",
      "mimetype": "text/x-python",
      "name": "python",
      "nbconvert_exporter": "python",
      "pygments_lexer": "ipython2",
      "version": "2.7.6"
    },
    "colab": {
      "provenance": []
    }
  },
  "nbformat": 4,
  "nbformat_minor": 5
}