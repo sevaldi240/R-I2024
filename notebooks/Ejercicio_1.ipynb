{
  "cells": [
    {
      "cell_type": "markdown",
      "source": [
        "#**Escuela Politecnica Nacional**\n",
        "##**Recuperación de la Información**\n",
        "Nombre: Sergio Guaman\n",
        "\n",
        "\n"
      ],
      "metadata": {
        "id": "dgkBs66SGppw"
      },
      "id": "dgkBs66SGppw"
    },
    {
      "metadata": {
        "id": "7266022d411c887f"
      },
      "cell_type": "markdown",
      "source": [
        "# Ejercicio 01: Recuperación de Información Basado en el Modelo de Matriz Término-Documento\n",
        "\n",
        "En este ejercicio, trabajaremos con un corpus de documentos en formato JSON para implementar un sistema de Recuperación de Información basado en el modelo de espacio vectorial. Seguirás los siguientes pasos:"
      ],
      "id": "7266022d411c887f"
    },
    {
      "metadata": {
        "id": "b20440e0de103cf3"
      },
      "cell_type": "markdown",
      "source": [
        "## Paso 1: Determinar un vocabulario\n",
        "El primer paso es cargar el corpus en formato JSON, extraer los textos de los documentos y crear el vocabulario."
      ],
      "id": "b20440e0de103cf3"
    },
    {
      "cell_type": "code",
      "id": "initial_id",
      "metadata": {
        "collapsed": true,
        "ExecuteTime": {
          "end_time": "2024-10-22T12:22:34.639750Z",
          "start_time": "2024-10-22T12:22:34.631518Z"
        },
        "id": "initial_id"
      },
      "source": [
        "import json\n",
        "\n",
        "datos = []\n",
        "with open(file='../content/01tdmatrix_corpus.json', mode='r', encoding='utf-8') as file:\n",
        "    datos = json.load(file)"
      ],
      "outputs": [],
      "execution_count": 5
    },
    {
      "metadata": {
        "ExecuteTime": {
          "end_time": "2024-10-22T12:28:42.503285Z",
          "start_time": "2024-10-22T12:28:42.487436Z"
        },
        "colab": {
          "base_uri": "https://localhost:8080/"
        },
        "id": "1cad34a871eac562",
        "outputId": "93ce7454-dfc5-43dd-aa5d-8b9cf83330ba"
      },
      "cell_type": "code",
      "source": [
        "print(datos[0]['text'].lower())"
      ],
      "id": "1cad34a871eac562",
      "outputs": [
        {
          "output_type": "stream",
          "name": "stdout",
          "text": [
            "la inteligencia artificial continúa avanzando rápidamente, transformando sectores como la salud y las finanzas. las empresas están adoptando algoritmos de aprendizaje automático para mejorar la eficiencia. sin embargo, el desafío principal sigue siendo garantizar que las decisiones basadas en datos sean justas y no perpetúen sesgos. la ética es fundamental en este contexto.\n"
          ]
        }
      ],
      "execution_count": 6
    },
    {
      "metadata": {
        "ExecuteTime": {
          "end_time": "2024-10-22T12:29:11.334724Z",
          "start_time": "2024-10-22T12:29:11.319181Z"
        },
        "colab": {
          "base_uri": "https://localhost:8080/"
        },
        "id": "186d5925bdd633b0",
        "outputId": "414ab654-2b53-4f9b-ccf4-b1f9eb797335"
      },
      "cell_type": "code",
      "source": [
        "print(datos[0]['text'].lower().split())"
      ],
      "id": "186d5925bdd633b0",
      "outputs": [
        {
          "output_type": "stream",
          "name": "stdout",
          "text": [
            "['la', 'inteligencia', 'artificial', 'continúa', 'avanzando', 'rápidamente,', 'transformando', 'sectores', 'como', 'la', 'salud', 'y', 'las', 'finanzas.', 'las', 'empresas', 'están', 'adoptando', 'algoritmos', 'de', 'aprendizaje', 'automático', 'para', 'mejorar', 'la', 'eficiencia.', 'sin', 'embargo,', 'el', 'desafío', 'principal', 'sigue', 'siendo', 'garantizar', 'que', 'las', 'decisiones', 'basadas', 'en', 'datos', 'sean', 'justas', 'y', 'no', 'perpetúen', 'sesgos.', 'la', 'ética', 'es', 'fundamental', 'en', 'este', 'contexto.']\n"
          ]
        }
      ],
      "execution_count": 7
    },
    {
      "metadata": {
        "ExecuteTime": {
          "end_time": "2024-10-22T12:29:44.074040Z",
          "start_time": "2024-10-22T12:29:44.059539Z"
        },
        "colab": {
          "base_uri": "https://localhost:8080/"
        },
        "id": "63b4fbc92a3a663d",
        "outputId": "463ea388-ae42-408d-815b-f7653d3a9cb9"
      },
      "cell_type": "code",
      "source": [
        "vocab = set(datos[0]['text'].lower().split())\n",
        "print(vocab)\n",
        "print(len(vocab))"
      ],
      "id": "63b4fbc92a3a663d",
      "outputs": [
        {
          "output_type": "stream",
          "name": "stdout",
          "text": [
            "{'las', 'decisiones', 'que', 'garantizar', 'ética', 'fundamental', 'inteligencia', 'la', 'sigue', 'no', 'mejorar', 'continúa', 'artificial', 'están', 'justas', 'datos', 'sesgos.', 'adoptando', 'sean', 'automático', 'es', 'sin', 'siendo', 'algoritmos', 'avanzando', 'perpetúen', 'este', 'finanzas.', 'en', 'rápidamente,', 'transformando', 'y', 'empresas', 'para', 'principal', 'aprendizaje', 'salud', 'como', 'embargo,', 'el', 'eficiencia.', 'desafío', 'basadas', 'contexto.', 'de', 'sectores'}\n",
            "46\n"
          ]
        }
      ],
      "execution_count": 8
    },
    {
      "metadata": {
        "ExecuteTime": {
          "end_time": "2024-10-22T12:36:39.293698Z",
          "start_time": "2024-10-22T12:36:39.280871Z"
        },
        "colab": {
          "base_uri": "https://localhost:8080/"
        },
        "id": "5eded2ae4aeba3e2",
        "outputId": "1f034683-c4ed-447b-9e44-4b626722eadd"
      },
      "cell_type": "code",
      "source": [
        "vocab = []\n",
        "for i in range(0,len(datos)):\n",
        "    vocab.extend(datos[i]['text'].lower().replace(',','').replace('.','').split())\n",
        "vocab = set(vocab)\n",
        "print(len(vocab))\n",
        "print(vocab)"
      ],
      "id": "5eded2ae4aeba3e2",
      "outputs": [
        {
          "output_type": "stream",
          "name": "stdout",
          "text": [
            "230\n",
            "{'incorporando', 'ofrecer', 'decisiones', 'se', 'desafían', 'ética', 'ha', 'sesgos', 'dispositivos', 'la', 'aumento', 'plataformas', 'portátiles', 'finanzas', 'interactuar', 'género', 'más', 'mejorar', 'personal', 'promueven', 'una', 'tecnologías', 'es', 'eficaces', 'crear', 'habilidades', 'rápidamente', 'avanzando', 'desarrollo', 'cursos', 'mejorando', 'futuro', 'ubicación', 'reflexionar', 'en', 'sus', 'transformando', 'y', 'pueden', 'siguen', 'espectadores', 'convertido', 'aprendizaje', 'escenas', 'democratizando', 'desde', 'cómo', 'aumentada', 'programas', 'viaje', 'tecnología', 'enfoque', 'ahora', 'virtuales', 'aunque', 'cada', 'series', 'géneros', 'vida', 'fundamental', 'público', 'enfermedades', 'eficiencia', 'impulsa', 'pagos', 'cinematográficas', 'permitiendo', 'streaming', 'justas', 'forma', 'un', 'completo', 'alcanzado', 'adoptando', 'producciones', 'automático', 'planetas', 'sin', 'saludables', 'algoritmos', 'jugadores', 'mercado', 'tratamientos', 'realidad', 'digitales', 'presencial', 'accesibles', 'calidad', 'transformado', 'médicos', 'línea', 'humanidad', 'bienestar', 'implicaciones', 'acceso', 'experiencias', 'literarios', 'telemedicina', 'beneficios', 'hábitos', 'también', 'realistas', 'millones', 'usuario', 'avanzadas', 'permitido', 'medicina', 'recomendaciones', 'principal', 'profesionales', 'nuevo', 'cambiado', 'las', 'trabajos', 'populares', 'sobre', 'llevado', 'distancia', 'cambiando', 'que', 'garantizar', 'donde', 'aplicaciones', 'real', 'inteligencia', 'años', 'entretiene', 'comercio', 'mejores', 'solo', 'sigue', 'electrónico', 'efectos', 'nuevas', 'hasta', 'avances', 'cine', 'otros', 'acceder', 'todo', 'personalizadas', 'transacciones', 'interacción', 'perpetúen', 'este', 'aquellos', 'demanda', 'atraen', 'personalizados', 'buscan', 'contexto', 'mayores', 'ficción', 'inmersivos', 'individual', 'rápidos', 'monitorean', 'vez', 'mundos', 'mundo', 'videojuegos', 'falta', 'utilizan', 'compras', 'diarias', 'salud', 'el', 'películas', 'invita', 'importar', 'integral', 'libros', 'con', 'de', 'sectores', 'personas', 'reto', 'cuándo', 'los', 'tecnológicos', 'consume', 'optimizando', 'explorando', 'flexibilidad', 'nivel', 'uno', 'creciente', 'no', 'estudiantes', 'continúa', 'artificial', 'están', 'embargo', 'datos', 'herramientas', 'contenido', 'sean', 'muchas', 'está', 'siendo', 'además', 'cuidados', 'ciencia', 'experiencia', 'temas', 'adopción', 'consumidores', 'empresas', 'para', 'educativa', 'crecimiento', 'evolucionado', 'prioridad', 'facilitando', 'tratan', 'su', 'educación', 'a', 'como', 'visuales', 'prometedor', 'competencias', 'desafío', 'compramos', 'especialmente', 'basadas', 'sino', 'diagnostican', 'tiempo', 'e-sports'}\n"
          ]
        }
      ],
      "execution_count": 9
    },
    {
      "metadata": {
        "id": "549d0d8b6f7ed0a2"
      },
      "cell_type": "markdown",
      "source": [
        "## Paso 2: Calcular una matriz término-documento\n",
        "Una vez que tenemos el vocabulario, el siguiente paso es construir una **matriz término-documento**, que nos permitirá representar cada documento como un vector en el espacio de términos."
      ],
      "id": "549d0d8b6f7ed0a2"
    },
    {
      "metadata": {
        "ExecuteTime": {
          "end_time": "2024-10-22T13:00:04.977448Z",
          "start_time": "2024-10-22T13:00:04.961452Z"
        },
        "id": "4b35c2996c774ec2"
      },
      "cell_type": "code",
      "source": [
        "def tdtransform(text):\n",
        "    doc = []\n",
        "    for word in vocab:\n",
        "        if word in text.lower().replace(',','').replace('.','').split():\n",
        "           doc.append(1)\n",
        "        else:\n",
        "            doc.append(0)\n",
        "    return doc"
      ],
      "id": "4b35c2996c774ec2",
      "outputs": [],
      "execution_count": 10
    },
    {
      "metadata": {
        "ExecuteTime": {
          "end_time": "2024-10-22T13:00:30.419629Z",
          "start_time": "2024-10-22T13:00:30.382836Z"
        },
        "colab": {
          "base_uri": "https://localhost:8080/"
        },
        "id": "1b052a6cd19731a5",
        "outputId": "5d623d07-3293-4db2-d47c-e34a6a9bc5c1"
      },
      "cell_type": "code",
      "source": [
        "tdmatrix = []\n",
        "for i in range(0,len(datos)):\n",
        "    doc = tdtransform(text=datos[i]['text'])\n",
        "    tdmatrix.append(doc)\n",
        "print(tdmatrix)\n"
      ],
      "id": "1b052a6cd19731a5",
      "outputs": [
        {
          "output_type": "stream",
          "name": "stdout",
          "text": [
            "[[0, 0, 1, 0, 0, 1, 0, 1, 0, 1, 0, 0, 0, 1, 0, 0, 0, 1, 0, 0, 0, 0, 1, 0, 0, 0, 1, 1, 0, 0, 0, 0, 0, 0, 1, 0, 1, 1, 0, 0, 0, 0, 1, 0, 0, 0, 0, 0, 0, 0, 0, 0, 0, 0, 0, 0, 0, 0, 0, 1, 0, 0, 1, 0, 0, 0, 0, 0, 1, 0, 0, 0, 0, 1, 0, 1, 0, 1, 0, 1, 0, 0, 0, 0, 0, 0, 0, 0, 0, 0, 0, 0, 0, 0, 0, 0, 0, 0, 0, 0, 0, 0, 0, 0, 0, 0, 0, 0, 1, 0, 0, 0, 1, 0, 0, 0, 0, 0, 0, 1, 1, 0, 0, 0, 1, 0, 0, 0, 0, 0, 1, 0, 0, 0, 0, 0, 0, 0, 0, 0, 0, 0, 0, 1, 1, 0, 0, 0, 0, 0, 1, 0, 0, 0, 0, 0, 0, 0, 0, 0, 0, 0, 0, 0, 0, 1, 1, 0, 0, 0, 0, 0, 0, 1, 1, 0, 0, 0, 0, 0, 0, 0, 0, 0, 0, 0, 0, 1, 0, 1, 1, 1, 1, 1, 0, 0, 1, 0, 0, 1, 0, 0, 0, 0, 0, 0, 0, 1, 1, 0, 0, 0, 0, 0, 0, 0, 0, 0, 1, 0, 0, 0, 1, 0, 0, 1, 0, 0, 0, 0], [0, 0, 0, 0, 0, 0, 1, 0, 0, 1, 0, 0, 0, 0, 1, 0, 1, 0, 0, 0, 0, 1, 0, 0, 0, 0, 0, 0, 1, 0, 0, 0, 0, 0, 1, 0, 0, 1, 1, 0, 1, 0, 0, 0, 0, 0, 0, 1, 0, 0, 0, 0, 1, 1, 0, 0, 0, 0, 0, 0, 0, 0, 0, 1, 0, 0, 0, 0, 0, 0, 1, 0, 1, 0, 0, 0, 0, 0, 0, 0, 1, 1, 0, 1, 0, 0, 0, 0, 0, 0, 0, 0, 0, 0, 0, 0, 0, 0, 0, 0, 1, 0, 1, 0, 0, 0, 0, 0, 0, 1, 1, 0, 1, 0, 0, 0, 0, 0, 0, 0, 0, 1, 0, 0, 1, 0, 0, 0, 0, 0, 0, 0, 0, 0, 0, 0, 0, 0, 0, 1, 0, 0, 0, 0, 1, 0, 0, 1, 0, 0, 0, 0, 0, 1, 0, 0, 0, 0, 1, 1, 1, 0, 0, 0, 0, 0, 1, 0, 0, 0, 0, 0, 1, 1, 0, 0, 0, 0, 1, 0, 0, 0, 0, 0, 1, 0, 0, 0, 0, 0, 1, 0, 0, 0, 0, 0, 0, 0, 0, 0, 0, 0, 0, 0, 0, 0, 0, 0, 0, 0, 1, 0, 0, 0, 0, 0, 0, 1, 1, 0, 0, 1, 0, 0, 0, 0, 0, 0, 0, 1], [0, 1, 0, 0, 0, 0, 1, 0, 0, 1, 0, 1, 0, 0, 0, 0, 0, 0, 0, 0, 0, 0, 0, 0, 0, 0, 0, 0, 0, 0, 0, 0, 0, 0, 1, 1, 0, 0, 0, 1, 0, 0, 0, 0, 0, 1, 0, 0, 0, 0, 1, 0, 0, 0, 0, 0, 0, 0, 0, 0, 0, 0, 0, 0, 1, 0, 0, 0, 0, 1, 0, 0, 0, 0, 0, 0, 0, 0, 0, 0, 0, 0, 0, 0, 1, 0, 0, 0, 0, 0, 1, 0, 0, 0, 0, 1, 0, 0, 0, 0, 0, 0, 0, 1, 0, 0, 0, 1, 0, 0, 0, 1, 1, 0, 0, 0, 0, 0, 0, 1, 0, 0, 0, 0, 0, 0, 0, 1, 1, 0, 0, 1, 0, 0, 1, 1, 0, 0, 0, 0, 1, 1, 0, 0, 0, 0, 1, 0, 0, 0, 0, 0, 0, 0, 0, 1, 0, 0, 0, 0, 0, 0, 0, 1, 1, 0, 1, 0, 0, 0, 0, 0, 1, 1, 0, 0, 0, 0, 1, 0, 0, 1, 0, 0, 0, 0, 1, 0, 0, 0, 0, 1, 0, 0, 0, 0, 0, 0, 0, 0, 0, 0, 0, 0, 0, 0, 1, 1, 1, 0, 0, 0, 0, 1, 0, 0, 0, 0, 0, 0, 0, 0, 0, 1, 0, 0, 0, 0, 0, 0], [0, 0, 0, 0, 0, 0, 1, 0, 0, 1, 0, 0, 0, 0, 0, 0, 0, 0, 0, 0, 0, 0, 1, 0, 0, 0, 0, 0, 0, 0, 1, 0, 1, 0, 0, 0, 0, 0, 0, 1, 0, 0, 0, 0, 0, 0, 0, 0, 1, 0, 0, 0, 0, 0, 1, 0, 0, 0, 0, 0, 0, 0, 0, 0, 0, 0, 0, 0, 0, 0, 1, 1, 0, 0, 0, 0, 0, 1, 0, 0, 0, 0, 0, 0, 1, 1, 0, 1, 0, 0, 0, 0, 0, 0, 0, 0, 0, 0, 1, 0, 0, 0, 1, 0, 0, 1, 0, 0, 0, 0, 0, 0, 1, 1, 0, 0, 0, 1, 0, 0, 0, 0, 0, 0, 0, 0, 0, 0, 0, 0, 0, 0, 0, 0, 0, 0, 0, 0, 1, 0, 0, 0, 1, 0, 0, 1, 0, 0, 0, 0, 0, 1, 0, 0, 0, 0, 0, 0, 0, 0, 0, 1, 0, 0, 0, 0, 0, 0, 0, 1, 0, 0, 1, 1, 0, 0, 1, 0, 1, 0, 0, 0, 0, 1, 0, 1, 0, 0, 1, 0, 0, 0, 0, 0, 1, 0, 0, 0, 0, 0, 0, 0, 0, 1, 0, 0, 0, 0, 1, 1, 0, 0, 0, 0, 0, 1, 1, 1, 0, 0, 0, 0, 0, 0, 1, 0, 0, 0, 1, 0], [1, 0, 0, 0, 1, 0, 1, 0, 0, 1, 0, 1, 0, 0, 0, 0, 1, 0, 0, 0, 0, 1, 0, 0, 1, 0, 0, 0, 0, 0, 0, 0, 0, 0, 0, 0, 0, 1, 0, 0, 0, 0, 0, 1, 1, 0, 1, 0, 0, 0, 0, 0, 0, 0, 0, 1, 1, 0, 0, 0, 1, 0, 0, 0, 0, 1, 0, 1, 0, 0, 0, 0, 0, 0, 1, 0, 0, 0, 0, 0, 0, 0, 0, 1, 0, 0, 0, 0, 1, 0, 0, 0, 0, 0, 1, 0, 0, 0, 0, 0, 0, 1, 0, 0, 1, 0, 0, 0, 0, 0, 0, 0, 1, 0, 0, 0, 0, 0, 0, 1, 0, 0, 0, 0, 0, 1, 0, 0, 0, 0, 0, 0, 1, 0, 0, 0, 1, 0, 0, 0, 0, 0, 0, 0, 0, 0, 0, 0, 0, 0, 0, 0, 0, 0, 0, 0, 0, 1, 0, 0, 0, 0, 1, 0, 0, 0, 1, 1, 0, 0, 0, 0, 1, 1, 0, 0, 0, 1, 1, 0, 1, 0, 0, 0, 0, 0, 0, 0, 0, 0, 0, 0, 0, 0, 0, 1, 0, 0, 0, 0, 1, 0, 0, 0, 0, 0, 0, 0, 1, 0, 0, 1, 0, 0, 0, 0, 0, 1, 0, 1, 0, 0, 0, 0, 0, 0, 0, 0, 0, 0], [0, 0, 0, 0, 0, 0, 0, 0, 0, 1, 0, 0, 0, 0, 0, 1, 1, 0, 0, 0, 0, 0, 1, 0, 0, 0, 0, 0, 0, 0, 0, 1, 0, 1, 1, 0, 0, 1, 0, 0, 0, 0, 0, 0, 0, 0, 0, 0, 0, 1, 0, 0, 0, 0, 0, 0, 0, 1, 1, 0, 0, 0, 0, 0, 0, 0, 0, 0, 0, 0, 0, 0, 0, 0, 0, 0, 1, 0, 0, 0, 0, 0, 0, 0, 0, 0, 0, 0, 0, 0, 0, 1, 0, 1, 0, 0, 1, 0, 0, 0, 1, 0, 0, 0, 0, 0, 0, 0, 0, 0, 0, 0, 1, 0, 1, 1, 0, 0, 0, 1, 0, 0, 0, 0, 1, 0, 1, 0, 0, 1, 0, 0, 0, 0, 0, 1, 0, 1, 0, 0, 0, 0, 0, 0, 1, 0, 0, 0, 0, 0, 0, 0, 1, 0, 0, 0, 0, 0, 0, 0, 0, 0, 0, 0, 0, 0, 1, 0, 1, 0, 0, 0, 0, 1, 0, 0, 0, 0, 1, 1, 0, 0, 1, 0, 0, 1, 0, 1, 0, 0, 1, 0, 0, 0, 0, 0, 0, 0, 0, 0, 0, 0, 1, 0, 1, 0, 0, 0, 0, 0, 0, 0, 0, 0, 0, 0, 0, 1, 1, 0, 0, 0, 0, 0, 0, 0, 1, 0, 1, 0], [0, 0, 0, 1, 0, 0, 1, 0, 0, 1, 1, 0, 0, 0, 0, 0, 0, 1, 1, 1, 1, 0, 0, 0, 0, 1, 0, 0, 1, 1, 0, 0, 0, 0, 1, 0, 0, 1, 0, 0, 0, 1, 1, 0, 0, 1, 0, 0, 0, 0, 0, 1, 0, 0, 0, 0, 0, 0, 1, 0, 0, 0, 0, 0, 0, 0, 0, 0, 0, 0, 1, 0, 0, 0, 0, 0, 0, 0, 1, 0, 0, 0, 0, 0, 0, 0, 0, 1, 0, 0, 0, 0, 1, 0, 0, 0, 0, 0, 0, 1, 0, 0, 0, 0, 0, 0, 0, 0, 0, 0, 0, 0, 0, 0, 0, 0, 1, 0, 0, 1, 0, 0, 1, 0, 0, 0, 0, 0, 0, 0, 0, 0, 0, 1, 1, 0, 0, 0, 0, 0, 0, 0, 0, 0, 0, 0, 1, 0, 0, 1, 0, 0, 0, 0, 1, 0, 0, 0, 0, 0, 0, 0, 0, 0, 0, 0, 1, 0, 0, 0, 1, 1, 0, 1, 0, 1, 0, 0, 0, 0, 0, 0, 0, 0, 0, 0, 0, 0, 0, 0, 0, 0, 0, 0, 0, 0, 0, 1, 0, 0, 0, 0, 0, 0, 0, 1, 0, 0, 1, 0, 1, 0, 1, 0, 0, 1, 0, 1, 0, 0, 0, 0, 0, 0, 0, 0, 0, 0, 0, 0], [0, 1, 0, 1, 0, 0, 0, 0, 1, 1, 0, 0, 1, 0, 0, 0, 1, 0, 0, 0, 0, 0, 1, 1, 0, 0, 0, 0, 0, 0, 0, 1, 0, 0, 1, 0, 0, 1, 0, 0, 0, 0, 0, 0, 0, 1, 0, 0, 0, 0, 1, 0, 0, 0, 0, 0, 0, 0, 0, 0, 0, 1, 0, 0, 0, 0, 1, 0, 0, 1, 0, 0, 0, 0, 0, 0, 0, 0, 0, 0, 0, 0, 1, 0, 0, 0, 1, 0, 0, 1, 0, 0, 0, 0, 0, 0, 0, 1, 0, 0, 0, 0, 0, 0, 0, 0, 1, 0, 0, 0, 0, 0, 1, 0, 0, 0, 0, 0, 1, 1, 0, 0, 0, 1, 0, 0, 0, 0, 0, 0, 0, 0, 0, 0, 1, 1, 0, 0, 0, 0, 0, 0, 0, 0, 0, 0, 0, 0, 1, 0, 0, 0, 0, 0, 0, 0, 1, 0, 0, 0, 0, 0, 0, 0, 0, 1, 1, 0, 0, 0, 0, 0, 1, 1, 0, 0, 0, 0, 1, 0, 0, 0, 0, 0, 0, 0, 0, 0, 0, 0, 0, 1, 0, 0, 0, 0, 0, 0, 1, 0, 0, 1, 0, 0, 0, 0, 0, 0, 0, 0, 0, 0, 0, 0, 1, 0, 0, 1, 0, 0, 1, 0, 0, 0, 0, 0, 0, 1, 1, 0]]\n"
          ]
        }
      ],
      "execution_count": 11
    },
    {
      "metadata": {
        "id": "a0abcd20f7bb7c44"
      },
      "cell_type": "markdown",
      "source": [
        "## Paso 3: Obtener una representación de una _query_ en el espacio término-documento\n",
        "Ahora vamos a representar una _query_ como un vector en el mismo espacio de términos que hicimos para el corpus."
      ],
      "id": "a0abcd20f7bb7c44"
    },
    {
      "metadata": {
        "ExecuteTime": {
          "end_time": "2024-10-22T13:01:09.239680Z",
          "start_time": "2024-10-22T13:01:09.223561Z"
        },
        "colab": {
          "base_uri": "https://localhost:8080/"
        },
        "id": "f4abdc2c22664498",
        "outputId": "c886c45d-3beb-44db-97e0-3030918075c3"
      },
      "cell_type": "code",
      "source": [
        "query = \"inteligencia artificial en medicina\"\n",
        "query_vector = tdtransform(query)\n",
        "print(query_vector)"
      ],
      "id": "f4abdc2c22664498",
      "outputs": [
        {
          "output_type": "stream",
          "name": "stdout",
          "text": [
            "[0, 0, 0, 0, 0, 0, 0, 0, 0, 0, 0, 0, 0, 0, 0, 0, 0, 0, 0, 0, 0, 0, 0, 0, 0, 0, 0, 0, 0, 0, 0, 0, 0, 0, 1, 0, 0, 0, 0, 0, 0, 0, 0, 0, 0, 0, 0, 0, 0, 0, 0, 0, 0, 0, 0, 0, 0, 0, 0, 0, 0, 0, 0, 0, 0, 0, 0, 0, 0, 0, 0, 0, 0, 0, 0, 0, 0, 0, 0, 0, 0, 0, 0, 0, 0, 0, 0, 0, 0, 0, 0, 0, 0, 0, 0, 0, 0, 0, 0, 0, 0, 0, 0, 0, 0, 0, 1, 0, 0, 0, 0, 0, 0, 0, 0, 0, 0, 0, 0, 0, 0, 0, 0, 0, 1, 0, 0, 0, 0, 0, 0, 0, 0, 0, 0, 0, 0, 0, 0, 0, 0, 0, 0, 0, 0, 0, 0, 0, 0, 0, 0, 0, 0, 0, 0, 0, 0, 0, 0, 0, 0, 0, 0, 0, 0, 0, 0, 0, 0, 0, 0, 0, 0, 0, 0, 0, 0, 0, 0, 0, 0, 0, 0, 0, 0, 0, 0, 0, 0, 0, 1, 0, 0, 0, 0, 0, 0, 0, 0, 0, 0, 0, 0, 0, 0, 0, 0, 0, 0, 0, 0, 0, 0, 0, 0, 0, 0, 0, 0, 0, 0, 0, 0, 0, 0, 0, 0, 0, 0, 0]\n"
          ]
        }
      ],
      "execution_count": 12
    },
    {
      "metadata": {
        "id": "49b612552e0a24cb"
      },
      "cell_type": "markdown",
      "source": [
        "## Paso 4: Calcular la distancia entre la _query_ y todos los documentos del corpus\n",
        "Al obtener la distancia Jaccard entre la _query_ y cada documento del corpus, calculamos la relevancia que tiene cada documento para la _query_"
      ],
      "id": "49b612552e0a24cb"
    },
    {
      "cell_type": "code",
      "source": [
        "def jacard(lista, vector):\n",
        "\n",
        "    interseccion = 0\n",
        "    union = 0\n",
        "\n",
        "    # Recorrer query y tdmatrix paralelamente\n",
        "    for elem_lista, elem_vector in zip(lista, vector):\n",
        "        # Intersección (1 en ambos vectores)\n",
        "        if elem_lista == 1 and elem_vector == 1:\n",
        "            interseccion += 1\n",
        "            union += 1\n",
        "        # Unión (1 en al menos uno de los vectores)\n",
        "        elif elem_lista == 1 or elem_vector == 1:\n",
        "            union += 1\n",
        "\n",
        "    # Evitar división por cero\n",
        "    if union == 0:\n",
        "        return 0\n",
        "    else:\n",
        "        return interseccion / union"
      ],
      "metadata": {
        "id": "b1GHVkGkjByj"
      },
      "id": "b1GHVkGkjByj",
      "execution_count": 13,
      "outputs": []
    },
    {
      "cell_type": "code",
      "source": [
        "# Función para calcular la similitud de Jaccard entre cada documento y la query\n",
        "def similitud(tdmatrix, query_vector):\n",
        "    distancias = []\n",
        "    for i, documento in enumerate(tdmatrix):\n",
        "        distancia = jacard(documento, query_vector)\n",
        "        distancias.append((i+1, distancia))  # Guardar el índice del documento y la distancia jacard\n",
        "    return distancias\n",
        "distancias = similitud(tdmatrix, query_vector)\n",
        "for doc_id, distancia in distancias:\n",
        "    print(f\"Similitud de Jaccard con el documento {doc_id}: {distancia:.4f}\")"
      ],
      "metadata": {
        "colab": {
          "base_uri": "https://localhost:8080/"
        },
        "id": "d1vwUBU5kwEZ",
        "outputId": "6495d9d2-8316-4b8c-f976-83f0a6493958"
      },
      "id": "d1vwUBU5kwEZ",
      "execution_count": 14,
      "outputs": [
        {
          "output_type": "stream",
          "name": "stdout",
          "text": [
            "Similitud de Jaccard con el documento 1: 0.0638\n",
            "Similitud de Jaccard con el documento 2: 0.0667\n",
            "Similitud de Jaccard con el documento 3: 0.0222\n",
            "Similitud de Jaccard con el documento 4: 0.0000\n",
            "Similitud de Jaccard con el documento 5: 0.0000\n",
            "Similitud de Jaccard con el documento 6: 0.0698\n",
            "Similitud de Jaccard con el documento 7: 0.0217\n",
            "Similitud de Jaccard con el documento 8: 0.0455\n"
          ]
        }
      ]
    },
    {
      "metadata": {
        "id": "3173b4cbd523e996"
      },
      "cell_type": "markdown",
      "source": [
        "## Paso 5: Entregar los resultados de la búsqueda al usuario\n",
        "\n",
        "\n",
        "\n",
        "A partir de la _query_, debemos indicar al usuario cuáles documentos son los más relevantes. Se debe presentar la información en orden de relevancia."
      ],
      "id": "3173b4cbd523e996"
    },
    {
      "cell_type": "code",
      "source": [
        "# Ordenar distancias\n",
        "distancias_ordenadas = sorted(distancias, key=lambda x: x[1], reverse=True)\n",
        "\n",
        "# Imprimir resultados ordenados\n",
        "print(\"Similitudes de Jaccard en orden de relevancia:\")\n",
        "for doc_id, distancia in distancias_ordenadas:\n",
        "    print(f\"Similitud de Jaccard con el documento {doc_id}: {distancia:.4f}\")"
      ],
      "metadata": {
        "colab": {
          "base_uri": "https://localhost:8080/"
        },
        "id": "N0Y1aWponLdH",
        "outputId": "45d1e769-b2df-487e-f871-c17fc57d7647"
      },
      "id": "N0Y1aWponLdH",
      "execution_count": 15,
      "outputs": [
        {
          "output_type": "stream",
          "name": "stdout",
          "text": [
            "Similitudes de Jaccard en orden de relevancia:\n",
            "Similitud de Jaccard con el documento 6: 0.0698\n",
            "Similitud de Jaccard con el documento 2: 0.0667\n",
            "Similitud de Jaccard con el documento 1: 0.0638\n",
            "Similitud de Jaccard con el documento 8: 0.0455\n",
            "Similitud de Jaccard con el documento 3: 0.0222\n",
            "Similitud de Jaccard con el documento 7: 0.0217\n",
            "Similitud de Jaccard con el documento 4: 0.0000\n",
            "Similitud de Jaccard con el documento 5: 0.0000\n"
          ]
        }
      ]
    },
    {
      "cell_type": "markdown",
      "source": [
        "## Paso 6: Cargar todas las querys\n",
        " En este paso vamos a cargar todas las querys en un archivo txt y vamos a calcular el jacard con cada una de las consultas para cada documento del corpus. Finalmente vamos a imprimir el orden de relevancia para cada consulta, usando todos los pasos anteriores"
      ],
      "metadata": {
        "id": "WxIWu4qRoYFD"
      },
      "id": "WxIWu4qRoYFD"
    },
    {
      "cell_type": "code",
      "source": [
        "def cargar_queries(ruta):\n",
        "    # Leer y procesar queries desde un archivo, omitiendo líneas vacías\n",
        "    with open(ruta, 'r', encoding='utf-8') as file:\n",
        "        queries = list(filter(None, (line.strip() for line in file)))\n",
        "    return queries\n",
        "\n",
        "# Cargar las queries desde la ruta especificada\n",
        "queries = cargar_queries('../content/queris.txt')\n",
        "print(\"Lista de queries cargadas con éxito:\", queries)\n",
        "\n",
        "# Función para calcular y ordenar las similitudes de Jaccard para cada query\n",
        "def calcular_similitudes_para_todas(queries, tdmatrix):\n",
        "    resultados = {}\n",
        "    for query in queries:\n",
        "        print(f\"\\nCalculando similitudes para la query: '{query}'\")\n",
        "        query_vector = tdtransform(query)\n",
        "\n",
        "        # Calcular similitudes de Jaccard y ordenar de inmediato\n",
        "        distancias_ordenadas = sorted(\n",
        "            similitud(tdmatrix, query_vector), key=lambda x: x[1], reverse=True\n",
        "        )\n",
        "\n",
        "        # Agregar los resultados ordenados al diccionario\n",
        "        resultados[query] = distancias_ordenadas\n",
        "\n",
        "        # Mostrar los resultados de la query actual\n",
        "        print(f\"Similitudes de Jaccard ordenadas para la query: '{query}'\")\n",
        "        for doc_id, distancia in distancias_ordenadas:\n",
        "            print(f\"Documento {doc_id} - Nivel de similitud: {distancia:.4f}\")\n",
        "\n",
        "    return resultados\n",
        "\n",
        "# Ejecutar el cálculo de similitudes para todas las queries\n",
        "resultados_queries = calcular_similitudes_para_todas(queries, tdmatrix)\n"
      ],
      "metadata": {
        "colab": {
          "base_uri": "https://localhost:8080/"
        },
        "collapsed": true,
        "id": "zmek4fN6nghZ",
        "outputId": "ac772c81-b1c7-4fee-8794-c89a56a15908"
      },
      "id": "zmek4fN6nghZ",
      "execution_count": 19,
      "outputs": [
        {
          "output_type": "stream",
          "name": "stdout",
          "text": [
            "Lista de queries cargadas con éxito: ['inteligencia artificial en medicina', 'beneficios de la educación a distancia', 'realidad aumentada en videojuegos', 'desarrollo personal y hábitos saludables', 'futuro del comercio electrónico', 'tecnologías en cine moderno', 'competencias de e-sports', 'diagnóstico con dispositivos portátiles', 'literatura de ciencia ficción', 'plataformas de streaming']\n",
            "\n",
            "Calculando similitudes para la query: 'inteligencia artificial en medicina'\n",
            "Similitudes de Jaccard ordenadas para la query: 'inteligencia artificial en medicina'\n",
            "Documento 6 - Nivel de similitud: 0.0698\n",
            "Documento 2 - Nivel de similitud: 0.0667\n",
            "Documento 1 - Nivel de similitud: 0.0638\n",
            "Documento 8 - Nivel de similitud: 0.0455\n",
            "Documento 3 - Nivel de similitud: 0.0222\n",
            "Documento 7 - Nivel de similitud: 0.0217\n",
            "Documento 4 - Nivel de similitud: 0.0000\n",
            "Documento 5 - Nivel de similitud: 0.0000\n",
            "\n",
            "Calculando similitudes para la query: 'beneficios de la educación a distancia'\n",
            "Similitudes de Jaccard ordenadas para la query: 'beneficios de la educación a distancia'\n",
            "Documento 4 - Nivel de similitud: 0.1429\n",
            "Documento 6 - Nivel de similitud: 0.0667\n",
            "Documento 8 - Nivel de similitud: 0.0667\n",
            "Documento 5 - Nivel de similitud: 0.0652\n",
            "Documento 7 - Nivel de similitud: 0.0652\n",
            "Documento 2 - Nivel de similitud: 0.0638\n",
            "Documento 3 - Nivel de similitud: 0.0435\n",
            "Documento 1 - Nivel de similitud: 0.0400\n",
            "\n",
            "Calculando similitudes para la query: 'realidad aumentada en videojuegos'\n",
            "Similitudes de Jaccard ordenadas para la query: 'realidad aumentada en videojuegos'\n",
            "Documento 2 - Nivel de similitud: 0.0909\n",
            "Documento 3 - Nivel de similitud: 0.0222\n",
            "Documento 6 - Nivel de similitud: 0.0222\n",
            "Documento 8 - Nivel de similitud: 0.0222\n",
            "Documento 5 - Nivel de similitud: 0.0217\n",
            "Documento 7 - Nivel de similitud: 0.0217\n",
            "Documento 1 - Nivel de similitud: 0.0204\n",
            "Documento 4 - Nivel de similitud: 0.0000\n",
            "\n",
            "Calculando similitudes para la query: 'desarrollo personal y hábitos saludables'\n",
            "Similitudes de Jaccard ordenadas para la query: 'desarrollo personal y hábitos saludables'\n",
            "Documento 7 - Nivel de similitud: 0.1163\n",
            "Documento 2 - Nivel de similitud: 0.0426\n",
            "Documento 6 - Nivel de similitud: 0.0217\n",
            "Documento 8 - Nivel de similitud: 0.0217\n",
            "Documento 5 - Nivel de similitud: 0.0213\n",
            "Documento 1 - Nivel de similitud: 0.0200\n",
            "Documento 3 - Nivel de similitud: 0.0000\n",
            "Documento 4 - Nivel de similitud: 0.0000\n",
            "\n",
            "Calculando similitudes para la query: 'futuro del comercio electrónico'\n",
            "Similitudes de Jaccard ordenadas para la query: 'futuro del comercio electrónico'\n",
            "Documento 3 - Nivel de similitud: 0.0465\n",
            "Documento 6 - Nivel de similitud: 0.0227\n",
            "Documento 8 - Nivel de similitud: 0.0227\n",
            "Documento 1 - Nivel de similitud: 0.0000\n",
            "Documento 2 - Nivel de similitud: 0.0000\n",
            "Documento 4 - Nivel de similitud: 0.0000\n",
            "Documento 5 - Nivel de similitud: 0.0000\n",
            "Documento 7 - Nivel de similitud: 0.0000\n",
            "\n",
            "Calculando similitudes para la query: 'tecnologías en cine moderno'\n",
            "Similitudes de Jaccard ordenadas para la query: 'tecnologías en cine moderno'\n",
            "Documento 5 - Nivel de similitud: 0.0455\n",
            "Documento 2 - Nivel de similitud: 0.0444\n",
            "Documento 3 - Nivel de similitud: 0.0227\n",
            "Documento 6 - Nivel de similitud: 0.0227\n",
            "Documento 8 - Nivel de similitud: 0.0227\n",
            "Documento 7 - Nivel de similitud: 0.0222\n",
            "Documento 1 - Nivel de similitud: 0.0208\n",
            "Documento 4 - Nivel de similitud: 0.0000\n",
            "\n",
            "Calculando similitudes para la query: 'competencias de e-sports'\n",
            "Similitudes de Jaccard ordenadas para la query: 'competencias de e-sports'\n",
            "Documento 2 - Nivel de similitud: 0.0682\n",
            "Documento 3 - Nivel de similitud: 0.0227\n",
            "Documento 4 - Nivel de similitud: 0.0227\n",
            "Documento 6 - Nivel de similitud: 0.0227\n",
            "Documento 8 - Nivel de similitud: 0.0227\n",
            "Documento 5 - Nivel de similitud: 0.0222\n",
            "Documento 7 - Nivel de similitud: 0.0222\n",
            "Documento 1 - Nivel de similitud: 0.0208\n",
            "\n",
            "Calculando similitudes para la query: 'diagnóstico con dispositivos portátiles'\n",
            "Similitudes de Jaccard ordenadas para la query: 'diagnóstico con dispositivos portátiles'\n",
            "Documento 8 - Nivel de similitud: 0.0714\n",
            "Documento 3 - Nivel de similitud: 0.0227\n",
            "Documento 4 - Nivel de similitud: 0.0227\n",
            "Documento 5 - Nivel de similitud: 0.0222\n",
            "Documento 2 - Nivel de similitud: 0.0217\n",
            "Documento 1 - Nivel de similitud: 0.0000\n",
            "Documento 6 - Nivel de similitud: 0.0000\n",
            "Documento 7 - Nivel de similitud: 0.0000\n",
            "\n",
            "Calculando similitudes para la query: 'literatura de ciencia ficción'\n",
            "Similitudes de Jaccard ordenadas para la query: 'literatura de ciencia ficción'\n",
            "Documento 6 - Nivel de similitud: 0.0714\n",
            "Documento 3 - Nivel de similitud: 0.0227\n",
            "Documento 4 - Nivel de similitud: 0.0227\n",
            "Documento 8 - Nivel de similitud: 0.0227\n",
            "Documento 5 - Nivel de similitud: 0.0222\n",
            "Documento 7 - Nivel de similitud: 0.0222\n",
            "Documento 2 - Nivel de similitud: 0.0217\n",
            "Documento 1 - Nivel de similitud: 0.0208\n",
            "\n",
            "Calculando similitudes para la query: 'plataformas de streaming'\n",
            "Similitudes de Jaccard ordenadas para la query: 'plataformas de streaming'\n",
            "Documento 5 - Nivel de similitud: 0.0698\n",
            "Documento 3 - Nivel de similitud: 0.0465\n",
            "Documento 4 - Nivel de similitud: 0.0227\n",
            "Documento 6 - Nivel de similitud: 0.0227\n",
            "Documento 8 - Nivel de similitud: 0.0227\n",
            "Documento 7 - Nivel de similitud: 0.0222\n",
            "Documento 2 - Nivel de similitud: 0.0217\n",
            "Documento 1 - Nivel de similitud: 0.0208\n"
          ]
        }
      ]
    }
  ],
  "metadata": {
    "kernelspec": {
      "display_name": "Python 3",
      "language": "python",
      "name": "python3"
    },
    "language_info": {
      "codemirror_mode": {
        "name": "ipython",
        "version": 2
      },
      "file_extension": ".py",
      "mimetype": "text/x-python",
      "name": "python",
      "nbconvert_exporter": "python",
      "pygments_lexer": "ipython2",
      "version": "2.7.6"
    },
    "colab": {
      "provenance": []
    }
  },
  "nbformat": 4,
  "nbformat_minor": 5
}