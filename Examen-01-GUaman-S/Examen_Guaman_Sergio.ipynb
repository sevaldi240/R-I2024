{
  "nbformat": 4,
  "nbformat_minor": 0,
  "metadata": {
    "colab": {
      "provenance": [],
      "gpuType": "T4"
    },
    "kernelspec": {
      "name": "python3",
      "display_name": "Python 3"
    },
    "language_info": {
      "name": "python"
    },
    "accelerator": "GPU"
  },
  "cells": [
    {
      "cell_type": "markdown",
      "source": [
        "#**ESCUELA POLITECNICA NACIONAL**\n",
        "##RECUPERACION INFORMACION\n",
        "###Examen 01\n",
        " Sergio Guaman"
      ],
      "metadata": {
        "id": "Ristysy5uKaW"
      }
    },
    {
      "cell_type": "markdown",
      "source": [
        "En esta parte iniciamops descargando con El comando pip install scikit-learn  la cual instala la librería scikit-learn, que es una herramienta para realizar tareas de aprendizaje automático (machine learning) como clasificación, regresión y clustering.\n",
        "además instalamos nltk y spacy para la lematización\n"
      ],
      "metadata": {
        "id": "9QfRgAR-uzIT"
      }
    },
    {
      "cell_type": "code",
      "execution_count": 3,
      "metadata": {
        "colab": {
          "base_uri": "https://localhost:8080/"
        },
        "id": "LBIX_9oVYc26",
        "outputId": "4d2c8157-bd54-473d-e062-02f0d26f3d7a"
      },
      "outputs": [
        {
          "output_type": "stream",
          "name": "stdout",
          "text": [
            "Requirement already satisfied: nltk in /usr/local/lib/python3.10/dist-packages (3.9.1)\n",
            "Requirement already satisfied: click in /usr/local/lib/python3.10/dist-packages (from nltk) (8.1.7)\n",
            "Requirement already satisfied: joblib in /usr/local/lib/python3.10/dist-packages (from nltk) (1.4.2)\n",
            "Requirement already satisfied: regex>=2021.8.3 in /usr/local/lib/python3.10/dist-packages (from nltk) (2024.9.11)\n",
            "Requirement already satisfied: tqdm in /usr/local/lib/python3.10/dist-packages (from nltk) (4.66.6)\n"
          ]
        }
      ],
      "source": [
        "pip install nltk\n"
      ]
    },
    {
      "cell_type": "code",
      "source": [
        "pip install scikit-learn"
      ],
      "metadata": {
        "colab": {
          "base_uri": "https://localhost:8080/"
        },
        "id": "8h4qLrW4fAyr",
        "outputId": "1065a107-374d-4485-e623-d34f180d8020"
      },
      "execution_count": 4,
      "outputs": [
        {
          "output_type": "stream",
          "name": "stdout",
          "text": [
            "Requirement already satisfied: scikit-learn in /usr/local/lib/python3.10/dist-packages (1.5.2)\n",
            "Requirement already satisfied: numpy>=1.19.5 in /usr/local/lib/python3.10/dist-packages (from scikit-learn) (1.26.4)\n",
            "Requirement already satisfied: scipy>=1.6.0 in /usr/local/lib/python3.10/dist-packages (from scikit-learn) (1.13.1)\n",
            "Requirement already satisfied: joblib>=1.2.0 in /usr/local/lib/python3.10/dist-packages (from scikit-learn) (1.4.2)\n",
            "Requirement already satisfied: threadpoolctl>=3.1.0 in /usr/local/lib/python3.10/dist-packages (from scikit-learn) (3.5.0)\n"
          ]
        }
      ]
    },
    {
      "cell_type": "code",
      "source": [
        "pip install spacy"
      ],
      "metadata": {
        "colab": {
          "base_uri": "https://localhost:8080/"
        },
        "id": "F1T8DnBxrk-G",
        "outputId": "1e2e49de-373d-4c17-8b35-9ab1e7f2ab5e"
      },
      "execution_count": 5,
      "outputs": [
        {
          "output_type": "stream",
          "name": "stdout",
          "text": [
            "Requirement already satisfied: spacy in /usr/local/lib/python3.10/dist-packages (3.7.5)\n",
            "Requirement already satisfied: spacy-legacy<3.1.0,>=3.0.11 in /usr/local/lib/python3.10/dist-packages (from spacy) (3.0.12)\n",
            "Requirement already satisfied: spacy-loggers<2.0.0,>=1.0.0 in /usr/local/lib/python3.10/dist-packages (from spacy) (1.0.5)\n",
            "Requirement already satisfied: murmurhash<1.1.0,>=0.28.0 in /usr/local/lib/python3.10/dist-packages (from spacy) (1.0.10)\n",
            "Requirement already satisfied: cymem<2.1.0,>=2.0.2 in /usr/local/lib/python3.10/dist-packages (from spacy) (2.0.8)\n",
            "Requirement already satisfied: preshed<3.1.0,>=3.0.2 in /usr/local/lib/python3.10/dist-packages (from spacy) (3.0.9)\n",
            "Requirement already satisfied: thinc<8.3.0,>=8.2.2 in /usr/local/lib/python3.10/dist-packages (from spacy) (8.2.5)\n",
            "Requirement already satisfied: wasabi<1.2.0,>=0.9.1 in /usr/local/lib/python3.10/dist-packages (from spacy) (1.1.3)\n",
            "Requirement already satisfied: srsly<3.0.0,>=2.4.3 in /usr/local/lib/python3.10/dist-packages (from spacy) (2.4.8)\n",
            "Requirement already satisfied: catalogue<2.1.0,>=2.0.6 in /usr/local/lib/python3.10/dist-packages (from spacy) (2.0.10)\n",
            "Requirement already satisfied: weasel<0.5.0,>=0.1.0 in /usr/local/lib/python3.10/dist-packages (from spacy) (0.4.1)\n",
            "Requirement already satisfied: typer<1.0.0,>=0.3.0 in /usr/local/lib/python3.10/dist-packages (from spacy) (0.13.0)\n",
            "Requirement already satisfied: tqdm<5.0.0,>=4.38.0 in /usr/local/lib/python3.10/dist-packages (from spacy) (4.66.6)\n",
            "Requirement already satisfied: requests<3.0.0,>=2.13.0 in /usr/local/lib/python3.10/dist-packages (from spacy) (2.32.3)\n",
            "Requirement already satisfied: pydantic!=1.8,!=1.8.1,<3.0.0,>=1.7.4 in /usr/local/lib/python3.10/dist-packages (from spacy) (2.9.2)\n",
            "Requirement already satisfied: jinja2 in /usr/local/lib/python3.10/dist-packages (from spacy) (3.1.4)\n",
            "Requirement already satisfied: setuptools in /usr/local/lib/python3.10/dist-packages (from spacy) (75.1.0)\n",
            "Requirement already satisfied: packaging>=20.0 in /usr/local/lib/python3.10/dist-packages (from spacy) (24.2)\n",
            "Requirement already satisfied: langcodes<4.0.0,>=3.2.0 in /usr/local/lib/python3.10/dist-packages (from spacy) (3.4.1)\n",
            "Requirement already satisfied: numpy>=1.19.0 in /usr/local/lib/python3.10/dist-packages (from spacy) (1.26.4)\n",
            "Requirement already satisfied: language-data>=1.2 in /usr/local/lib/python3.10/dist-packages (from langcodes<4.0.0,>=3.2.0->spacy) (1.2.0)\n",
            "Requirement already satisfied: annotated-types>=0.6.0 in /usr/local/lib/python3.10/dist-packages (from pydantic!=1.8,!=1.8.1,<3.0.0,>=1.7.4->spacy) (0.7.0)\n",
            "Requirement already satisfied: pydantic-core==2.23.4 in /usr/local/lib/python3.10/dist-packages (from pydantic!=1.8,!=1.8.1,<3.0.0,>=1.7.4->spacy) (2.23.4)\n",
            "Requirement already satisfied: typing-extensions>=4.6.1 in /usr/local/lib/python3.10/dist-packages (from pydantic!=1.8,!=1.8.1,<3.0.0,>=1.7.4->spacy) (4.12.2)\n",
            "Requirement already satisfied: charset-normalizer<4,>=2 in /usr/local/lib/python3.10/dist-packages (from requests<3.0.0,>=2.13.0->spacy) (3.4.0)\n",
            "Requirement already satisfied: idna<4,>=2.5 in /usr/local/lib/python3.10/dist-packages (from requests<3.0.0,>=2.13.0->spacy) (3.10)\n",
            "Requirement already satisfied: urllib3<3,>=1.21.1 in /usr/local/lib/python3.10/dist-packages (from requests<3.0.0,>=2.13.0->spacy) (2.2.3)\n",
            "Requirement already satisfied: certifi>=2017.4.17 in /usr/local/lib/python3.10/dist-packages (from requests<3.0.0,>=2.13.0->spacy) (2024.8.30)\n",
            "Requirement already satisfied: blis<0.8.0,>=0.7.8 in /usr/local/lib/python3.10/dist-packages (from thinc<8.3.0,>=8.2.2->spacy) (0.7.11)\n",
            "Requirement already satisfied: confection<1.0.0,>=0.0.1 in /usr/local/lib/python3.10/dist-packages (from thinc<8.3.0,>=8.2.2->spacy) (0.1.5)\n",
            "Requirement already satisfied: click>=8.0.0 in /usr/local/lib/python3.10/dist-packages (from typer<1.0.0,>=0.3.0->spacy) (8.1.7)\n",
            "Requirement already satisfied: shellingham>=1.3.0 in /usr/local/lib/python3.10/dist-packages (from typer<1.0.0,>=0.3.0->spacy) (1.5.4)\n",
            "Requirement already satisfied: rich>=10.11.0 in /usr/local/lib/python3.10/dist-packages (from typer<1.0.0,>=0.3.0->spacy) (13.9.4)\n",
            "Requirement already satisfied: cloudpathlib<1.0.0,>=0.7.0 in /usr/local/lib/python3.10/dist-packages (from weasel<0.5.0,>=0.1.0->spacy) (0.20.0)\n",
            "Requirement already satisfied: smart-open<8.0.0,>=5.2.1 in /usr/local/lib/python3.10/dist-packages (from weasel<0.5.0,>=0.1.0->spacy) (7.0.5)\n",
            "Requirement already satisfied: MarkupSafe>=2.0 in /usr/local/lib/python3.10/dist-packages (from jinja2->spacy) (3.0.2)\n",
            "Requirement already satisfied: marisa-trie>=0.7.7 in /usr/local/lib/python3.10/dist-packages (from language-data>=1.2->langcodes<4.0.0,>=3.2.0->spacy) (1.2.1)\n",
            "Requirement already satisfied: markdown-it-py>=2.2.0 in /usr/local/lib/python3.10/dist-packages (from rich>=10.11.0->typer<1.0.0,>=0.3.0->spacy) (3.0.0)\n",
            "Requirement already satisfied: pygments<3.0.0,>=2.13.0 in /usr/local/lib/python3.10/dist-packages (from rich>=10.11.0->typer<1.0.0,>=0.3.0->spacy) (2.18.0)\n",
            "Requirement already satisfied: wrapt in /usr/local/lib/python3.10/dist-packages (from smart-open<8.0.0,>=5.2.1->weasel<0.5.0,>=0.1.0->spacy) (1.16.0)\n",
            "Requirement already satisfied: mdurl~=0.1 in /usr/local/lib/python3.10/dist-packages (from markdown-it-py>=2.2.0->rich>=10.11.0->typer<1.0.0,>=0.3.0->spacy) (0.1.2)\n"
          ]
        }
      ]
    },
    {
      "cell_type": "code",
      "source": [
        "import os\n",
        "import re\n",
        "import nltk\n",
        "\n",
        "import time # Evaluar tecnicas de vectorización\n",
        "import psutil # Evaluar tecnicas de vectorización\n",
        "import gc # Evaluar tecnicas de vectorización\n",
        "import numpy as np\n",
        "import pandas as pd # Obtener tablas\n",
        "import matplotlib.pyplot as plt # Para obtener gráfica\n",
        "import seaborn as sns # Para obtener gráfica\n",
        "from collections import defaultdict # Para el indice invertido\n",
        "from sklearn.preprocessing import normalize # para Word2Vec\n",
        "from nltk.tokenize import word_tokenize # para tokenizar\n",
        "from nltk.stem import PorterStemmer\n",
        "from sklearn.feature_extraction.text import CountVectorizer, TfidfVectorizer\n",
        "from gensim.models import Word2Vec\n",
        "from sklearn.metrics.pairwise import cosine_similarity\n",
        "from nltk.corpus import stopwords\n",
        "from nltk.stem import WordNetLemmatizer"
      ],
      "metadata": {
        "id": "Bg29HpzmfFbT"
      },
      "execution_count": 6,
      "outputs": []
    },
    {
      "cell_type": "code",
      "source": [
        "#import spacy"
      ],
      "metadata": {
        "id": "RkfKZnZsr9EA"
      },
      "execution_count": 7,
      "outputs": []
    },
    {
      "cell_type": "markdown",
      "source": [
        "#Obtenemos la base de datos"
      ],
      "metadata": {
        "id": "Ic3EH7XEvWVo"
      }
    },
    {
      "cell_type": "markdown",
      "source": [
        "Lo que se decidió hacer es crear 2 df de rview y movies el cual seguido convertimos en df, luego unimos ambas en uno solo df llamado df_total, con un merged tomando en base a rotten_tomatoes_link"
      ],
      "metadata": {
        "id": "SSC43TiavZ23"
      }
    },
    {
      "cell_type": "code",
      "source": [
        "df_review=pd.read_csv(\"rotten_tomatoes_critic_reviews.csv\",sep=',')"
      ],
      "metadata": {
        "id": "tdeRyWEHfGuU"
      },
      "execution_count": 8,
      "outputs": []
    },
    {
      "cell_type": "code",
      "source": [
        "df_movies=pd.read_csv(\"rotten_tomatoes_movies.csv\",sep=',')"
      ],
      "metadata": {
        "id": "i01NlJk_iC_-"
      },
      "execution_count": 9,
      "outputs": []
    },
    {
      "cell_type": "code",
      "source": [
        "documentos = {}"
      ],
      "metadata": {
        "id": "5SgclVydflfK"
      },
      "execution_count": 10,
      "outputs": []
    },
    {
      "cell_type": "code",
      "source": [
        "\n",
        "df_total = pd.merge(df_review, df_movies, on='rotten_tomatoes_link', how='inner')"
      ],
      "metadata": {
        "id": "OeFQar-cjCij"
      },
      "execution_count": 11,
      "outputs": []
    },
    {
      "cell_type": "code",
      "source": [
        "df_total=df_total.drop(['original_release_date'],axis=1)\n"
      ],
      "metadata": {
        "id": "WtmJOX78j-vX"
      },
      "execution_count": 12,
      "outputs": []
    },
    {
      "cell_type": "markdown",
      "source": [
        "Realizamos un drop de las columnas que no vamos a necestar"
      ],
      "metadata": {
        "id": "Ul7f5AYtvxeD"
      }
    },
    {
      "cell_type": "code",
      "source": [
        "df_total=df_total.drop(['streaming_release_date'],axis=1)\n",
        "df_total=df_total.drop(['runtime'],axis=1)\n",
        "df_total=df_total.drop(['tomatometer_rating'],axis=1)\n",
        "df_total=df_total.drop(['tomatometer_count'],axis=1)\n",
        "df_total=df_total.drop(['audience_rating'],axis=1)\n",
        "df_total=df_total.drop(['audience_count'],axis=1)\n",
        "df_total=df_total.drop(['tomatometer_top_critics_count'],axis=1)\n",
        "df_total=df_total.drop(['tomatometer_fresh_critics_count'],axis=1)\n",
        "df_total=df_total.drop(['tomatometer_rotten_critics_count'],axis=1)\n",
        "df_total=df_total.drop(['review_score'],axis=1)\n",
        "df_total=df_total.drop(['review_date'],axis=1)\n",
        "\n"
      ],
      "metadata": {
        "id": "ThfPjDF6ki6c"
      },
      "execution_count": 13,
      "outputs": []
    },
    {
      "cell_type": "code",
      "source": [
        "df_total"
      ],
      "metadata": {
        "id": "Ec3ofWyLlxNe",
        "colab": {
          "base_uri": "https://localhost:8080/",
          "height": 1000
        },
        "outputId": "49e8f816-1b7d-4713-bffb-1d1c59b4aaa7"
      },
      "execution_count": 14,
      "outputs": [
        {
          "output_type": "execute_result",
          "data": {
            "text/plain": [
              "        rotten_tomatoes_link        critic_name  top_critic  \\\n",
              "0                  m/0814255    Andrew L. Urban       False   \n",
              "1                  m/0814255      Louise Keller       False   \n",
              "2                  m/0814255                NaN       False   \n",
              "3                  m/0814255       Ben McEachen       False   \n",
              "4                  m/0814255        Ethan Alter        True   \n",
              "...                      ...                ...         ...   \n",
              "1129882          m/zulu_dawn      Chuck O'Leary       False   \n",
              "1129883          m/zulu_dawn          Ken Hanke       False   \n",
              "1129884          m/zulu_dawn    Dennis Schwartz       False   \n",
              "1129885          m/zulu_dawn  Christopher Lloyd       False   \n",
              "1129886          m/zulu_dawn     Brent McKnight       False   \n",
              "\n",
              "                          publisher_name review_type  \\\n",
              "0                         Urban Cinefile       Fresh   \n",
              "1                         Urban Cinefile       Fresh   \n",
              "2                    FILMINK (Australia)       Fresh   \n",
              "3                Sunday Mail (Australia)       Fresh   \n",
              "4                     Hollywood Reporter      Rotten   \n",
              "...                                  ...         ...   \n",
              "1129882                 Fantastica Daily      Rotten   \n",
              "1129883  Mountain Xpress (Asheville, NC)       Fresh   \n",
              "1129884    Dennis Schwartz Movie Reviews       Fresh   \n",
              "1129885          Sarasota Herald-Tribune      Rotten   \n",
              "1129886             The Last Thing I See      Rotten   \n",
              "\n",
              "                                            review_content  \\\n",
              "0        A fantasy adventure that fuses Greek mythology...   \n",
              "1        Uma Thurman as Medusa, the gorgon with a coiff...   \n",
              "2        With a top-notch cast and dazzling special eff...   \n",
              "3        Whether audiences will get behind The Lightnin...   \n",
              "4        What's really lacking in The Lightning Thief i...   \n",
              "...                                                    ...   \n",
              "1129882                                                NaN   \n",
              "1129883  Seen today, it's not only a startling indictme...   \n",
              "1129884  A rousing visual spectacle that's a prequel of...   \n",
              "1129885  A simple two-act story: Prelude to war, and th...   \n",
              "1129886  Rides the line between being a pure artifact o...   \n",
              "\n",
              "                                               movie_title  \\\n",
              "0        Percy Jackson & the Olympians: The Lightning T...   \n",
              "1        Percy Jackson & the Olympians: The Lightning T...   \n",
              "2        Percy Jackson & the Olympians: The Lightning T...   \n",
              "3        Percy Jackson & the Olympians: The Lightning T...   \n",
              "4        Percy Jackson & the Olympians: The Lightning T...   \n",
              "...                                                    ...   \n",
              "1129882                                          Zulu Dawn   \n",
              "1129883                                          Zulu Dawn   \n",
              "1129884                                          Zulu Dawn   \n",
              "1129885                                          Zulu Dawn   \n",
              "1129886                                          Zulu Dawn   \n",
              "\n",
              "                                                movie_info  \\\n",
              "0        Always trouble-prone, the life of teenager Per...   \n",
              "1        Always trouble-prone, the life of teenager Per...   \n",
              "2        Always trouble-prone, the life of teenager Per...   \n",
              "3        Always trouble-prone, the life of teenager Per...   \n",
              "4        Always trouble-prone, the life of teenager Per...   \n",
              "...                                                    ...   \n",
              "1129882  Sir Henry Bartle Frere's (John Mills) vastly o...   \n",
              "1129883  Sir Henry Bartle Frere's (John Mills) vastly o...   \n",
              "1129884  Sir Henry Bartle Frere's (John Mills) vastly o...   \n",
              "1129885  Sir Henry Bartle Frere's (John Mills) vastly o...   \n",
              "1129886  Sir Henry Bartle Frere's (John Mills) vastly o...   \n",
              "\n",
              "                                         critics_consensus content_rating  \\\n",
              "0        Though it may seem like just another Harry Pot...             PG   \n",
              "1        Though it may seem like just another Harry Pot...             PG   \n",
              "2        Though it may seem like just another Harry Pot...             PG   \n",
              "3        Though it may seem like just another Harry Pot...             PG   \n",
              "4        Though it may seem like just another Harry Pot...             PG   \n",
              "...                                                    ...            ...   \n",
              "1129882                                                NaN             PG   \n",
              "1129883                                                NaN             PG   \n",
              "1129884                                                NaN             PG   \n",
              "1129885                                                NaN             PG   \n",
              "1129886                                                NaN             PG   \n",
              "\n",
              "                                                    genres       directors  \\\n",
              "0        Action & Adventure, Comedy, Drama, Science Fic...  Chris Columbus   \n",
              "1        Action & Adventure, Comedy, Drama, Science Fic...  Chris Columbus   \n",
              "2        Action & Adventure, Comedy, Drama, Science Fic...  Chris Columbus   \n",
              "3        Action & Adventure, Comedy, Drama, Science Fic...  Chris Columbus   \n",
              "4        Action & Adventure, Comedy, Drama, Science Fic...  Chris Columbus   \n",
              "...                                                    ...             ...   \n",
              "1129882  Action & Adventure, Art House & International,...  Douglas Hickox   \n",
              "1129883  Action & Adventure, Art House & International,...  Douglas Hickox   \n",
              "1129884  Action & Adventure, Art House & International,...  Douglas Hickox   \n",
              "1129885  Action & Adventure, Art House & International,...  Douglas Hickox   \n",
              "1129886  Action & Adventure, Art House & International,...  Douglas Hickox   \n",
              "\n",
              "                                            authors  \\\n",
              "0        Craig Titley, Chris Columbus, Rick Riordan   \n",
              "1        Craig Titley, Chris Columbus, Rick Riordan   \n",
              "2        Craig Titley, Chris Columbus, Rick Riordan   \n",
              "3        Craig Titley, Chris Columbus, Rick Riordan   \n",
              "4        Craig Titley, Chris Columbus, Rick Riordan   \n",
              "...                                             ...   \n",
              "1129882                 Cy Endfield, Anthony Storey   \n",
              "1129883                 Cy Endfield, Anthony Storey   \n",
              "1129884                 Cy Endfield, Anthony Storey   \n",
              "1129885                 Cy Endfield, Anthony Storey   \n",
              "1129886                 Cy Endfield, Anthony Storey   \n",
              "\n",
              "                                                    actors  \\\n",
              "0        Logan Lerman, Brandon T. Jackson, Alexandra Da...   \n",
              "1        Logan Lerman, Brandon T. Jackson, Alexandra Da...   \n",
              "2        Logan Lerman, Brandon T. Jackson, Alexandra Da...   \n",
              "3        Logan Lerman, Brandon T. Jackson, Alexandra Da...   \n",
              "4        Logan Lerman, Brandon T. Jackson, Alexandra Da...   \n",
              "...                                                    ...   \n",
              "1129882  Burt Lancaster, Peter O'Toole, Simon Ward, Joh...   \n",
              "1129883  Burt Lancaster, Peter O'Toole, Simon Ward, Joh...   \n",
              "1129884  Burt Lancaster, Peter O'Toole, Simon Ward, Joh...   \n",
              "1129885  Burt Lancaster, Peter O'Toole, Simon Ward, Joh...   \n",
              "1129886  Burt Lancaster, Peter O'Toole, Simon Ward, Joh...   \n",
              "\n",
              "          production_company tomatometer_status audience_status  \n",
              "0           20th Century Fox             Rotten         Spilled  \n",
              "1           20th Century Fox             Rotten         Spilled  \n",
              "2           20th Century Fox             Rotten         Spilled  \n",
              "3           20th Century Fox             Rotten         Spilled  \n",
              "4           20th Century Fox             Rotten         Spilled  \n",
              "...                      ...                ...             ...  \n",
              "1129882  Tango Entertainment             Rotten         Upright  \n",
              "1129883  Tango Entertainment             Rotten         Upright  \n",
              "1129884  Tango Entertainment             Rotten         Upright  \n",
              "1129885  Tango Entertainment             Rotten         Upright  \n",
              "1129886  Tango Entertainment             Rotten         Upright  \n",
              "\n",
              "[1129887 rows x 17 columns]"
            ],
            "text/html": [
              "\n",
              "  <div id=\"df-9e4f1947-5cec-41f5-a471-661af19e1ccb\" class=\"colab-df-container\">\n",
              "    <div>\n",
              "<style scoped>\n",
              "    .dataframe tbody tr th:only-of-type {\n",
              "        vertical-align: middle;\n",
              "    }\n",
              "\n",
              "    .dataframe tbody tr th {\n",
              "        vertical-align: top;\n",
              "    }\n",
              "\n",
              "    .dataframe thead th {\n",
              "        text-align: right;\n",
              "    }\n",
              "</style>\n",
              "<table border=\"1\" class=\"dataframe\">\n",
              "  <thead>\n",
              "    <tr style=\"text-align: right;\">\n",
              "      <th></th>\n",
              "      <th>rotten_tomatoes_link</th>\n",
              "      <th>critic_name</th>\n",
              "      <th>top_critic</th>\n",
              "      <th>publisher_name</th>\n",
              "      <th>review_type</th>\n",
              "      <th>review_content</th>\n",
              "      <th>movie_title</th>\n",
              "      <th>movie_info</th>\n",
              "      <th>critics_consensus</th>\n",
              "      <th>content_rating</th>\n",
              "      <th>genres</th>\n",
              "      <th>directors</th>\n",
              "      <th>authors</th>\n",
              "      <th>actors</th>\n",
              "      <th>production_company</th>\n",
              "      <th>tomatometer_status</th>\n",
              "      <th>audience_status</th>\n",
              "    </tr>\n",
              "  </thead>\n",
              "  <tbody>\n",
              "    <tr>\n",
              "      <th>0</th>\n",
              "      <td>m/0814255</td>\n",
              "      <td>Andrew L. Urban</td>\n",
              "      <td>False</td>\n",
              "      <td>Urban Cinefile</td>\n",
              "      <td>Fresh</td>\n",
              "      <td>A fantasy adventure that fuses Greek mythology...</td>\n",
              "      <td>Percy Jackson &amp; the Olympians: The Lightning T...</td>\n",
              "      <td>Always trouble-prone, the life of teenager Per...</td>\n",
              "      <td>Though it may seem like just another Harry Pot...</td>\n",
              "      <td>PG</td>\n",
              "      <td>Action &amp; Adventure, Comedy, Drama, Science Fic...</td>\n",
              "      <td>Chris Columbus</td>\n",
              "      <td>Craig Titley, Chris Columbus, Rick Riordan</td>\n",
              "      <td>Logan Lerman, Brandon T. Jackson, Alexandra Da...</td>\n",
              "      <td>20th Century Fox</td>\n",
              "      <td>Rotten</td>\n",
              "      <td>Spilled</td>\n",
              "    </tr>\n",
              "    <tr>\n",
              "      <th>1</th>\n",
              "      <td>m/0814255</td>\n",
              "      <td>Louise Keller</td>\n",
              "      <td>False</td>\n",
              "      <td>Urban Cinefile</td>\n",
              "      <td>Fresh</td>\n",
              "      <td>Uma Thurman as Medusa, the gorgon with a coiff...</td>\n",
              "      <td>Percy Jackson &amp; the Olympians: The Lightning T...</td>\n",
              "      <td>Always trouble-prone, the life of teenager Per...</td>\n",
              "      <td>Though it may seem like just another Harry Pot...</td>\n",
              "      <td>PG</td>\n",
              "      <td>Action &amp; Adventure, Comedy, Drama, Science Fic...</td>\n",
              "      <td>Chris Columbus</td>\n",
              "      <td>Craig Titley, Chris Columbus, Rick Riordan</td>\n",
              "      <td>Logan Lerman, Brandon T. Jackson, Alexandra Da...</td>\n",
              "      <td>20th Century Fox</td>\n",
              "      <td>Rotten</td>\n",
              "      <td>Spilled</td>\n",
              "    </tr>\n",
              "    <tr>\n",
              "      <th>2</th>\n",
              "      <td>m/0814255</td>\n",
              "      <td>NaN</td>\n",
              "      <td>False</td>\n",
              "      <td>FILMINK (Australia)</td>\n",
              "      <td>Fresh</td>\n",
              "      <td>With a top-notch cast and dazzling special eff...</td>\n",
              "      <td>Percy Jackson &amp; the Olympians: The Lightning T...</td>\n",
              "      <td>Always trouble-prone, the life of teenager Per...</td>\n",
              "      <td>Though it may seem like just another Harry Pot...</td>\n",
              "      <td>PG</td>\n",
              "      <td>Action &amp; Adventure, Comedy, Drama, Science Fic...</td>\n",
              "      <td>Chris Columbus</td>\n",
              "      <td>Craig Titley, Chris Columbus, Rick Riordan</td>\n",
              "      <td>Logan Lerman, Brandon T. Jackson, Alexandra Da...</td>\n",
              "      <td>20th Century Fox</td>\n",
              "      <td>Rotten</td>\n",
              "      <td>Spilled</td>\n",
              "    </tr>\n",
              "    <tr>\n",
              "      <th>3</th>\n",
              "      <td>m/0814255</td>\n",
              "      <td>Ben McEachen</td>\n",
              "      <td>False</td>\n",
              "      <td>Sunday Mail (Australia)</td>\n",
              "      <td>Fresh</td>\n",
              "      <td>Whether audiences will get behind The Lightnin...</td>\n",
              "      <td>Percy Jackson &amp; the Olympians: The Lightning T...</td>\n",
              "      <td>Always trouble-prone, the life of teenager Per...</td>\n",
              "      <td>Though it may seem like just another Harry Pot...</td>\n",
              "      <td>PG</td>\n",
              "      <td>Action &amp; Adventure, Comedy, Drama, Science Fic...</td>\n",
              "      <td>Chris Columbus</td>\n",
              "      <td>Craig Titley, Chris Columbus, Rick Riordan</td>\n",
              "      <td>Logan Lerman, Brandon T. Jackson, Alexandra Da...</td>\n",
              "      <td>20th Century Fox</td>\n",
              "      <td>Rotten</td>\n",
              "      <td>Spilled</td>\n",
              "    </tr>\n",
              "    <tr>\n",
              "      <th>4</th>\n",
              "      <td>m/0814255</td>\n",
              "      <td>Ethan Alter</td>\n",
              "      <td>True</td>\n",
              "      <td>Hollywood Reporter</td>\n",
              "      <td>Rotten</td>\n",
              "      <td>What's really lacking in The Lightning Thief i...</td>\n",
              "      <td>Percy Jackson &amp; the Olympians: The Lightning T...</td>\n",
              "      <td>Always trouble-prone, the life of teenager Per...</td>\n",
              "      <td>Though it may seem like just another Harry Pot...</td>\n",
              "      <td>PG</td>\n",
              "      <td>Action &amp; Adventure, Comedy, Drama, Science Fic...</td>\n",
              "      <td>Chris Columbus</td>\n",
              "      <td>Craig Titley, Chris Columbus, Rick Riordan</td>\n",
              "      <td>Logan Lerman, Brandon T. Jackson, Alexandra Da...</td>\n",
              "      <td>20th Century Fox</td>\n",
              "      <td>Rotten</td>\n",
              "      <td>Spilled</td>\n",
              "    </tr>\n",
              "    <tr>\n",
              "      <th>...</th>\n",
              "      <td>...</td>\n",
              "      <td>...</td>\n",
              "      <td>...</td>\n",
              "      <td>...</td>\n",
              "      <td>...</td>\n",
              "      <td>...</td>\n",
              "      <td>...</td>\n",
              "      <td>...</td>\n",
              "      <td>...</td>\n",
              "      <td>...</td>\n",
              "      <td>...</td>\n",
              "      <td>...</td>\n",
              "      <td>...</td>\n",
              "      <td>...</td>\n",
              "      <td>...</td>\n",
              "      <td>...</td>\n",
              "      <td>...</td>\n",
              "    </tr>\n",
              "    <tr>\n",
              "      <th>1129882</th>\n",
              "      <td>m/zulu_dawn</td>\n",
              "      <td>Chuck O'Leary</td>\n",
              "      <td>False</td>\n",
              "      <td>Fantastica Daily</td>\n",
              "      <td>Rotten</td>\n",
              "      <td>NaN</td>\n",
              "      <td>Zulu Dawn</td>\n",
              "      <td>Sir Henry Bartle Frere's (John Mills) vastly o...</td>\n",
              "      <td>NaN</td>\n",
              "      <td>PG</td>\n",
              "      <td>Action &amp; Adventure, Art House &amp; International,...</td>\n",
              "      <td>Douglas Hickox</td>\n",
              "      <td>Cy Endfield, Anthony Storey</td>\n",
              "      <td>Burt Lancaster, Peter O'Toole, Simon Ward, Joh...</td>\n",
              "      <td>Tango Entertainment</td>\n",
              "      <td>Rotten</td>\n",
              "      <td>Upright</td>\n",
              "    </tr>\n",
              "    <tr>\n",
              "      <th>1129883</th>\n",
              "      <td>m/zulu_dawn</td>\n",
              "      <td>Ken Hanke</td>\n",
              "      <td>False</td>\n",
              "      <td>Mountain Xpress (Asheville, NC)</td>\n",
              "      <td>Fresh</td>\n",
              "      <td>Seen today, it's not only a startling indictme...</td>\n",
              "      <td>Zulu Dawn</td>\n",
              "      <td>Sir Henry Bartle Frere's (John Mills) vastly o...</td>\n",
              "      <td>NaN</td>\n",
              "      <td>PG</td>\n",
              "      <td>Action &amp; Adventure, Art House &amp; International,...</td>\n",
              "      <td>Douglas Hickox</td>\n",
              "      <td>Cy Endfield, Anthony Storey</td>\n",
              "      <td>Burt Lancaster, Peter O'Toole, Simon Ward, Joh...</td>\n",
              "      <td>Tango Entertainment</td>\n",
              "      <td>Rotten</td>\n",
              "      <td>Upright</td>\n",
              "    </tr>\n",
              "    <tr>\n",
              "      <th>1129884</th>\n",
              "      <td>m/zulu_dawn</td>\n",
              "      <td>Dennis Schwartz</td>\n",
              "      <td>False</td>\n",
              "      <td>Dennis Schwartz Movie Reviews</td>\n",
              "      <td>Fresh</td>\n",
              "      <td>A rousing visual spectacle that's a prequel of...</td>\n",
              "      <td>Zulu Dawn</td>\n",
              "      <td>Sir Henry Bartle Frere's (John Mills) vastly o...</td>\n",
              "      <td>NaN</td>\n",
              "      <td>PG</td>\n",
              "      <td>Action &amp; Adventure, Art House &amp; International,...</td>\n",
              "      <td>Douglas Hickox</td>\n",
              "      <td>Cy Endfield, Anthony Storey</td>\n",
              "      <td>Burt Lancaster, Peter O'Toole, Simon Ward, Joh...</td>\n",
              "      <td>Tango Entertainment</td>\n",
              "      <td>Rotten</td>\n",
              "      <td>Upright</td>\n",
              "    </tr>\n",
              "    <tr>\n",
              "      <th>1129885</th>\n",
              "      <td>m/zulu_dawn</td>\n",
              "      <td>Christopher Lloyd</td>\n",
              "      <td>False</td>\n",
              "      <td>Sarasota Herald-Tribune</td>\n",
              "      <td>Rotten</td>\n",
              "      <td>A simple two-act story: Prelude to war, and th...</td>\n",
              "      <td>Zulu Dawn</td>\n",
              "      <td>Sir Henry Bartle Frere's (John Mills) vastly o...</td>\n",
              "      <td>NaN</td>\n",
              "      <td>PG</td>\n",
              "      <td>Action &amp; Adventure, Art House &amp; International,...</td>\n",
              "      <td>Douglas Hickox</td>\n",
              "      <td>Cy Endfield, Anthony Storey</td>\n",
              "      <td>Burt Lancaster, Peter O'Toole, Simon Ward, Joh...</td>\n",
              "      <td>Tango Entertainment</td>\n",
              "      <td>Rotten</td>\n",
              "      <td>Upright</td>\n",
              "    </tr>\n",
              "    <tr>\n",
              "      <th>1129886</th>\n",
              "      <td>m/zulu_dawn</td>\n",
              "      <td>Brent McKnight</td>\n",
              "      <td>False</td>\n",
              "      <td>The Last Thing I See</td>\n",
              "      <td>Rotten</td>\n",
              "      <td>Rides the line between being a pure artifact o...</td>\n",
              "      <td>Zulu Dawn</td>\n",
              "      <td>Sir Henry Bartle Frere's (John Mills) vastly o...</td>\n",
              "      <td>NaN</td>\n",
              "      <td>PG</td>\n",
              "      <td>Action &amp; Adventure, Art House &amp; International,...</td>\n",
              "      <td>Douglas Hickox</td>\n",
              "      <td>Cy Endfield, Anthony Storey</td>\n",
              "      <td>Burt Lancaster, Peter O'Toole, Simon Ward, Joh...</td>\n",
              "      <td>Tango Entertainment</td>\n",
              "      <td>Rotten</td>\n",
              "      <td>Upright</td>\n",
              "    </tr>\n",
              "  </tbody>\n",
              "</table>\n",
              "<p>1129887 rows × 17 columns</p>\n",
              "</div>\n",
              "    <div class=\"colab-df-buttons\">\n",
              "\n",
              "  <div class=\"colab-df-container\">\n",
              "    <button class=\"colab-df-convert\" onclick=\"convertToInteractive('df-9e4f1947-5cec-41f5-a471-661af19e1ccb')\"\n",
              "            title=\"Convert this dataframe to an interactive table.\"\n",
              "            style=\"display:none;\">\n",
              "\n",
              "  <svg xmlns=\"http://www.w3.org/2000/svg\" height=\"24px\" viewBox=\"0 -960 960 960\">\n",
              "    <path d=\"M120-120v-720h720v720H120Zm60-500h600v-160H180v160Zm220 220h160v-160H400v160Zm0 220h160v-160H400v160ZM180-400h160v-160H180v160Zm440 0h160v-160H620v160ZM180-180h160v-160H180v160Zm440 0h160v-160H620v160Z\"/>\n",
              "  </svg>\n",
              "    </button>\n",
              "\n",
              "  <style>\n",
              "    .colab-df-container {\n",
              "      display:flex;\n",
              "      gap: 12px;\n",
              "    }\n",
              "\n",
              "    .colab-df-convert {\n",
              "      background-color: #E8F0FE;\n",
              "      border: none;\n",
              "      border-radius: 50%;\n",
              "      cursor: pointer;\n",
              "      display: none;\n",
              "      fill: #1967D2;\n",
              "      height: 32px;\n",
              "      padding: 0 0 0 0;\n",
              "      width: 32px;\n",
              "    }\n",
              "\n",
              "    .colab-df-convert:hover {\n",
              "      background-color: #E2EBFA;\n",
              "      box-shadow: 0px 1px 2px rgba(60, 64, 67, 0.3), 0px 1px 3px 1px rgba(60, 64, 67, 0.15);\n",
              "      fill: #174EA6;\n",
              "    }\n",
              "\n",
              "    .colab-df-buttons div {\n",
              "      margin-bottom: 4px;\n",
              "    }\n",
              "\n",
              "    [theme=dark] .colab-df-convert {\n",
              "      background-color: #3B4455;\n",
              "      fill: #D2E3FC;\n",
              "    }\n",
              "\n",
              "    [theme=dark] .colab-df-convert:hover {\n",
              "      background-color: #434B5C;\n",
              "      box-shadow: 0px 1px 3px 1px rgba(0, 0, 0, 0.15);\n",
              "      filter: drop-shadow(0px 1px 2px rgba(0, 0, 0, 0.3));\n",
              "      fill: #FFFFFF;\n",
              "    }\n",
              "  </style>\n",
              "\n",
              "    <script>\n",
              "      const buttonEl =\n",
              "        document.querySelector('#df-9e4f1947-5cec-41f5-a471-661af19e1ccb button.colab-df-convert');\n",
              "      buttonEl.style.display =\n",
              "        google.colab.kernel.accessAllowed ? 'block' : 'none';\n",
              "\n",
              "      async function convertToInteractive(key) {\n",
              "        const element = document.querySelector('#df-9e4f1947-5cec-41f5-a471-661af19e1ccb');\n",
              "        const dataTable =\n",
              "          await google.colab.kernel.invokeFunction('convertToInteractive',\n",
              "                                                    [key], {});\n",
              "        if (!dataTable) return;\n",
              "\n",
              "        const docLinkHtml = 'Like what you see? Visit the ' +\n",
              "          '<a target=\"_blank\" href=https://colab.research.google.com/notebooks/data_table.ipynb>data table notebook</a>'\n",
              "          + ' to learn more about interactive tables.';\n",
              "        element.innerHTML = '';\n",
              "        dataTable['output_type'] = 'display_data';\n",
              "        await google.colab.output.renderOutput(dataTable, element);\n",
              "        const docLink = document.createElement('div');\n",
              "        docLink.innerHTML = docLinkHtml;\n",
              "        element.appendChild(docLink);\n",
              "      }\n",
              "    </script>\n",
              "  </div>\n",
              "\n",
              "\n",
              "<div id=\"df-b251f961-042d-45c4-b38e-77f299cd5615\">\n",
              "  <button class=\"colab-df-quickchart\" onclick=\"quickchart('df-b251f961-042d-45c4-b38e-77f299cd5615')\"\n",
              "            title=\"Suggest charts\"\n",
              "            style=\"display:none;\">\n",
              "\n",
              "<svg xmlns=\"http://www.w3.org/2000/svg\" height=\"24px\"viewBox=\"0 0 24 24\"\n",
              "     width=\"24px\">\n",
              "    <g>\n",
              "        <path d=\"M19 3H5c-1.1 0-2 .9-2 2v14c0 1.1.9 2 2 2h14c1.1 0 2-.9 2-2V5c0-1.1-.9-2-2-2zM9 17H7v-7h2v7zm4 0h-2V7h2v10zm4 0h-2v-4h2v4z\"/>\n",
              "    </g>\n",
              "</svg>\n",
              "  </button>\n",
              "\n",
              "<style>\n",
              "  .colab-df-quickchart {\n",
              "      --bg-color: #E8F0FE;\n",
              "      --fill-color: #1967D2;\n",
              "      --hover-bg-color: #E2EBFA;\n",
              "      --hover-fill-color: #174EA6;\n",
              "      --disabled-fill-color: #AAA;\n",
              "      --disabled-bg-color: #DDD;\n",
              "  }\n",
              "\n",
              "  [theme=dark] .colab-df-quickchart {\n",
              "      --bg-color: #3B4455;\n",
              "      --fill-color: #D2E3FC;\n",
              "      --hover-bg-color: #434B5C;\n",
              "      --hover-fill-color: #FFFFFF;\n",
              "      --disabled-bg-color: #3B4455;\n",
              "      --disabled-fill-color: #666;\n",
              "  }\n",
              "\n",
              "  .colab-df-quickchart {\n",
              "    background-color: var(--bg-color);\n",
              "    border: none;\n",
              "    border-radius: 50%;\n",
              "    cursor: pointer;\n",
              "    display: none;\n",
              "    fill: var(--fill-color);\n",
              "    height: 32px;\n",
              "    padding: 0;\n",
              "    width: 32px;\n",
              "  }\n",
              "\n",
              "  .colab-df-quickchart:hover {\n",
              "    background-color: var(--hover-bg-color);\n",
              "    box-shadow: 0 1px 2px rgba(60, 64, 67, 0.3), 0 1px 3px 1px rgba(60, 64, 67, 0.15);\n",
              "    fill: var(--button-hover-fill-color);\n",
              "  }\n",
              "\n",
              "  .colab-df-quickchart-complete:disabled,\n",
              "  .colab-df-quickchart-complete:disabled:hover {\n",
              "    background-color: var(--disabled-bg-color);\n",
              "    fill: var(--disabled-fill-color);\n",
              "    box-shadow: none;\n",
              "  }\n",
              "\n",
              "  .colab-df-spinner {\n",
              "    border: 2px solid var(--fill-color);\n",
              "    border-color: transparent;\n",
              "    border-bottom-color: var(--fill-color);\n",
              "    animation:\n",
              "      spin 1s steps(1) infinite;\n",
              "  }\n",
              "\n",
              "  @keyframes spin {\n",
              "    0% {\n",
              "      border-color: transparent;\n",
              "      border-bottom-color: var(--fill-color);\n",
              "      border-left-color: var(--fill-color);\n",
              "    }\n",
              "    20% {\n",
              "      border-color: transparent;\n",
              "      border-left-color: var(--fill-color);\n",
              "      border-top-color: var(--fill-color);\n",
              "    }\n",
              "    30% {\n",
              "      border-color: transparent;\n",
              "      border-left-color: var(--fill-color);\n",
              "      border-top-color: var(--fill-color);\n",
              "      border-right-color: var(--fill-color);\n",
              "    }\n",
              "    40% {\n",
              "      border-color: transparent;\n",
              "      border-right-color: var(--fill-color);\n",
              "      border-top-color: var(--fill-color);\n",
              "    }\n",
              "    60% {\n",
              "      border-color: transparent;\n",
              "      border-right-color: var(--fill-color);\n",
              "    }\n",
              "    80% {\n",
              "      border-color: transparent;\n",
              "      border-right-color: var(--fill-color);\n",
              "      border-bottom-color: var(--fill-color);\n",
              "    }\n",
              "    90% {\n",
              "      border-color: transparent;\n",
              "      border-bottom-color: var(--fill-color);\n",
              "    }\n",
              "  }\n",
              "</style>\n",
              "\n",
              "  <script>\n",
              "    async function quickchart(key) {\n",
              "      const quickchartButtonEl =\n",
              "        document.querySelector('#' + key + ' button');\n",
              "      quickchartButtonEl.disabled = true;  // To prevent multiple clicks.\n",
              "      quickchartButtonEl.classList.add('colab-df-spinner');\n",
              "      try {\n",
              "        const charts = await google.colab.kernel.invokeFunction(\n",
              "            'suggestCharts', [key], {});\n",
              "      } catch (error) {\n",
              "        console.error('Error during call to suggestCharts:', error);\n",
              "      }\n",
              "      quickchartButtonEl.classList.remove('colab-df-spinner');\n",
              "      quickchartButtonEl.classList.add('colab-df-quickchart-complete');\n",
              "    }\n",
              "    (() => {\n",
              "      let quickchartButtonEl =\n",
              "        document.querySelector('#df-b251f961-042d-45c4-b38e-77f299cd5615 button');\n",
              "      quickchartButtonEl.style.display =\n",
              "        google.colab.kernel.accessAllowed ? 'block' : 'none';\n",
              "    })();\n",
              "  </script>\n",
              "</div>\n",
              "\n",
              "  <div id=\"id_cd74900c-8f9c-46b6-b35c-0e27f07470cb\">\n",
              "    <style>\n",
              "      .colab-df-generate {\n",
              "        background-color: #E8F0FE;\n",
              "        border: none;\n",
              "        border-radius: 50%;\n",
              "        cursor: pointer;\n",
              "        display: none;\n",
              "        fill: #1967D2;\n",
              "        height: 32px;\n",
              "        padding: 0 0 0 0;\n",
              "        width: 32px;\n",
              "      }\n",
              "\n",
              "      .colab-df-generate:hover {\n",
              "        background-color: #E2EBFA;\n",
              "        box-shadow: 0px 1px 2px rgba(60, 64, 67, 0.3), 0px 1px 3px 1px rgba(60, 64, 67, 0.15);\n",
              "        fill: #174EA6;\n",
              "      }\n",
              "\n",
              "      [theme=dark] .colab-df-generate {\n",
              "        background-color: #3B4455;\n",
              "        fill: #D2E3FC;\n",
              "      }\n",
              "\n",
              "      [theme=dark] .colab-df-generate:hover {\n",
              "        background-color: #434B5C;\n",
              "        box-shadow: 0px 1px 3px 1px rgba(0, 0, 0, 0.15);\n",
              "        filter: drop-shadow(0px 1px 2px rgba(0, 0, 0, 0.3));\n",
              "        fill: #FFFFFF;\n",
              "      }\n",
              "    </style>\n",
              "    <button class=\"colab-df-generate\" onclick=\"generateWithVariable('df_total')\"\n",
              "            title=\"Generate code using this dataframe.\"\n",
              "            style=\"display:none;\">\n",
              "\n",
              "  <svg xmlns=\"http://www.w3.org/2000/svg\" height=\"24px\"viewBox=\"0 0 24 24\"\n",
              "       width=\"24px\">\n",
              "    <path d=\"M7,19H8.4L18.45,9,17,7.55,7,17.6ZM5,21V16.75L18.45,3.32a2,2,0,0,1,2.83,0l1.4,1.43a1.91,1.91,0,0,1,.58,1.4,1.91,1.91,0,0,1-.58,1.4L9.25,21ZM18.45,9,17,7.55Zm-12,3A5.31,5.31,0,0,0,4.9,8.1,5.31,5.31,0,0,0,1,6.5,5.31,5.31,0,0,0,4.9,4.9,5.31,5.31,0,0,0,6.5,1,5.31,5.31,0,0,0,8.1,4.9,5.31,5.31,0,0,0,12,6.5,5.46,5.46,0,0,0,6.5,12Z\"/>\n",
              "  </svg>\n",
              "    </button>\n",
              "    <script>\n",
              "      (() => {\n",
              "      const buttonEl =\n",
              "        document.querySelector('#id_cd74900c-8f9c-46b6-b35c-0e27f07470cb button.colab-df-generate');\n",
              "      buttonEl.style.display =\n",
              "        google.colab.kernel.accessAllowed ? 'block' : 'none';\n",
              "\n",
              "      buttonEl.onclick = () => {\n",
              "        google.colab.notebook.generateWithVariable('df_total');\n",
              "      }\n",
              "      })();\n",
              "    </script>\n",
              "  </div>\n",
              "\n",
              "    </div>\n",
              "  </div>\n"
            ],
            "application/vnd.google.colaboratory.intrinsic+json": {
              "type": "dataframe",
              "variable_name": "df_total"
            }
          },
          "metadata": {},
          "execution_count": 14
        }
      ]
    },
    {
      "cell_type": "markdown",
      "source": [
        "#Preprocesamiento"
      ],
      "metadata": {
        "id": "w1El7ZnOv6VY"
      }
    },
    {
      "cell_type": "markdown",
      "source": [
        "Iniciamos un preprocesamiento tomando en base a un archivo de stopwords, seguido instalamos punkt y punk_tab lo cual son los recursos necesarios de NLTK para tokenizar texto en oraciones y palabras"
      ],
      "metadata": {
        "id": "fVaDICJ5v-bG"
      }
    },
    {
      "cell_type": "code",
      "source": [
        "\n",
        "\n",
        "# Descargar recursos necesarios para NLTK\n",
        "nltk.download('punkt')\n",
        "nltk.download('wordnet')\n",
        "nltk.download('stopwords')\n",
        "nltk.download('punkt_tab')\n",
        "\n",
        "\n"
      ],
      "metadata": {
        "id": "HEk2fpJiVgNF",
        "colab": {
          "base_uri": "https://localhost:8080/"
        },
        "outputId": "b7762aa0-63f6-4bbd-e91d-2856857f7115"
      },
      "execution_count": 15,
      "outputs": [
        {
          "output_type": "stream",
          "name": "stderr",
          "text": [
            "[nltk_data] Downloading package punkt to /root/nltk_data...\n",
            "[nltk_data]   Unzipping tokenizers/punkt.zip.\n",
            "[nltk_data] Downloading package wordnet to /root/nltk_data...\n",
            "[nltk_data] Downloading package stopwords to /root/nltk_data...\n",
            "[nltk_data]   Unzipping corpora/stopwords.zip.\n",
            "[nltk_data] Downloading package punkt_tab to /root/nltk_data...\n",
            "[nltk_data]   Unzipping tokenizers/punkt_tab.zip.\n"
          ]
        },
        {
          "output_type": "execute_result",
          "data": {
            "text/plain": [
              "True"
            ]
          },
          "metadata": {},
          "execution_count": 15
        }
      ]
    },
    {
      "cell_type": "markdown",
      "source": [
        "##En base al archivo que tenemos de stopwords, cargamos para eliminar estas mismas"
      ],
      "metadata": {
        "id": "Xo2g5vajbKVl"
      }
    },
    {
      "cell_type": "code",
      "source": [
        "\n",
        "# Cargar archivo de stopwords proporcionado\n",
        "with open('stopwords', 'r') as f:\n",
        "    custom_stopwords = set(f.read().splitlines())\n"
      ],
      "metadata": {
        "id": "JEjwJ9dsYOZe"
      },
      "execution_count": 16,
      "outputs": []
    },
    {
      "cell_type": "markdown",
      "source": [
        "###En esta parte se define la función para el preprocesamiento"
      ],
      "metadata": {
        "id": "YbasIuVsbXE2"
      }
    },
    {
      "cell_type": "code",
      "source": [
        "\n",
        "# Función de preprocesamiento\n",
        "def preprocess_text(text):\n",
        "    # 1. Convertir a minúsculas\n",
        "    text = text.lower()\n",
        "\n",
        "    # 2. Eliminar caracteres especiales\n",
        "    text = re.sub(r'[^a-z\\s]', '', text)\n",
        "\n",
        "    # 3. Eliminar stopwords\n",
        "    words = text.split()\n",
        "    words = [word for word in words if word not in custom_stopwords]\n",
        "\n",
        "    # 4. Lematización\n",
        "    lemmatizer = WordNetLemmatizer()\n",
        "    words = [lemmatizer.lemmatize(word) for word in words]\n",
        "\n",
        "    return ' '.join(words)\n",
        "\n"
      ],
      "metadata": {
        "id": "5zBe75cFYTt0"
      },
      "execution_count": 17,
      "outputs": []
    },
    {
      "cell_type": "markdown",
      "source": [
        "###Aplicamos la función a las 3 columnas a utilizar, que son el titulo de la película, el género y el contenido review"
      ],
      "metadata": {
        "id": "iRS3IMtmbfYl"
      }
    },
    {
      "cell_type": "code",
      "source": [
        "\n",
        "# Aplicar preprocesamiento a las columnas específicas\n",
        "columns_to_preprocess = ['movie_title', 'genres', 'review_content']\n",
        "for column in columns_to_preprocess:\n",
        "    df_total[column] = df_total[column].astype(str).apply(preprocess_text)\n",
        "\n",
        "# Vectorización con TF-IDF\n",
        "vectorizer = TfidfVectorizer()\n",
        "tfidf_matrix = vectorizer.fit_transform(df_total['review_content'])  # Solo para review_content\n"
      ],
      "metadata": {
        "id": "X4Vbhy8BYXh1"
      },
      "execution_count": 19,
      "outputs": []
    },
    {
      "cell_type": "markdown",
      "source": [
        "Ahora habiendo terminado la función y el vectorizado procedesmos a realizar la función de procesar y busqeuda de querys"
      ],
      "metadata": {
        "id": "2ZGR9vpabq1o"
      }
    },
    {
      "cell_type": "code",
      "source": [
        "\n",
        "# Función para procesar consultas y buscar resultados\n",
        "def search_query(query, tfidf_matrix, df_total, vectorizer):\n",
        "    # Preprocesar la consulta\n",
        "    processed_query = preprocess_text(query)\n",
        "\n",
        "    # Vectorizar la consulta\n",
        "    query_vector = vectorizer.transform([processed_query])\n",
        "\n",
        "    # Calcular similitud de coseno\n",
        "    similarities = cosine_similarity(query_vector, tfidf_matrix).flatten()\n",
        "\n",
        "    # Obtener índices de las películas más relevantes\n",
        "    relevant_indices = similarities.argsort()[::-1][:10]  # Top 10 resultados\n",
        "\n",
        "    # Mostrar resultados ordenados\n",
        "    results = df_total.iloc[relevant_indices]\n",
        "    results['similarity'] = similarities[relevant_indices]\n",
        "    return results[['movie_title', 'genres', 'similarity']]\n"
      ],
      "metadata": {
        "id": "Gp8-VgnSYcrg"
      },
      "execution_count": 22,
      "outputs": []
    },
    {
      "cell_type": "markdown",
      "source": [
        "###Por ultimo se determina la similitud que se obtuvo de la busqueda  y adicional se agrego los resultados con el porcentaje de similitud"
      ],
      "metadata": {
        "id": "8ygPMlqQb4GY"
      }
    },
    {
      "cell_type": "code",
      "source": [
        "\n",
        "# Ejemplo de consulta\n",
        "query = \"Películas sobre viajes espaciales\"\n",
        "results = search_query(query, tfidf_matrix, df_total, vectorizer)\n",
        "\n",
        "# Mostrar resultados\n",
        "print(results)\n",
        "# Mostrar resultados con porcentaje de similitud\n",
        "results = search_query(query, tfidf_matrix, df_total, vectorizer)\n",
        "results['similarity'] = (results['similarity'] * 100).round(2)  # Convertir a porcentaje\n",
        "print(results)"
      ],
      "metadata": {
        "colab": {
          "base_uri": "https://localhost:8080/"
        },
        "id": "b5aIM8dRYfoI",
        "outputId": "b79f824f-839d-40ad-838b-42376f48ed7a"
      },
      "execution_count": 23,
      "outputs": [
        {
          "output_type": "stream",
          "name": "stderr",
          "text": [
            "<ipython-input-22-cb7ea5f6d973>:17: SettingWithCopyWarning: \n",
            "A value is trying to be set on a copy of a slice from a DataFrame.\n",
            "Try using .loc[row_indexer,col_indexer] = value instead\n",
            "\n",
            "See the caveats in the documentation: https://pandas.pydata.org/pandas-docs/stable/user_guide/indexing.html#returning-a-view-versus-a-copy\n",
            "  results['similarity'] = similarities[relevant_indices]\n"
          ]
        },
        {
          "output_type": "stream",
          "name": "stdout",
          "text": [
            "                       movie_title  \\\n",
            "340538                fiddler roof   \n",
            "1035528                   thirteen   \n",
            "551600                    man past   \n",
            "370745                        real   \n",
            "129413             american psycho   \n",
            "1112564                     paddle   \n",
            "363579                frozen river   \n",
            "389228   grave firefly hotaru haka   \n",
            "146845         assassination tango   \n",
            "85654                                \n",
            "\n",
            "                                                    genres  similarity  \n",
            "340538   classic comedy drama kid family musical perfor...    0.308602  \n",
            "1035528                                              drama    0.289632  \n",
            "551600                art house international comedy drama    0.285193  \n",
            "370745                            comedy drama gay lesbian    0.281453  \n",
            "129413                comedy drama horror mystery suspense    0.281131  \n",
            "1112564                                             comedy    0.256360  \n",
            "363579                                               drama    0.251773  \n",
            "389228   animation anime manga art house international ...    0.248005  \n",
            "146845             action adventure drama mystery suspense    0.243433  \n",
            "85654                drama science fiction fantasy romance    0.241586  \n",
            "                       movie_title  \\\n",
            "340538                fiddler roof   \n",
            "1035528                   thirteen   \n",
            "551600                    man past   \n",
            "370745                        real   \n",
            "129413             american psycho   \n",
            "1112564                     paddle   \n",
            "363579                frozen river   \n",
            "389228   grave firefly hotaru haka   \n",
            "146845         assassination tango   \n",
            "85654                                \n",
            "\n",
            "                                                    genres  similarity  \n",
            "340538   classic comedy drama kid family musical perfor...       30.86  \n",
            "1035528                                              drama       28.96  \n",
            "551600                art house international comedy drama       28.52  \n",
            "370745                            comedy drama gay lesbian       28.15  \n",
            "129413                comedy drama horror mystery suspense       28.11  \n",
            "1112564                                             comedy       25.64  \n",
            "363579                                               drama       25.18  \n",
            "389228   animation anime manga art house international ...       24.80  \n",
            "146845             action adventure drama mystery suspense       24.34  \n",
            "85654                drama science fiction fantasy romance       24.16  \n"
          ]
        },
        {
          "output_type": "stream",
          "name": "stderr",
          "text": [
            "<ipython-input-22-cb7ea5f6d973>:17: SettingWithCopyWarning: \n",
            "A value is trying to be set on a copy of a slice from a DataFrame.\n",
            "Try using .loc[row_indexer,col_indexer] = value instead\n",
            "\n",
            "See the caveats in the documentation: https://pandas.pydata.org/pandas-docs/stable/user_guide/indexing.html#returning-a-view-versus-a-copy\n",
            "  results['similarity'] = similarities[relevant_indices]\n"
          ]
        }
      ]
    },
    {
      "cell_type": "markdown",
      "source": [
        "##Conclusion\n",
        "El sistema de recuperación de información ha logrado identificar un conjunto de 10 películas relevantes basándose en la similitud textual con la consulta ingresada. Los resultados muestran que la película \"fiddler roof\" obtuvo la mayor puntuación de similitud, con un 30.86%, indicando una correspondencia significativa con los términos de la consulta. Por otro lado, la décima película, con un 24.16% de similitud, representa un nivel de relevancia más bajo pero aún relacionado con la búsqueda.\n",
        "\n",
        "El rango de similitudes sugiere que las películas encontradas tienen distintos grados de afinidad con la consulta, lo cual es una característica típica de los sistemas basados en TF-IDF y similitud de coseno. Además, la diversidad en los géneros asociados a las películas indica que el sistema puede recuperar resultados que abarcan múltiples categorías relevantes, como drama, comedia o ciencia ficción, en función del contenido textual de las reseñas."
      ],
      "metadata": {
        "id": "wfml0K0CwWc4"
      }
    }
  ]
}